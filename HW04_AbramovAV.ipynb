{
 "cells": [
  {
   "cell_type": "markdown",
   "id": "766d9456",
   "metadata": {},
   "source": [
    "### Домашняя работа к уроку 4\n",
    "### Студент: Абрамов А.В."
   ]
  },
  {
   "cell_type": "markdown",
   "id": "300c5257",
   "metadata": {},
   "source": [
    "Скачиваем датасет ([источник](http://study.mokoron.com/)): [положительные](https://www.dropbox.com/s/fnpq3z4bcnoktiv/positive.csv?dl=0), [отрицательные](https://www.dropbox.com/s/r6u59ljhhjdg6j0/negative.csv)\n",
    "\n",
    "1. объединить в одну выборку (это только для твитов), для роспотребнадзора сформировать датасет из вопросов\n",
    "2. провести исследование и выявить тематики о которых говорят в твитах (для твитов), а для роспотребнадзора так же выявить тематики о которых люди пишут проанализировать\n",
    "3. сделать визуализацию кластеров тематик\n",
    "4. проинтерпритировать получившиеся тематики"
   ]
  },
  {
   "cell_type": "code",
   "execution_count": 25,
   "id": "6ed0c9de",
   "metadata": {
    "ExecuteTime": {
     "end_time": "2024-01-09T19:56:58.745628Z",
     "start_time": "2024-01-09T19:56:58.360668Z"
    }
   },
   "outputs": [],
   "source": [
    "import pandas as pd\n",
    "import numpy as np\n",
    "from sklearn.metrics import *\n",
    "from sklearn.model_selection import train_test_split\n",
    "from sklearn.pipeline import Pipeline\n",
    "import nltk\n",
    "import re\n",
    "from nltk.corpus import stopwords\n",
    "from tqdm.notebook import tqdm\n",
    "from multiprocessing import Pool\n",
    "from pymystem3 import Mystem\n",
    "\n",
    "import matplotlib.pyplot as plt\n",
    "%matplotlib inline"
   ]
  },
  {
   "cell_type": "code",
   "execution_count": 2,
   "id": "2030b31c",
   "metadata": {
    "ExecuteTime": {
     "end_time": "2024-01-09T19:51:03.449887Z",
     "start_time": "2024-01-09T19:51:03.071899Z"
    }
   },
   "outputs": [
    {
     "data": {
      "text/html": [
       "<div>\n",
       "<style scoped>\n",
       "    .dataframe tbody tr th:only-of-type {\n",
       "        vertical-align: middle;\n",
       "    }\n",
       "\n",
       "    .dataframe tbody tr th {\n",
       "        vertical-align: top;\n",
       "    }\n",
       "\n",
       "    .dataframe thead th {\n",
       "        text-align: right;\n",
       "    }\n",
       "</style>\n",
       "<table border=\"1\" class=\"dataframe\">\n",
       "  <thead>\n",
       "    <tr style=\"text-align: right;\">\n",
       "      <th></th>\n",
       "      <th>0</th>\n",
       "      <th>1</th>\n",
       "      <th>2</th>\n",
       "      <th>text</th>\n",
       "      <th>4</th>\n",
       "      <th>5</th>\n",
       "      <th>6</th>\n",
       "      <th>7</th>\n",
       "      <th>8</th>\n",
       "      <th>9</th>\n",
       "      <th>10</th>\n",
       "      <th>11</th>\n",
       "    </tr>\n",
       "  </thead>\n",
       "  <tbody>\n",
       "    <tr>\n",
       "      <th>0</th>\n",
       "      <td>408906692374446080</td>\n",
       "      <td>1386325927</td>\n",
       "      <td>pleease_shut_up</td>\n",
       "      <td>@first_timee хоть я и школота, но поверь, у на...</td>\n",
       "      <td>1</td>\n",
       "      <td>0</td>\n",
       "      <td>0</td>\n",
       "      <td>0</td>\n",
       "      <td>7569</td>\n",
       "      <td>62</td>\n",
       "      <td>61</td>\n",
       "      <td>0</td>\n",
       "    </tr>\n",
       "    <tr>\n",
       "      <th>1</th>\n",
       "      <td>408906692693221377</td>\n",
       "      <td>1386325927</td>\n",
       "      <td>alinakirpicheva</td>\n",
       "      <td>Да, все-таки он немного похож на него. Но мой ...</td>\n",
       "      <td>1</td>\n",
       "      <td>0</td>\n",
       "      <td>0</td>\n",
       "      <td>0</td>\n",
       "      <td>11825</td>\n",
       "      <td>59</td>\n",
       "      <td>31</td>\n",
       "      <td>2</td>\n",
       "    </tr>\n",
       "    <tr>\n",
       "      <th>2</th>\n",
       "      <td>408906695083954177</td>\n",
       "      <td>1386325927</td>\n",
       "      <td>EvgeshaRe</td>\n",
       "      <td>RT @KatiaCheh: Ну ты идиотка) я испугалась за ...</td>\n",
       "      <td>1</td>\n",
       "      <td>0</td>\n",
       "      <td>1</td>\n",
       "      <td>0</td>\n",
       "      <td>1273</td>\n",
       "      <td>26</td>\n",
       "      <td>27</td>\n",
       "      <td>0</td>\n",
       "    </tr>\n",
       "    <tr>\n",
       "      <th>3</th>\n",
       "      <td>408906695356973056</td>\n",
       "      <td>1386325927</td>\n",
       "      <td>ikonnikova_21</td>\n",
       "      <td>RT @digger2912: \"Кто то в углу сидит и погибае...</td>\n",
       "      <td>1</td>\n",
       "      <td>0</td>\n",
       "      <td>1</td>\n",
       "      <td>0</td>\n",
       "      <td>1549</td>\n",
       "      <td>19</td>\n",
       "      <td>17</td>\n",
       "      <td>0</td>\n",
       "    </tr>\n",
       "    <tr>\n",
       "      <th>4</th>\n",
       "      <td>408906761416867842</td>\n",
       "      <td>1386325943</td>\n",
       "      <td>JumpyAlex</td>\n",
       "      <td>@irina_dyshkant Вот что значит страшилка :D\\nН...</td>\n",
       "      <td>1</td>\n",
       "      <td>0</td>\n",
       "      <td>0</td>\n",
       "      <td>0</td>\n",
       "      <td>597</td>\n",
       "      <td>16</td>\n",
       "      <td>23</td>\n",
       "      <td>1</td>\n",
       "    </tr>\n",
       "  </tbody>\n",
       "</table>\n",
       "</div>"
      ],
      "text/plain": [
       "                    0           1                2  \\\n",
       "0  408906692374446080  1386325927  pleease_shut_up   \n",
       "1  408906692693221377  1386325927  alinakirpicheva   \n",
       "2  408906695083954177  1386325927        EvgeshaRe   \n",
       "3  408906695356973056  1386325927    ikonnikova_21   \n",
       "4  408906761416867842  1386325943        JumpyAlex   \n",
       "\n",
       "                                                text  4  5  6  7      8   9  \\\n",
       "0  @first_timee хоть я и школота, но поверь, у на...  1  0  0  0   7569  62   \n",
       "1  Да, все-таки он немного похож на него. Но мой ...  1  0  0  0  11825  59   \n",
       "2  RT @KatiaCheh: Ну ты идиотка) я испугалась за ...  1  0  1  0   1273  26   \n",
       "3  RT @digger2912: \"Кто то в углу сидит и погибае...  1  0  1  0   1549  19   \n",
       "4  @irina_dyshkant Вот что значит страшилка :D\\nН...  1  0  0  0    597  16   \n",
       "\n",
       "   10  11  \n",
       "0  61   0  \n",
       "1  31   2  \n",
       "2  27   0  \n",
       "3  17   0  \n",
       "4  23   1  "
      ]
     },
     "execution_count": 2,
     "metadata": {},
     "output_type": "execute_result"
    }
   ],
   "source": [
    "positive = pd.read_csv('positive.csv', sep=';', encoding='utf8', header=None)\n",
    "positive = positive.rename(columns={3:'text'})\n",
    "positive.head()"
   ]
  },
  {
   "cell_type": "code",
   "execution_count": 3,
   "id": "e35a77d8",
   "metadata": {
    "ExecuteTime": {
     "end_time": "2024-01-09T19:51:04.808707Z",
     "start_time": "2024-01-09T19:51:04.455688Z"
    },
    "scrolled": true
   },
   "outputs": [
    {
     "data": {
      "text/html": [
       "<div>\n",
       "<style scoped>\n",
       "    .dataframe tbody tr th:only-of-type {\n",
       "        vertical-align: middle;\n",
       "    }\n",
       "\n",
       "    .dataframe tbody tr th {\n",
       "        vertical-align: top;\n",
       "    }\n",
       "\n",
       "    .dataframe thead th {\n",
       "        text-align: right;\n",
       "    }\n",
       "</style>\n",
       "<table border=\"1\" class=\"dataframe\">\n",
       "  <thead>\n",
       "    <tr style=\"text-align: right;\">\n",
       "      <th></th>\n",
       "      <th>0</th>\n",
       "      <th>1</th>\n",
       "      <th>2</th>\n",
       "      <th>text</th>\n",
       "      <th>4</th>\n",
       "      <th>5</th>\n",
       "      <th>6</th>\n",
       "      <th>7</th>\n",
       "      <th>8</th>\n",
       "      <th>9</th>\n",
       "      <th>10</th>\n",
       "      <th>11</th>\n",
       "    </tr>\n",
       "  </thead>\n",
       "  <tbody>\n",
       "    <tr>\n",
       "      <th>0</th>\n",
       "      <td>408906762813579264</td>\n",
       "      <td>1386325944</td>\n",
       "      <td>dugarchikbellko</td>\n",
       "      <td>на работе был полный пиддес :| и так каждое за...</td>\n",
       "      <td>-1</td>\n",
       "      <td>0</td>\n",
       "      <td>0</td>\n",
       "      <td>0</td>\n",
       "      <td>8064</td>\n",
       "      <td>111</td>\n",
       "      <td>94</td>\n",
       "      <td>2</td>\n",
       "    </tr>\n",
       "    <tr>\n",
       "      <th>1</th>\n",
       "      <td>408906818262687744</td>\n",
       "      <td>1386325957</td>\n",
       "      <td>nugemycejela</td>\n",
       "      <td>Коллеги сидят рубятся в Urban terror, а я из-з...</td>\n",
       "      <td>-1</td>\n",
       "      <td>0</td>\n",
       "      <td>0</td>\n",
       "      <td>0</td>\n",
       "      <td>26</td>\n",
       "      <td>42</td>\n",
       "      <td>39</td>\n",
       "      <td>0</td>\n",
       "    </tr>\n",
       "    <tr>\n",
       "      <th>2</th>\n",
       "      <td>408906858515398656</td>\n",
       "      <td>1386325966</td>\n",
       "      <td>4post21</td>\n",
       "      <td>@elina_4post как говорят обещаного три года жд...</td>\n",
       "      <td>-1</td>\n",
       "      <td>0</td>\n",
       "      <td>0</td>\n",
       "      <td>0</td>\n",
       "      <td>718</td>\n",
       "      <td>49</td>\n",
       "      <td>249</td>\n",
       "      <td>0</td>\n",
       "    </tr>\n",
       "    <tr>\n",
       "      <th>3</th>\n",
       "      <td>408906914437685248</td>\n",
       "      <td>1386325980</td>\n",
       "      <td>Poliwake</td>\n",
       "      <td>Желаю хорошего полёта и удачной посадки,я буду...</td>\n",
       "      <td>-1</td>\n",
       "      <td>0</td>\n",
       "      <td>0</td>\n",
       "      <td>0</td>\n",
       "      <td>10628</td>\n",
       "      <td>207</td>\n",
       "      <td>200</td>\n",
       "      <td>0</td>\n",
       "    </tr>\n",
       "    <tr>\n",
       "      <th>4</th>\n",
       "      <td>408906914723295232</td>\n",
       "      <td>1386325980</td>\n",
       "      <td>capyvixowe</td>\n",
       "      <td>Обновил за каким-то лешим surf, теперь не рабо...</td>\n",
       "      <td>-1</td>\n",
       "      <td>0</td>\n",
       "      <td>0</td>\n",
       "      <td>0</td>\n",
       "      <td>35</td>\n",
       "      <td>17</td>\n",
       "      <td>34</td>\n",
       "      <td>0</td>\n",
       "    </tr>\n",
       "  </tbody>\n",
       "</table>\n",
       "</div>"
      ],
      "text/plain": [
       "                    0           1                2  \\\n",
       "0  408906762813579264  1386325944  dugarchikbellko   \n",
       "1  408906818262687744  1386325957     nugemycejela   \n",
       "2  408906858515398656  1386325966          4post21   \n",
       "3  408906914437685248  1386325980         Poliwake   \n",
       "4  408906914723295232  1386325980       capyvixowe   \n",
       "\n",
       "                                                text  4  5  6  7      8    9  \\\n",
       "0  на работе был полный пиддес :| и так каждое за... -1  0  0  0   8064  111   \n",
       "1  Коллеги сидят рубятся в Urban terror, а я из-з... -1  0  0  0     26   42   \n",
       "2  @elina_4post как говорят обещаного три года жд... -1  0  0  0    718   49   \n",
       "3  Желаю хорошего полёта и удачной посадки,я буду... -1  0  0  0  10628  207   \n",
       "4  Обновил за каким-то лешим surf, теперь не рабо... -1  0  0  0     35   17   \n",
       "\n",
       "    10  11  \n",
       "0   94   2  \n",
       "1   39   0  \n",
       "2  249   0  \n",
       "3  200   0  \n",
       "4   34   0  "
      ]
     },
     "execution_count": 3,
     "metadata": {},
     "output_type": "execute_result"
    }
   ],
   "source": [
    "negative = pd.read_csv('negative.csv', sep=';', encoding='utf8', header=None)\n",
    "negative = negative.rename(columns={3:'text'})\n",
    "negative.head()"
   ]
  },
  {
   "cell_type": "code",
   "execution_count": 4,
   "id": "e54a75f5",
   "metadata": {
    "ExecuteTime": {
     "end_time": "2024-01-09T19:51:07.977387Z",
     "start_time": "2024-01-09T19:51:07.952451Z"
    }
   },
   "outputs": [
    {
     "data": {
      "text/html": [
       "<div>\n",
       "<style scoped>\n",
       "    .dataframe tbody tr th:only-of-type {\n",
       "        vertical-align: middle;\n",
       "    }\n",
       "\n",
       "    .dataframe tbody tr th {\n",
       "        vertical-align: top;\n",
       "    }\n",
       "\n",
       "    .dataframe thead th {\n",
       "        text-align: right;\n",
       "    }\n",
       "</style>\n",
       "<table border=\"1\" class=\"dataframe\">\n",
       "  <thead>\n",
       "    <tr style=\"text-align: right;\">\n",
       "      <th></th>\n",
       "      <th>0</th>\n",
       "      <th>1</th>\n",
       "      <th>2</th>\n",
       "      <th>text</th>\n",
       "      <th>4</th>\n",
       "      <th>5</th>\n",
       "      <th>6</th>\n",
       "      <th>7</th>\n",
       "      <th>8</th>\n",
       "      <th>9</th>\n",
       "      <th>10</th>\n",
       "      <th>11</th>\n",
       "    </tr>\n",
       "  </thead>\n",
       "  <tbody>\n",
       "    <tr>\n",
       "      <th>226829</th>\n",
       "      <td>425138243257253888</td>\n",
       "      <td>1390195830</td>\n",
       "      <td>Yanch_96</td>\n",
       "      <td>Но не каждый хочет что то исправлять:( http://...</td>\n",
       "      <td>-1</td>\n",
       "      <td>0</td>\n",
       "      <td>0</td>\n",
       "      <td>0</td>\n",
       "      <td>1138</td>\n",
       "      <td>32</td>\n",
       "      <td>46</td>\n",
       "      <td>0</td>\n",
       "    </tr>\n",
       "    <tr>\n",
       "      <th>226830</th>\n",
       "      <td>425138339503943682</td>\n",
       "      <td>1390195853</td>\n",
       "      <td>tkit_on</td>\n",
       "      <td>скучаю так :-( только @taaannyaaa вправляет мо...</td>\n",
       "      <td>-1</td>\n",
       "      <td>0</td>\n",
       "      <td>0</td>\n",
       "      <td>0</td>\n",
       "      <td>4822</td>\n",
       "      <td>38</td>\n",
       "      <td>32</td>\n",
       "      <td>0</td>\n",
       "    </tr>\n",
       "    <tr>\n",
       "      <th>226831</th>\n",
       "      <td>425138437684215808</td>\n",
       "      <td>1390195876</td>\n",
       "      <td>ckooker1</td>\n",
       "      <td>Вот и в школу, в говно это идти уже надо(</td>\n",
       "      <td>-1</td>\n",
       "      <td>0</td>\n",
       "      <td>0</td>\n",
       "      <td>1</td>\n",
       "      <td>165</td>\n",
       "      <td>13</td>\n",
       "      <td>16</td>\n",
       "      <td>0</td>\n",
       "    </tr>\n",
       "    <tr>\n",
       "      <th>226832</th>\n",
       "      <td>425138490452344832</td>\n",
       "      <td>1390195889</td>\n",
       "      <td>LisaBeroud</td>\n",
       "      <td>RT @_Them__: @LisaBeroud Тауриэль, не грусти :...</td>\n",
       "      <td>-1</td>\n",
       "      <td>0</td>\n",
       "      <td>1</td>\n",
       "      <td>0</td>\n",
       "      <td>2516</td>\n",
       "      <td>187</td>\n",
       "      <td>265</td>\n",
       "      <td>0</td>\n",
       "    </tr>\n",
       "    <tr>\n",
       "      <th>226833</th>\n",
       "      <td>425138595251625984</td>\n",
       "      <td>1390195914</td>\n",
       "      <td>sukapavlov</td>\n",
       "      <td>Такси везет меня на работу. Раздумываю приплат...</td>\n",
       "      <td>-1</td>\n",
       "      <td>0</td>\n",
       "      <td>0</td>\n",
       "      <td>0</td>\n",
       "      <td>7778</td>\n",
       "      <td>146</td>\n",
       "      <td>66</td>\n",
       "      <td>5</td>\n",
       "    </tr>\n",
       "  </tbody>\n",
       "</table>\n",
       "</div>"
      ],
      "text/plain": [
       "                         0           1           2  \\\n",
       "226829  425138243257253888  1390195830    Yanch_96   \n",
       "226830  425138339503943682  1390195853     tkit_on   \n",
       "226831  425138437684215808  1390195876    ckooker1   \n",
       "226832  425138490452344832  1390195889  LisaBeroud   \n",
       "226833  425138595251625984  1390195914  sukapavlov   \n",
       "\n",
       "                                                     text  4  5  6  7     8  \\\n",
       "226829  Но не каждый хочет что то исправлять:( http://... -1  0  0  0  1138   \n",
       "226830  скучаю так :-( только @taaannyaaa вправляет мо... -1  0  0  0  4822   \n",
       "226831          Вот и в школу, в говно это идти уже надо( -1  0  0  1   165   \n",
       "226832  RT @_Them__: @LisaBeroud Тауриэль, не грусти :... -1  0  1  0  2516   \n",
       "226833  Такси везет меня на работу. Раздумываю приплат... -1  0  0  0  7778   \n",
       "\n",
       "          9   10  11  \n",
       "226829   32   46   0  \n",
       "226830   38   32   0  \n",
       "226831   13   16   0  \n",
       "226832  187  265   0  \n",
       "226833  146   66   5  "
      ]
     },
     "execution_count": 4,
     "metadata": {},
     "output_type": "execute_result"
    }
   ],
   "source": [
    "df = pd.concat([positive, negative], ignore_index=True)\n",
    "df.tail()"
   ]
  },
  {
   "cell_type": "markdown",
   "id": "7245e4ea",
   "metadata": {},
   "source": [
    "#### Preprocessing"
   ]
  },
  {
   "cell_type": "code",
   "execution_count": 5,
   "id": "d7c1ce18",
   "metadata": {
    "ExecuteTime": {
     "end_time": "2024-01-09T19:51:10.949842Z",
     "start_time": "2024-01-09T19:51:10.799688Z"
    }
   },
   "outputs": [],
   "source": [
    "import pymorphy2\n",
    "morph = pymorphy2.MorphAnalyzer()"
   ]
  },
  {
   "cell_type": "code",
   "execution_count": 6,
   "id": "684d01a4",
   "metadata": {
    "ExecuteTime": {
     "end_time": "2024-01-09T19:51:13.466054Z",
     "start_time": "2024-01-09T19:51:13.248292Z"
    }
   },
   "outputs": [
    {
     "name": "stderr",
     "output_type": "stream",
     "text": [
      "[nltk_data] Downloading package stopwords to\n",
      "[nltk_data]     C:\\Users\\User\\AppData\\Roaming\\nltk_data...\n",
      "[nltk_data]   Package stopwords is already up-to-date!\n"
     ]
    },
    {
     "data": {
      "text/plain": [
       "True"
      ]
     },
     "execution_count": 6,
     "metadata": {},
     "output_type": "execute_result"
    }
   ],
   "source": [
    "nltk.download('stopwords')"
   ]
  },
  {
   "cell_type": "code",
   "execution_count": 7,
   "id": "796f5e8b",
   "metadata": {
    "ExecuteTime": {
     "end_time": "2024-01-09T19:51:15.654450Z",
     "start_time": "2024-01-09T19:51:15.647469Z"
    }
   },
   "outputs": [],
   "source": [
    "words_regex = re.compile('\\w+')\n",
    "\n",
    "def find_words(text, regex = words_regex):\n",
    "    tokens =  regex.findall(text.lower())\n",
    "    return [w for w in tokens if w.isalpha() and len(w) >= 3]\n",
    "\n",
    "\n",
    "stopwords_list = stopwords.words('russian')\n",
    "\n",
    "# mystem = Mystem()\n",
    "# def lemmatize(words, lemmer = mystem, stopwords = stopwords_list):\n",
    "#     lemmas = lemmer.lemmatize(' '.join(words))\n",
    "#     return [w for w in lemmas if not w in stopwords\n",
    "#             and w.isalpha()]\n",
    "\n",
    "def lemmatize(words, lemmer = morph, stopwords = stopwords_list):\n",
    "    lemmas = [lemmer.parse(w)[0].normal_form for w in words]\n",
    "    return [w for w in lemmas if not w in stopwords\n",
    "            and w.isalpha()]\n",
    "\n",
    "def preprocess(text):\n",
    "    return (lemmatize(find_words(text)))"
   ]
  },
  {
   "cell_type": "code",
   "execution_count": 8,
   "id": "e7df98ac",
   "metadata": {
    "ExecuteTime": {
     "end_time": "2024-01-09T19:51:19.308412Z",
     "start_time": "2024-01-09T19:51:19.295446Z"
    }
   },
   "outputs": [
    {
     "data": {
      "text/plain": [
       "'Да, все-таки он немного похож на него. Но мой мальчик все равно лучше:D'"
      ]
     },
     "execution_count": 8,
     "metadata": {},
     "output_type": "execute_result"
    }
   ],
   "source": [
    "df.text.iloc[1]"
   ]
  },
  {
   "cell_type": "code",
   "execution_count": 9,
   "id": "029c05e4",
   "metadata": {
    "ExecuteTime": {
     "end_time": "2024-01-09T19:51:20.239691Z",
     "start_time": "2024-01-09T19:51:20.231688Z"
    }
   },
   "outputs": [
    {
     "name": "stdout",
     "output_type": "stream",
     "text": [
      "['всё', 'таки', 'немного', 'похожий', 'мальчик', 'всё', 'равно', 'хороший']\n"
     ]
    }
   ],
   "source": [
    "print(preprocess(df.text.iloc[1]))"
   ]
  },
  {
   "cell_type": "code",
   "execution_count": 10,
   "id": "2a86c685",
   "metadata": {
    "ExecuteTime": {
     "end_time": "2024-01-09T19:51:26.103614Z",
     "start_time": "2024-01-09T19:51:26.087478Z"
    }
   },
   "outputs": [],
   "source": [
    "data = df.sample(10000)"
   ]
  },
  {
   "cell_type": "code",
   "execution_count": 11,
   "id": "e01cb961",
   "metadata": {
    "ExecuteTime": {
     "end_time": "2024-01-09T19:51:27.471290Z",
     "start_time": "2024-01-09T19:51:27.447481Z"
    }
   },
   "outputs": [
    {
     "name": "stdout",
     "output_type": "stream",
     "text": [
      "INFO: Pandarallel will run on 6 workers.\n",
      "INFO: Pandarallel will use standard multiprocessing data transfer (pipe) to transfer data between the main process and workers.\n",
      "\n",
      "WARNING: You are on Windows. If you detect any issue with pandarallel, be sure you checked out the Troubleshooting page:\n",
      "https://nalepae.github.io/pandarallel/troubleshooting/\n"
     ]
    }
   ],
   "source": [
    "tqdm.pandas()\n",
    "\n",
    "from pandarallel import pandarallel\n",
    "pandarallel.initialize(progress_bar=True)"
   ]
  },
  {
   "cell_type": "code",
   "execution_count": 12,
   "id": "73c0286a",
   "metadata": {
    "ExecuteTime": {
     "end_time": "2024-01-09T19:51:43.066046Z",
     "start_time": "2024-01-09T19:51:32.312298Z"
    }
   },
   "outputs": [
    {
     "data": {
      "application/vnd.jupyter.widget-view+json": {
       "model_id": "5b7e033d85764967b60aab5beca643e1",
       "version_major": 2,
       "version_minor": 0
      },
      "text/plain": [
       "  0%|          | 0/10000 [00:00<?, ?it/s]"
      ]
     },
     "metadata": {},
     "output_type": "display_data"
    }
   ],
   "source": [
    "preprocessed_text2 = data['text'].progress_apply(lambda x: preprocess(str(x)))"
   ]
  },
  {
   "cell_type": "code",
   "execution_count": 13,
   "id": "5e1e2ae5",
   "metadata": {
    "ExecuteTime": {
     "end_time": "2024-01-09T19:52:00.134254Z",
     "start_time": "2024-01-09T19:51:49.399714Z"
    }
   },
   "outputs": [
    {
     "data": {
      "application/vnd.jupyter.widget-view+json": {
       "model_id": "9608a687806e45ff86b9463923889d78",
       "version_major": 2,
       "version_minor": 0
      },
      "text/plain": [
       "  0%|          | 0/10000 [00:00<?, ?it/s]"
      ]
     },
     "metadata": {},
     "output_type": "display_data"
    }
   ],
   "source": [
    "preprocessed_text = list(tqdm(map(preprocess, data['text']), total=len(data)))"
   ]
  },
  {
   "cell_type": "code",
   "execution_count": 14,
   "id": "46e2cd05",
   "metadata": {
    "ExecuteTime": {
     "end_time": "2024-01-09T19:52:05.394421Z",
     "start_time": "2024-01-09T19:52:05.376489Z"
    }
   },
   "outputs": [
    {
     "data": {
      "text/html": [
       "<div>\n",
       "<style scoped>\n",
       "    .dataframe tbody tr th:only-of-type {\n",
       "        vertical-align: middle;\n",
       "    }\n",
       "\n",
       "    .dataframe tbody tr th {\n",
       "        vertical-align: top;\n",
       "    }\n",
       "\n",
       "    .dataframe thead th {\n",
       "        text-align: right;\n",
       "    }\n",
       "</style>\n",
       "<table border=\"1\" class=\"dataframe\">\n",
       "  <thead>\n",
       "    <tr style=\"text-align: right;\">\n",
       "      <th></th>\n",
       "      <th>0</th>\n",
       "      <th>1</th>\n",
       "      <th>2</th>\n",
       "      <th>text</th>\n",
       "      <th>4</th>\n",
       "      <th>5</th>\n",
       "      <th>6</th>\n",
       "      <th>7</th>\n",
       "      <th>8</th>\n",
       "      <th>9</th>\n",
       "      <th>10</th>\n",
       "      <th>11</th>\n",
       "    </tr>\n",
       "  </thead>\n",
       "  <tbody>\n",
       "    <tr>\n",
       "      <th>6772</th>\n",
       "      <td>409088848808148992</td>\n",
       "      <td>1386369356</td>\n",
       "      <td>dyfexatas</td>\n",
       "      <td>[оказываться, второй, число, книга, сделать, с...</td>\n",
       "      <td>1</td>\n",
       "      <td>0</td>\n",
       "      <td>0</td>\n",
       "      <td>0</td>\n",
       "      <td>44</td>\n",
       "      <td>43</td>\n",
       "      <td>30</td>\n",
       "      <td>0</td>\n",
       "    </tr>\n",
       "    <tr>\n",
       "      <th>139115</th>\n",
       "      <td>411991184173985792</td>\n",
       "      <td>1387061327</td>\n",
       "      <td>Ladachka05</td>\n",
       "      <td>[ааааааааааа, вернуть, ковтууун]</td>\n",
       "      <td>-1</td>\n",
       "      <td>0</td>\n",
       "      <td>1</td>\n",
       "      <td>0</td>\n",
       "      <td>1494</td>\n",
       "      <td>76</td>\n",
       "      <td>105</td>\n",
       "      <td>0</td>\n",
       "    </tr>\n",
       "    <tr>\n",
       "      <th>2300</th>\n",
       "      <td>408931058814832641</td>\n",
       "      <td>1386331736</td>\n",
       "      <td>Annnett12</td>\n",
       "      <td>[mdobkin, batkivshchyna, історичні, перепалка,...</td>\n",
       "      <td>1</td>\n",
       "      <td>0</td>\n",
       "      <td>2</td>\n",
       "      <td>0</td>\n",
       "      <td>1656</td>\n",
       "      <td>21</td>\n",
       "      <td>220</td>\n",
       "      <td>0</td>\n",
       "    </tr>\n",
       "  </tbody>\n",
       "</table>\n",
       "</div>"
      ],
      "text/plain": [
       "                         0           1           2  \\\n",
       "6772    409088848808148992  1386369356   dyfexatas   \n",
       "139115  411991184173985792  1387061327  Ladachka05   \n",
       "2300    408931058814832641  1386331736   Annnett12   \n",
       "\n",
       "                                                     text  4  5  6  7     8  \\\n",
       "6772    [оказываться, второй, число, книга, сделать, с...  1  0  0  0    44   \n",
       "139115                   [ааааааааааа, вернуть, ковтууун] -1  0  1  0  1494   \n",
       "2300    [mdobkin, batkivshchyna, історичні, перепалка,...  1  0  2  0  1656   \n",
       "\n",
       "         9   10  11  \n",
       "6772    43   30   0  \n",
       "139115  76  105   0  \n",
       "2300    21  220   0  "
      ]
     },
     "execution_count": 14,
     "metadata": {},
     "output_type": "execute_result"
    }
   ],
   "source": [
    "data['text'] = preprocessed_text\n",
    "data.sample(3)"
   ]
  },
  {
   "cell_type": "markdown",
   "id": "af61cfe8",
   "metadata": {},
   "source": [
    "#### LDA"
   ]
  },
  {
   "cell_type": "code",
   "execution_count": 16,
   "id": "4730aa20",
   "metadata": {
    "ExecuteTime": {
     "end_time": "2024-01-09T19:53:09.448651Z",
     "start_time": "2024-01-09T19:53:09.127543Z"
    }
   },
   "outputs": [],
   "source": [
    "from gensim.models import *\n",
    "from gensim import corpora"
   ]
  },
  {
   "cell_type": "code",
   "execution_count": 17,
   "id": "768cb445",
   "metadata": {
    "ExecuteTime": {
     "end_time": "2024-01-09T19:53:31.069862Z",
     "start_time": "2024-01-09T19:53:30.944377Z"
    }
   },
   "outputs": [],
   "source": [
    "dictionary = corpora.Dictionary(data['text'])\n",
    "\n",
    "dictionary.filter_extremes(no_below = 10, no_above = 0.9, keep_n=None) # игнорируем слова, которые встречаются реже 10 раз или составляют более 0.9 словаря\n",
    "dictionary.save('tweets.dict')"
   ]
  },
  {
   "cell_type": "code",
   "execution_count": 18,
   "id": "d244151d",
   "metadata": {
    "ExecuteTime": {
     "end_time": "2024-01-09T19:53:45.552379Z",
     "start_time": "2024-01-09T19:53:45.455533Z"
    }
   },
   "outputs": [],
   "source": [
    "corpus = [dictionary.doc2bow(text) for text in data['text']]\n",
    "corpora.MmCorpus.serialize('tweets.model', corpus)"
   ]
  },
  {
   "cell_type": "code",
   "execution_count": 19,
   "id": "b6e42079",
   "metadata": {
    "ExecuteTime": {
     "end_time": "2024-01-09T19:54:30.753411Z",
     "start_time": "2024-01-09T19:54:28.944572Z"
    }
   },
   "outputs": [
    {
     "name": "stdout",
     "output_type": "stream",
     "text": [
      "CPU times: total: 1.77 s\n",
      "Wall time: 1.8 s\n"
     ]
    }
   ],
   "source": [
    "%time lda = ldamodel.LdaModel(corpus, id2word=dictionary, num_topics=10, chunksize=50, update_every=1, passes=2)"
   ]
  },
  {
   "cell_type": "code",
   "execution_count": 20,
   "id": "695058a6",
   "metadata": {
    "ExecuteTime": {
     "end_time": "2024-01-09T19:54:44.870359Z",
     "start_time": "2024-01-09T19:54:44.856425Z"
    }
   },
   "outputs": [
    {
     "data": {
      "text/plain": [
       "[(0,\n",
       "  '0.057*\"сказать\" + 0.050*\"любимый\" + 0.044*\"писать\" + 0.039*\"пойти\" + 0.036*\"большой\" + 0.032*\"сколько\" + 0.031*\"купить\" + 0.030*\"скучать\" + 0.025*\"вчера\" + 0.025*\"девушка\"'),\n",
       " (1,\n",
       "  '0.266*\"http\" + 0.082*\"весь\" + 0.036*\"время\" + 0.030*\"почему\" + 0.023*\"день\" + 0.022*\"плохо\" + 0.019*\"вопрос\" + 0.018*\"хотя\" + 0.018*\"читать\" + 0.018*\"видеть\"'),\n",
       " (2,\n",
       "  '0.123*\"ещё\" + 0.096*\"день\" + 0.059*\"просто\" + 0.044*\"утро\" + 0.042*\"дом\" + 0.033*\"сделать\" + 0.032*\"час\" + 0.028*\"понимать\" + 0.028*\"добрый\" + 0.023*\"учить\"'),\n",
       " (3,\n",
       "  '0.198*\"это\" + 0.194*\"всё\" + 0.032*\"думать\" + 0.029*\"делать\" + 0.023*\"нужно\" + 0.023*\"мама\" + 0.022*\"сидеть\" + 0.020*\"прийти\" + 0.018*\"играть\" + 0.018*\"понять\"'),\n",
       " (4,\n",
       "  '0.115*\"хотеть\" + 0.092*\"очень\" + 0.045*\"школа\" + 0.039*\"посмотреть\" + 0.036*\"таки\" + 0.025*\"жаль\" + 0.025*\"работать\" + 0.022*\"нибыть\" + 0.020*\"учёба\" + 0.019*\"ладный\"'),\n",
       " (5,\n",
       "  '0.066*\"мочь\" + 0.058*\"знать\" + 0.044*\"любить\" + 0.038*\"говорить\" + 0.038*\"самый\" + 0.036*\"спать\" + 0.036*\"идти\" + 0.023*\"ждать\" + 0.019*\"новогодний\" + 0.017*\"найти\"'),\n",
       " (6,\n",
       "  '0.088*\"свой\" + 0.082*\"вообще\" + 0.055*\"спасибо\" + 0.045*\"работа\" + 0.044*\"настроение\" + 0.031*\"последний\" + 0.027*\"стать\" + 0.026*\"группа\" + 0.025*\"слово\" + 0.025*\"простить\"'),\n",
       " (7,\n",
       "  '0.082*\"сегодня\" + 0.069*\"хороший\" + 0.068*\"год\" + 0.067*\"человек\" + 0.052*\"новый\" + 0.034*\"написать\" + 0.027*\"правда\" + 0.024*\"дело\" + 0.016*\"проснуться\" + 0.015*\"ахах\"'),\n",
       " (8,\n",
       "  '0.066*\"завтра\" + 0.049*\"блин\" + 0.046*\"который\" + 0.045*\"смотреть\" + 0.039*\"ночь\" + 0.038*\"друг\" + 0.036*\"первый\" + 0.030*\"твой\" + 0.027*\"пара\" + 0.025*\"песня\"'),\n",
       " (9,\n",
       "  '0.073*\"жизнь\" + 0.034*\"болеть\" + 0.033*\"мозг\" + 0.031*\"рука\" + 0.031*\"голова\" + 0.030*\"скучно\" + 0.027*\"зачёт\" + 0.027*\"слишком\" + 0.023*\"бог\" + 0.022*\"пиздец\"')]"
      ]
     },
     "execution_count": 20,
     "metadata": {},
     "output_type": "execute_result"
    }
   ],
   "source": [
    "lda.show_topics(num_topics=10, num_words=10, formatted=True)"
   ]
  },
  {
   "cell_type": "code",
   "execution_count": 21,
   "id": "3d60f0ba",
   "metadata": {
    "ExecuteTime": {
     "end_time": "2024-01-09T19:55:17.380886Z",
     "start_time": "2024-01-09T19:55:15.255607Z"
    }
   },
   "outputs": [
    {
     "name": "stdout",
     "output_type": "stream",
     "text": [
      "CPU times: total: 422 ms\n",
      "Wall time: 1.98 s\n"
     ]
    },
    {
     "data": {
      "text/html": [
       "\n",
       "<link rel=\"stylesheet\" type=\"text/css\" href=\"https://cdn.jsdelivr.net/gh/bmabey/pyLDAvis@3.4.0/pyLDAvis/js/ldavis.v1.0.0.css\">\n",
       "\n",
       "\n",
       "<div id=\"ldavis_el701615221747841127186566509\" style=\"background-color:white;\"></div>\n",
       "<script type=\"text/javascript\">\n",
       "\n",
       "var ldavis_el701615221747841127186566509_data = {\"mdsDat\": {\"x\": [-0.10197493394267272, 0.31949818850491496, -0.08453779153886307, 0.2961120997703117, -0.08036342143474154, -0.07834642476127257, -0.07435214049754177, -0.07051599910671554, -0.06833712596772802, -0.05718245102569126], \"y\": [-0.43825308117546935, -0.016858312939090406, 0.09893877872621111, -0.01357723605751515, 0.07831587958572422, 0.07321921968116854, 0.061464493608382006, 0.05477323076892453, 0.05614511901909019, 0.04583190878257524], \"topics\": [1, 2, 3, 4, 5, 6, 7, 8, 9, 10], \"cluster\": [1, 1, 1, 1, 1, 1, 1, 1, 1, 1], \"Freq\": [13.130796510566167, 12.813189915574865, 11.801119102547055, 10.356917973166981, 10.31290440003107, 9.796385691612915, 8.875120957022151, 8.429672066025821, 8.272936580233534, 6.210956803219442]}, \"tinfo\": {\"Term\": [\"http\", \"\\u044d\\u0442\\u043e\", \"\\u0432\\u0441\\u0451\", \"\\u0435\\u0449\\u0451\", \"\\u0445\\u043e\\u0442\\u0435\\u0442\\u044c\", \"\\u0434\\u0435\\u043d\\u044c\", \"\\u0432\\u0435\\u0441\\u044c\", \"\\u043e\\u0447\\u0435\\u043d\\u044c\", \"\\u0441\\u0435\\u0433\\u043e\\u0434\\u043d\\u044f\", \"\\u0441\\u0432\\u043e\\u0439\", \"\\u0432\\u043e\\u043e\\u0431\\u0449\\u0435\", \"\\u043c\\u043e\\u0447\\u044c\", \"\\u0445\\u043e\\u0440\\u043e\\u0448\\u0438\\u0439\", \"\\u0433\\u043e\\u0434\", \"\\u0447\\u0435\\u043b\\u043e\\u0432\\u0435\\u043a\", \"\\u0437\\u0430\\u0432\\u0442\\u0440\\u0430\", \"\\u0437\\u043d\\u0430\\u0442\\u044c\", \"\\u043f\\u0440\\u043e\\u0441\\u0442\\u043e\", \"\\u0436\\u0438\\u0437\\u043d\\u044c\", \"\\u043d\\u043e\\u0432\\u044b\\u0439\", \"\\u0441\\u043a\\u0430\\u0437\\u0430\\u0442\\u044c\", \"\\u0441\\u043f\\u0430\\u0441\\u0438\\u0431\\u043e\", \"\\u043b\\u044e\\u0431\\u0438\\u0442\\u044c\", \"\\u0431\\u043b\\u0438\\u043d\", \"\\u043a\\u043e\\u0442\\u043e\\u0440\\u044b\\u0439\", \"\\u043b\\u044e\\u0431\\u0438\\u043c\\u044b\\u0439\", \"\\u0443\\u0442\\u0440\\u043e\", \"\\u0441\\u043c\\u043e\\u0442\\u0440\\u0435\\u0442\\u044c\", \"\\u0434\\u043e\\u043c\", \"\\u0448\\u043a\\u043e\\u043b\\u0430\", \"\\u044d\\u0442\\u043e\", \"\\u0432\\u0441\\u0451\", \"\\u0434\\u0443\\u043c\\u0430\\u0442\\u044c\", \"\\u0434\\u0435\\u043b\\u0430\\u0442\\u044c\", \"\\u043d\\u0443\\u0436\\u043d\\u043e\", \"\\u043c\\u0430\\u043c\\u0430\", \"\\u0441\\u0438\\u0434\\u0435\\u0442\\u044c\", \"\\u043f\\u0440\\u0438\\u0439\\u0442\\u0438\", \"\\u0438\\u0433\\u0440\\u0430\\u0442\\u044c\", \"\\u043f\\u043e\\u043d\\u044f\\u0442\\u044c\", \"\\u0434\\u0430\\u0432\\u0430\\u0442\\u044c\", \"\\u043f\\u043e\\u043a\\u0430\", \"\\u043d\\u0440\\u0430\\u0432\\u0438\\u0442\\u044c\\u0441\\u044f\", \"\\u043f\\u0440\\u043e\\u0439\\u0442\\u0438\", \"\\u043b\\u0435\\u043d\\u0442\\u0430\", \"\\u0440\\u0430\\u0432\\u043d\\u043e\", \"\\u043b\\u044e\\u0431\\u043e\\u0432\\u044c\", \"\\u043f\\u0430\\u043f\\u0430\", \"\\u043a\\u0441\\u0442\\u0430\\u0442\\u0438\", \"\\u0441\\u0442\\u0440\\u0430\\u0448\\u043d\\u044b\\u0439\", \"\\u0438\\u043d\\u0442\\u0435\\u0440\\u0435\\u0441\\u043d\\u044b\\u0439\", \"\\u043a\\u043d\\u0438\\u0433\\u0430\", \"\\u0441\\u043e\\u043d\", \"\\u0438\\u0431\\u043e\", \"\\u0432\\u044b\\u0443\\u0447\\u0438\\u0442\\u044c\", \"\\u0443\\u0432\\u0438\\u0434\\u0435\\u0442\\u044c\", \"\\u0434\\u043e\\u0431\\u0440\\u043e\", \"\\u0441\\u043b\\u044b\\u0448\\u0430\\u0442\\u044c\", \"\\u0434\\u0435\\u043d\\u044c\\u0433\\u0430\", \"\\u0437\\u0430\\u0434\\u0430\\u0432\\u0430\\u0442\\u044c\", \"http\", \"\\u0432\\u0435\\u0441\\u044c\", \"\\u0432\\u0440\\u0435\\u043c\\u044f\", \"\\u043f\\u043e\\u0447\\u0435\\u043c\\u0443\", \"\\u043f\\u043b\\u043e\\u0445\\u043e\", \"\\u0432\\u043e\\u043f\\u0440\\u043e\\u0441\", \"\\u0445\\u043e\\u0442\\u044f\", \"\\u0447\\u0438\\u0442\\u0430\\u0442\\u044c\", \"\\u0432\\u0438\\u0434\\u0435\\u0442\\u044c\", \"\\u0430\\u0433\\u0430\", \"\\u0441\\u0432\\u0435\\u0442\", \"\\u043d\\u0438\\u043a\\u0442\\u043e\", \"\\u0438\\u043c\\u0435\\u043d\\u043d\\u043e\", \"\\u0432\\u0437\\u044f\\u0442\\u044c\", \"\\u0438\\u0441\\u0442\\u043e\\u0440\\u0438\\u044f\", \"\\u0432\\u044b\\u0439\\u0442\\u0438\", \"\\u0434\\u043e\\u0440\\u043e\\u0433\\u0430\", \"\\u0430\\u0445\\u0438\", \"\\u0443\\u0434\\u0430\\u0447\\u0430\", \"\\u043c\\u0443\\u0436\\u0447\\u0438\\u043d\\u0430\", \"\\u0433\\u043b\\u0430\\u0432\\u043d\\u043e\\u0435\", \"\\u0437\\u0430\\u0442\\u043e\", \"\\u043f\\u043e\\u0434\\u0430\\u0440\\u043e\\u043a\", \"\\u043d\\u0435\\u043d\\u0430\\u0432\\u0438\\u0434\\u0435\\u0442\\u044c\", \"\\u0446\\u0435\\u043b\\u044b\\u0439\", \"\\u0454\\u0432\\u0440\\u043e\\u043c\\u0430\\u0439\\u0434\\u0430\\u043d\", \"\\u043c\\u0438\\u0440\", \"\\u043f\\u0440\\u0430\\u0437\\u0434\\u043d\\u0438\\u043a\", \"\\u0441\\u043c\\u043e\\u0447\\u044c\", \"\\u0441\\u043e\\u043e\\u0431\\u0449\\u0435\\u043d\\u0438\\u0435\", \"\\u0434\\u0435\\u043d\\u044c\", \"\\u043c\\u043e\\u0447\\u044c\", \"\\u0437\\u043d\\u0430\\u0442\\u044c\", \"\\u043b\\u044e\\u0431\\u0438\\u0442\\u044c\", \"\\u0433\\u043e\\u0432\\u043e\\u0440\\u0438\\u0442\\u044c\", \"\\u0441\\u0430\\u043c\\u044b\\u0439\", \"\\u0441\\u043f\\u0430\\u0442\\u044c\", \"\\u0438\\u0434\\u0442\\u0438\", \"\\u0436\\u0434\\u0430\\u0442\\u044c\", \"\\u043d\\u043e\\u0432\\u043e\\u0433\\u043e\\u0434\\u043d\\u0438\\u0439\", \"\\u043d\\u0430\\u0439\\u0442\\u0438\", \"\\u043f\\u0430\\u0440\\u0435\\u043d\\u044c\", \"\\u043a\\u0430\\u0436\\u0434\\u044b\\u0439\", \"\\u043f\\u0440\\u0438\\u0439\\u0442\\u0438\\u0441\\u044c\", \"\\u0441\\u043d\\u0435\\u0433\", \"\\u043f\\u043b\\u043e\\u0445\\u043e\\u0439\", \"\\u0435\\u0434\\u0430\", \"\\u0443\\u043b\\u0438\\u0446\\u0430\", \"\\u043f\\u043e\\u0445\\u043e\\u0434\", \"\\u043f\\u0440\\u0438\\u0435\\u0445\\u0430\\u0442\\u044c\", \"\\u0432\\u0435\\u0440\\u0438\\u0442\\u044c\", \"\\u043f\\u0443\\u0441\\u0442\\u044c\", \"\\u0432\\u044b\\u0445\\u043e\\u0434\\u0438\\u0442\\u044c\", \"\\u043f\\u0440\\u0435\\u0434\\u0441\\u0442\\u0430\\u0432\\u0438\\u0442\\u044c\", \"\\u043b\\u0435\\u043d\\u044c\", \"\\u043a\\u0438\\u043d\\u043e\", \"\\u0443\\u0437\\u043d\\u0430\\u0442\\u044c\", \"\\u043d\\u0443\\u0436\\u043d\\u044b\\u0439\", \"\\u0442\\u0432\\u0438\\u0442\\u0442\\u0435\\u0440\\u0441\\u043a\\u0438\\u0439\", \"\\u043d\\u0430\\u0432\\u0435\\u0440\\u043d\\u043e\\u0435\", \"\\u0437\\u0430\\u043a\\u043e\\u043d\\u0447\\u0438\\u0442\\u044c\\u0441\\u044f\", \"\\u0435\\u0449\\u0451\", \"\\u043f\\u0440\\u043e\\u0441\\u0442\\u043e\", \"\\u0443\\u0442\\u0440\\u043e\", \"\\u0434\\u043e\\u043c\", \"\\u0441\\u0434\\u0435\\u043b\\u0430\\u0442\\u044c\", \"\\u0447\\u0430\\u0441\", \"\\u043f\\u043e\\u043d\\u0438\\u043c\\u0430\\u0442\\u044c\", \"\\u0434\\u043e\\u0431\\u0440\\u044b\\u0439\", \"\\u0443\\u0447\\u0438\\u0442\\u044c\", \"\\u043d\\u0430\\u0448\", \"\\u0436\\u0438\\u0442\\u044c\", \"\\u0447\\u0443\\u0432\\u0441\\u0442\\u0432\\u043e\", \"\\u043f\\u043e\\u043b\\u0443\\u0447\\u0438\\u0442\\u044c\", \"\\u0440\\u0443\\u0441\\u0441\\u043a\\u0438\\u0439\", \"\\u044d\\u043a\\u0437\\u0430\\u043c\\u0435\\u043d\", \"\\u0435\\u0445\\u0430\\u0442\\u044c\", \"\\u0443\\u0441\\u043f\\u0435\\u0442\\u044c\", \"\\u043e\\u0441\\u0442\\u0430\\u0442\\u044c\\u0441\\u044f\", \"\\u043a\\u043b\\u0430\\u0441\\u0441\", \"\\u043f\\u043e\\u043b\\u0443\\u0447\\u0438\\u0442\\u044c\\u0441\\u044f\", \"\\u0441\\u0442\\u043e\\u043b\\u044c\\u043a\\u043e\", \"\\u0441\\u0443\\u0431\\u0431\\u043e\\u0442\\u0430\", \"\\u043a\\u0430\\u0437\\u0430\\u0442\\u044c\\u0441\\u044f\", \"\\u043c\\u0438\\u043b\\u044b\\u0439\", \"\\u043d\\u0435\\u0434\\u0435\\u043b\\u044f\", \"\\u043c\\u0438\\u043d\\u0443\\u0442\\u0430\", \"\\u0432\\u0442\\u043e\\u0440\\u043e\\u0439\", \"\\u0441\\u043e\\u0431\\u0438\\u0440\\u0430\\u0442\\u044c\\u0441\\u044f\", \"\\u043d\\u0435\\u0441\\u043a\\u043e\\u043b\\u044c\\u043a\\u043e\", \"\\u043f\\u0440\\u0438\\u0445\\u043e\\u0434\\u0438\\u0442\\u044c\", \"\\u0434\\u0435\\u043d\\u044c\", \"\\u0441\\u0435\\u0433\\u043e\\u0434\\u043d\\u044f\", \"\\u0445\\u043e\\u0440\\u043e\\u0448\\u0438\\u0439\", \"\\u0433\\u043e\\u0434\", \"\\u0447\\u0435\\u043b\\u043e\\u0432\\u0435\\u043a\", \"\\u043d\\u043e\\u0432\\u044b\\u0439\", \"\\u043d\\u0430\\u043f\\u0438\\u0441\\u0430\\u0442\\u044c\", \"\\u043f\\u0440\\u0430\\u0432\\u0434\\u0430\", \"\\u0434\\u0435\\u043b\\u043e\", \"\\u043f\\u0440\\u043e\\u0441\\u043d\\u0443\\u0442\\u044c\\u0441\\u044f\", \"\\u0430\\u0445\\u0430\\u0445\", \"\\u0433\\u043b\\u0430\\u0437\", \"\\u043e\\u0431\\u043e\\u0436\\u0430\\u0442\\u044c\", \"\\u0445\\u043e\\u0434\\u0438\\u0442\\u044c\", \"\\u0432\\u0430\\u0448\", \"\\u0440\\u043e\\u0436\\u0434\\u0435\\u043d\\u0438\\u0435\", \"\\u043a\\u043e\\u0440\\u043e\\u0447\\u0435\", \"\\u043e\\u0442\\u0432\\u0435\\u0447\\u0430\\u0442\\u044c\", \"\\u0440\\u043e\\u0434\\u0438\\u0442\\u0435\\u043b\\u044c\", \"\\u0440\\u043e\\u0434\\u043d\\u044b\\u0439\", \"\\u043a\\u0443\\u0447\\u0430\", \"\\u043f\\u0440\\u0438\\u044f\\u0442\\u043d\\u043e\", \"\\u043a\\u0440\\u0430\\u0441\\u0438\\u0432\\u044b\\u0439\", \"\\u0441\\u0442\\u0440\\u0430\\u0448\\u043d\\u043e\", \"\\u0436\\u0435\\u043b\\u0430\\u0442\\u044c\", \"\\u0441\\u043d\\u0430\\u0447\\u0430\\u043b\\u0430\", \"\\u0432\\u0441\\u043f\\u043e\\u043c\\u043d\\u0438\\u0442\\u044c\", \"\\u0434\\u0435\\u0432\\u043e\\u0447\\u043a\\u0430\", \"\\u043c\\u0443\\u0436\\u0438\\u043a\", \"\\u043a\\u0440\\u0443\\u0442\\u043e\\u0439\", \"\\u043d\\u0430\\u0447\\u0438\\u043d\\u0430\\u0442\\u044c\\u0441\\u044f\", \"\\u0437\\u0430\\u0432\\u0442\\u0440\\u0430\", \"\\u0431\\u043b\\u0438\\u043d\", \"\\u043a\\u043e\\u0442\\u043e\\u0440\\u044b\\u0439\", \"\\u0441\\u043c\\u043e\\u0442\\u0440\\u0435\\u0442\\u044c\", \"\\u043d\\u043e\\u0447\\u044c\", \"\\u0434\\u0440\\u0443\\u0433\", \"\\u043f\\u0435\\u0440\\u0432\\u044b\\u0439\", \"\\u0442\\u0432\\u043e\\u0439\", \"\\u043f\\u0430\\u0440\\u0430\", \"\\u043f\\u0435\\u0441\\u043d\\u044f\", \"\\u0443\\u043c\\u0435\\u0442\\u044c\", \"\\u0444\\u0438\\u043b\\u044c\\u043c\", \"\\u0432\\u0440\\u043e\\u0434\\u0435\", \"\\u043c\\u0430\\u043b\\u0435\\u043d\\u044c\\u043a\\u0438\\u0439\", \"\\u0445\\u043e\\u0442\\u0435\\u0442\\u044c\\u0441\\u044f\", \"\\u0431\\u044b\\u0441\\u0442\\u0440\\u043e\", \"\\u0436\\u0435\\u043d\\u0449\\u0438\\u043d\\u0430\", \"\\u043a\\u043e\\u0444\\u0435\", \"\\u043d\\u043e\\u0432\\u043e\\u0441\\u0442\\u044c\", \"\\u0440\\u043e\\u0441\\u0441\\u0438\\u044f\", \"\\u0441\\u0438\\u043b\\u044c\\u043d\\u043e\", \"\\u0442\\u0432\\u0438\\u0442\", \"\\u0441\\u0440\\u0430\\u0437\\u0443\", \"\\u0447\\u0443\\u0432\\u0441\\u0442\\u0432\\u043e\\u0432\\u0430\\u0442\\u044c\", \"\\u043a\\u043e\\u043d\\u0446\\u0435\\u0440\\u0442\", \"\\u0447\\u0430\\u0439\", \"\\u0434\\u0443\\u0448\\u0430\", \"\\u0444\\u043e\\u0442\\u043e\", \"\\u0440\\u0430\\u043d\\u043d\\u0438\\u0439\", \"\\u0445\\u043e\\u043b\\u043e\\u0434\\u043d\\u043e\", \"\\u0445\\u043e\\u0442\\u0435\\u0442\\u044c\", \"\\u043e\\u0447\\u0435\\u043d\\u044c\", \"\\u0448\\u043a\\u043e\\u043b\\u0430\", \"\\u043f\\u043e\\u0441\\u043c\\u043e\\u0442\\u0440\\u0435\\u0442\\u044c\", \"\\u0442\\u0430\\u043a\\u0438\", \"\\u0436\\u0430\\u043b\\u044c\", \"\\u0440\\u0430\\u0431\\u043e\\u0442\\u0430\\u0442\\u044c\", \"\\u043d\\u0438\\u0431\\u044b\\u0442\\u044c\", \"\\u0443\\u0447\\u0451\\u0431\\u0430\", \"\\u043b\\u0430\\u0434\\u043d\\u044b\\u0439\", \"\\u0434\\u043e\\u043b\\u0436\\u043d\\u044b\\u0439\", \"\\u0431\\u043e\\u043b\\u044c\", \"\\u0441\\u0435\\u0440\\u0438\\u044f\", \"\\u0441\\u0435\\u0440\\u0438\\u0430\\u043b\", \"\\u0443\\u0447\\u0438\\u0442\\u044c\\u0441\\u044f\", \"\\u0443\\u0440\\u043e\\u043a\", \"\\u0431\\u043b\\u044f\", \"\\u0445\\u0443\\u0439\\u043d\\u044f\", \"\\u043e\\u0444\\u0438\\u0433\\u0435\\u043d\\u043d\\u044b\\u0439\", \"\\u0441\\u043a\\u043e\\u0440\\u043e\", \"\\u043d\\u043e\\u0440\\u043c\\u0430\\u043b\\u044c\\u043d\\u043e\", \"\\u0451\\u043b\\u043a\\u0430\", \"\\u0441\\u043e\\u0441\\u0442\\u043e\\u044f\\u043d\\u0438\\u0435\", \"\\u0432\\u044b\\u0441\\u043f\\u0430\\u0442\\u044c\\u0441\\u044f\", \"\\u043d\\u0430\\u0434\\u0435\\u044f\\u0442\\u044c\\u0441\\u044f\", \"\\u043c\\u043d\\u043e\\u0433\\u0438\\u0435\", \"\\u043f\\u0438\\u0442\\u0435\\u0440\", \"\\u043c\\u044b\\u0441\\u043b\\u044c\", \"\\u043f\\u043e\\u0433\\u043e\\u0432\\u043e\\u0440\\u0438\\u0442\\u044c\", \"\\u0443\\u0436\\u0430\\u0441\\u043d\\u044b\\u0439\", \"\\u0441\\u0432\\u043e\\u0439\", \"\\u0432\\u043e\\u043e\\u0431\\u0449\\u0435\", \"\\u0441\\u043f\\u0430\\u0441\\u0438\\u0431\\u043e\", \"\\u0440\\u0430\\u0431\\u043e\\u0442\\u0430\", \"\\u043d\\u0430\\u0441\\u0442\\u0440\\u043e\\u0435\\u043d\\u0438\\u0435\", \"\\u043f\\u043e\\u0441\\u043b\\u0435\\u0434\\u043d\\u0438\\u0439\", \"\\u0441\\u0442\\u0430\\u0442\\u044c\", \"\\u0433\\u0440\\u0443\\u043f\\u043f\\u0430\", \"\\u0441\\u043b\\u043e\\u0432\\u043e\", \"\\u043f\\u0440\\u043e\\u0441\\u0442\\u0438\\u0442\\u044c\", \"\\u043c\\u0443\\u0437\\u044b\\u043a\\u0430\", \"\\u043c\\u0430\\u043b\\u043e\", \"\\u0440\\u0430\\u0434\\u0430\", \"\\u0431\\u043e\\u044f\\u0442\\u044c\\u0441\\u044f\", \"\\u0440\\u0435\\u0431\\u0451\\u043d\\u043e\\u043a\", \"\\u0444\\u043e\\u0442\\u043a\\u0430\", \"\\u0434\\u0430\\u0442\\u044c\", \"\\u0441\\u0435\\u0441\\u0441\\u0438\\u044f\", \"\\u043f\\u043e\\u043b\\u043d\\u044b\\u0439\", \"\\u0430\\u0445\\u0430\\u0445\\u0438\", \"\\u0432\\u0435\\u0447\\u0435\\u0440\", \"\\u0437\\u0430\\u0431\\u044b\\u0442\\u044c\", \"\\u0441\\u0434\\u0430\\u0442\\u044c\", \"\\u043a\\u043e\\u043d\\u0435\\u0446\", \"\\u043a\\u0430\\u0440\\u0442\\u0438\\u043d\\u043a\\u0430\", \"\\u043f\\u0440\\u043e\\u0431\\u043b\\u0435\\u043c\\u0430\", \"\\u0440\\u0435\\u0431\\u044f\\u0442\\u0430\", \"\\u043a\\u0438\\u043d\\u0443\\u0442\\u044c\", \"\\u0441\\u044a\\u0435\\u0441\\u0442\\u044c\", \"\\u0445\\u0443\\u0439\", \"\\u0441\\u043a\\u0430\\u0437\\u0430\\u0442\\u044c\", \"\\u043b\\u044e\\u0431\\u0438\\u043c\\u044b\\u0439\", \"\\u043f\\u0438\\u0441\\u0430\\u0442\\u044c\", \"\\u043f\\u043e\\u0439\\u0442\\u0438\", \"\\u0431\\u043e\\u043b\\u044c\\u0448\\u043e\\u0439\", \"\\u0441\\u043a\\u043e\\u043b\\u044c\\u043a\\u043e\", \"\\u043a\\u0443\\u043f\\u0438\\u0442\\u044c\", \"\\u0441\\u043a\\u0443\\u0447\\u0430\\u0442\\u044c\", \"\\u0432\\u0447\\u0435\\u0440\\u0430\", \"\\u0434\\u0435\\u0432\\u0443\\u0448\\u043a\\u0430\", \"\\u043f\\u044f\\u0442\\u043d\\u0438\\u0446\\u0430\", \"\\u0431\\u044b\\u0432\\u0430\\u0442\\u044c\", \"\\u043e\\u0442\\u0432\\u0435\\u0442\\u0438\\u0442\\u044c\", \"\\u0434\\u043e\\u043c\\u043e\\u0439\", \"\\u0443\\u0439\\u0442\\u0438\", \"\\u043c\\u0430\\u0433\\u0430\\u0437\\u0438\\u043d\", \"\\u0442\\u0435\\u043b\\u0435\\u0444\\u043e\\u043d\", \"\\u043c\\u0435\\u0441\\u044f\\u0446\", \"\\u0441\\u043d\\u043e\\u0432\\u0430\", \"\\u0433\\u043e\\u0440\\u043e\\u0434\", \"\\u0431\\u0440\\u0430\\u0442\", \"\\u0443\\u043c\\u0435\\u0440\\u0435\\u0442\\u044c\", \"\\u0441\\u0442\\u043e\\u0438\\u0442\\u044c\", \"\\u043e\\u0431\\u043d\\u043e\\u0432\\u043b\\u0435\\u043d\\u0438\\u0435\", \"\\u0431\\u043b\\u044f\\u0434\\u044c\", \"\\u043f\\u043b\\u0430\\u0447\", \"\\u0438\\u0441\\u043a\\u0430\\u0442\\u044c\", \"\\u043e\\u0431\\u0440\\u0430\\u0442\\u043d\\u043e\", \"\\u0433\\u0443\\u043b\\u044f\\u0442\\u044c\", \"\\u043f\\u043e\\u0437\\u0432\\u043e\\u043d\\u0438\\u0442\\u044c\", \"\\u0436\\u0438\\u0437\\u043d\\u044c\", \"\\u0431\\u043e\\u043b\\u0435\\u0442\\u044c\", \"\\u043c\\u043e\\u0437\\u0433\", \"\\u0440\\u0443\\u043a\\u0430\", \"\\u0433\\u043e\\u043b\\u043e\\u0432\\u0430\", \"\\u0441\\u043a\\u0443\\u0447\\u043d\\u043e\", \"\\u0437\\u0430\\u0447\\u0451\\u0442\", \"\\u0441\\u043b\\u0438\\u0448\\u043a\\u043e\\u043c\", \"\\u0431\\u043e\\u0433\", \"\\u043f\\u0438\\u0437\\u0434\\u0435\\u0446\", \"\\u043d\\u0430\\u0447\\u0438\\u043d\\u0430\\u0442\\u044c\", \"\\u0445\\u0432\\u0430\\u0442\\u0430\\u0442\\u044c\", \"\\u043f\\u043e\\u0441\\u0442\\u0430\\u0432\\u0438\\u0442\\u044c\", \"\\u043b\\u0451\\u0433\\u043a\\u0438\\u0439\", \"\\u0430\\u043d\\u0433\\u043b\\u0438\\u0439\\u0441\\u043a\\u0438\\u0439\", \"\\u0437\\u0430\\u0431\\u043e\\u043b\\u0435\\u0442\\u044c\", \"\\u0430\\u0430\\u0430\", \"\\u043c\\u0443\\u0436\", \"\\u044f\\u043d\\u0432\\u0430\\u0440\\u044c\", \"\\u043f\\u0440\\u043e\\u0434\\u043e\\u043b\\u0436\\u0430\\u0442\\u044c\", \"\\u0431\\u0430\\u0431\\u0430\", \"\\u0434\\u0430\\u043b\\u0451\\u043a\\u0438\\u0439\", \"\\u043f\\u043e\\u0441\\u0442\\u043e\\u044f\\u043d\\u043d\\u043e\", \"\\u0432\\u0441\\u0442\\u0430\\u0432\\u0430\\u0442\\u044c\", \"\\u043f\\u043e\\u043d\\u0440\\u0430\\u0432\\u0438\\u0442\\u044c\\u0441\\u044f\", \"\\u043c\\u0435\\u0447\\u0442\\u0430\\u0442\\u044c\", \"\\u0445\\u0432\\u0430\\u0442\\u0438\\u0442\\u044c\", \"\\u043d\\u043e\\u0433\\u0430\", \"\\u043f\\u044b\\u0442\\u0430\\u0442\\u044c\\u0441\\u044f\", \"\\u0430\\u0430\\u0430\\u0430\"], \"Freq\": [1349.0, 1030.0, 1009.0, 505.0, 406.0, 515.0, 417.0, 324.0, 336.0, 296.0, 274.0, 310.0, 282.0, 277.0, 275.0, 258.0, 274.0, 242.0, 181.0, 214.0, 188.0, 186.0, 208.0, 190.0, 180.0, 166.0, 182.0, 176.0, 172.0, 157.0, 1029.4607336373929, 1008.801505325466, 165.76486518591744, 153.4412814039234, 121.1127092333973, 117.48277135503186, 113.05749895126151, 103.84952482757843, 93.80879973613496, 91.97626669088149, 77.40253815368476, 73.1183603519246, 69.7161547072531, 64.45463111916615, 63.044014759349295, 60.069393048250404, 58.71870698908122, 52.676882354177664, 52.42313119768998, 45.20089973674692, 43.15779618440464, 41.18601560432644, 40.330840465263186, 39.17741487917309, 38.79358607652555, 36.094771249369174, 35.43917390127123, 34.411903973537726, 34.39802430594718, 33.302524395094814, 1348.967090682282, 416.198094282954, 182.42053661458874, 154.088916761524, 110.13410999245434, 95.42104038619713, 91.39939157930529, 90.84454861364736, 90.75816632971822, 89.3052219908504, 79.79494883041501, 74.7287745291646, 74.39266418464751, 70.81687758356279, 68.81049056140523, 62.023355037606514, 58.292160747071826, 55.347806880364246, 48.69716104199399, 44.568371711201415, 42.52196783582608, 42.506574191143415, 40.26636366691763, 38.98076489775691, 37.24651991544557, 35.34601032464717, 34.423687851014655, 34.394293747991995, 34.37689429343058, 32.4704335025674, 118.74258238504498, 309.3145344264923, 273.1619803094434, 207.31912125574382, 176.8023587930109, 175.53598138178563, 169.77139613143103, 167.4845691078575, 108.9153850317367, 88.99887579381867, 81.84352884334467, 76.94582557726062, 75.46183230176793, 72.08763179456218, 69.74506102038924, 65.97718171176028, 65.30434845505309, 64.72536547096672, 64.51436792443889, 62.89172546717551, 57.0109427738996, 55.79982984075802, 49.251115541503715, 48.56534192687246, 47.94716752207002, 47.517098865636164, 47.1624415610371, 46.13822312390624, 44.11907851439986, 43.16709951645441, 43.149131154138324, 504.32882686527853, 241.90532459362714, 181.97251854516836, 171.3752206754672, 134.86779504024994, 130.13274624843615, 115.4483149109309, 113.57609727338159, 95.81126720034214, 91.225974406153, 89.88246075102555, 66.94456356506353, 65.95268818849708, 61.09315883426185, 57.52019119386561, 54.19517136661346, 50.86042757087087, 50.180633078436166, 47.80111719012423, 47.12620571293226, 47.105075296149664, 46.124851092210164, 44.5183849631614, 41.81778309996074, 40.46459136215562, 40.4607522491535, 38.08522842655294, 36.99102768749962, 36.800758341012916, 36.42082381124106, 396.0638212296449, 335.2531102180229, 281.8241927254397, 276.63840731302116, 274.39349583721656, 213.68980897027933, 139.40828987078646, 108.50000087344141, 99.23832842811784, 63.78709710169754, 62.34971362889504, 60.41769664682032, 56.37986625342303, 53.5640366487826, 52.38622268358629, 50.56293841330982, 48.92446967330527, 48.62740704621603, 46.35198172258597, 45.29598327192415, 43.00569701142578, 42.72354101201768, 41.89860480933277, 41.27327273000114, 40.646113018156875, 37.44143555861586, 36.51851921541534, 36.131323844911584, 35.9597548427885, 34.84178061210987, 34.39877010618397, 257.9589658627276, 189.3599934601301, 179.51841195018866, 175.19731218679846, 152.56757454714264, 147.55105256032496, 140.91796470013338, 114.98996277545335, 105.38862802930979, 95.91054163802556, 72.43091262541381, 70.62021504060898, 70.51696795944294, 68.25982603159002, 64.46048824658041, 60.63216489061638, 56.25274314923265, 56.02735447446407, 54.69728062446168, 51.728621415688536, 51.57865164852433, 51.50592368985807, 50.35116660992089, 48.1246016744374, 46.17644868177737, 46.114245805651336, 45.59077666611643, 43.90869124971292, 42.898250774049785, 41.587281214761305, 405.1457389122242, 324.05102503249924, 156.93290733963397, 137.58771055154048, 128.29424316059706, 89.12099690554585, 87.43139590716898, 78.52086708195084, 69.181361605949, 66.57482612941737, 61.30308856604194, 59.9785679438125, 57.26300903909124, 55.3813129020335, 54.91978519523765, 50.330053530205575, 49.99151796025447, 49.98820846090151, 49.23707990032985, 49.120497051340934, 46.729980134060405, 45.205234800977145, 44.268361408403855, 40.17269867598366, 38.49082421173973, 35.37293831785613, 34.37761785601683, 32.85929491771753, 31.913980663428184, 31.59806437469832, 295.60700551591606, 273.5921241237815, 185.19490476492115, 151.03894439852422, 148.00632319709132, 103.52845571686088, 90.68729018385193, 85.309050354861, 84.17293470940666, 83.928602807329, 68.3471640830999, 65.78453928780608, 62.08248739132447, 54.383184748438104, 53.807676150310655, 53.02861261722935, 52.25680067424105, 50.7359741691362, 49.6324377705031, 48.578912445348294, 45.67526061810584, 45.379514008587684, 45.363006526247226, 40.93796176068236, 39.18156128247912, 38.558154842492776, 36.8275830965564, 36.611168260201566, 33.502470720471116, 32.872699687463225, 187.3727689535647, 165.59856510578092, 142.75262010705237, 128.28336318615405, 116.97221238152675, 104.61354795074719, 100.58026984459379, 99.21176900456804, 83.06907186326268, 81.39937023215795, 74.1307279396249, 72.22757217653066, 67.96105985540552, 66.12244362822473, 58.95780375868525, 54.27026641581923, 53.31794020553104, 53.12126719476584, 52.471296339900015, 51.779278572995146, 48.44698290662432, 48.083023296595286, 47.06723880906439, 45.319680444858164, 42.61219651563811, 42.36516250780045, 39.718632245342775, 39.27755201334123, 37.28631032141552, 35.90439454330498, 180.37183227245043, 83.82596247479815, 80.12269762087006, 76.50555744518864, 75.17275064663995, 72.70125351641883, 67.08856065560951, 65.66363039937187, 55.56121802383798, 53.360069556127385, 52.15357192013218, 51.026824112670525, 48.709662552626575, 48.621419039439274, 46.3955095547494, 46.299854705492734, 45.19504738797901, 44.43166601416581, 39.864457678755585, 38.80088050435052, 38.22933395156301, 36.28292035078859, 36.13757836355202, 34.54987388715722, 33.856508083952306, 33.589438570754645, 28.806510365897168, 28.693109127457074, 26.53556646627342, 26.265357683558754], \"Total\": [1349.0, 1030.0, 1009.0, 505.0, 406.0, 515.0, 417.0, 324.0, 336.0, 296.0, 274.0, 310.0, 282.0, 277.0, 275.0, 258.0, 274.0, 242.0, 181.0, 214.0, 188.0, 186.0, 208.0, 190.0, 180.0, 166.0, 182.0, 176.0, 172.0, 157.0, 1030.3377405268116, 1009.6785332740338, 166.64183731540405, 154.31827121196102, 121.98976613521498, 118.359772799828, 113.93451312438282, 104.72654816500865, 94.68600238715294, 92.85323831114128, 78.27949913344749, 73.99530432621135, 70.5931483883078, 65.3317279362413, 63.921013550970876, 60.946368920414024, 59.59572000174488, 53.55383587610691, 53.30019888795068, 46.07793917950519, 44.034767990180285, 42.06303783346735, 41.207820698732405, 40.054370276305754, 39.67068588998263, 36.97174930679272, 36.316173820127254, 35.28903086624515, 35.275015554658886, 34.179622132552346, 1349.837761759048, 417.06879749748305, 183.29129537058853, 154.9596205643919, 111.00486137368661, 96.29181075607306, 92.27020142563136, 91.71523142322307, 91.62884382046467, 90.1761203086329, 80.66579912620892, 75.59945920345002, 75.26348162693192, 71.68762904632567, 69.68126712326458, 62.89409449261088, 59.16310999934937, 56.21847085638724, 49.567825991649585, 45.43917478885986, 43.39273860544947, 43.37723060621537, 41.13706811817645, 39.85149000574591, 38.11738350190434, 36.21665525861853, 35.29432961279056, 35.26498233048044, 35.24761605472175, 33.34114387313163, 515.581055040003, 310.17962066942954, 274.02708968227574, 208.1841976388978, 177.6674497781673, 176.4011274677936, 170.6365017234266, 168.34967524081986, 109.7804579355558, 89.86398709912655, 82.70865899323991, 77.81097603578228, 76.32696215083654, 72.95275969258495, 70.61014408751971, 66.84230509859597, 66.16957171162368, 65.59057096023683, 65.37975542768771, 63.75685879627534, 57.876051224087895, 56.66496566645193, 50.11655667684753, 49.43071953983149, 48.812229552339396, 48.38250902330722, 48.02762396025114, 47.00330947371398, 44.98422415357774, 44.03226615781596, 44.01419927407011, 505.1963895025113, 242.7728390514816, 182.8400457020761, 172.24276400170328, 135.73529250078946, 131.00028339361097, 116.31586267374755, 114.44360637970392, 96.6789192355627, 92.09347255910939, 90.75004202435055, 67.81216052325694, 66.82019637316127, 61.96075281302126, 58.387763812247734, 55.06268594890011, 51.72795116565709, 51.04821287987051, 48.66867353474915, 47.99370268053266, 47.97264569588751, 46.99249242598923, 45.38586869027086, 42.6858159271956, 41.33207915391207, 41.32834657594253, 38.95272283022851, 37.858566703538884, 37.668363849662484, 37.28832903231379, 515.581055040003, 336.12131062591317, 282.69237898084043, 277.5065884330932, 275.26171380066336, 214.557994590061, 140.27647784908652, 109.36825530805378, 100.10652136550279, 64.65542572902923, 63.21790045067904, 61.28598131224979, 57.248147294724085, 54.432281088344645, 53.25443539292205, 51.43120786406246, 49.79272926492571, 49.49563315156132, 47.22021947036371, 46.16425909008083, 43.87403652776114, 43.59180387789967, 42.76681669451213, 42.141722729281796, 41.5143849036428, 38.30969959005953, 37.3867428388272, 36.9995265287408, 36.82797051840814, 35.71011782236683, 35.26710611652996, 258.82812626987675, 190.22914008191074, 180.38761336215504, 176.06650412438924, 153.43674713506826, 148.4202502775153, 141.7871245369554, 115.8591335262554, 106.25789822934485, 96.77969893147767, 73.30015696992932, 71.4893879134989, 71.38614828021812, 69.1290761905122, 65.32961803084079, 61.50134474862821, 57.12207018043075, 56.896495269865646, 55.56647489419225, 52.597848786826425, 52.44782394410464, 52.37505531545769, 51.220353757363846, 48.993939311771, 47.04560383460984, 46.983405120564214, 46.45989006164342, 44.77783760989767, 43.76737044793137, 42.4564644032503, 406.01408794066003, 324.9193707892873, 157.80126945470985, 138.45609187359267, 129.16263803736751, 89.98940675351007, 88.29976560359485, 79.38922435394848, 70.04978548911602, 67.44315972495302, 62.17142048925214, 60.84707527274917, 58.13136920515074, 56.249819030258465, 55.788174036303275, 51.1983641651906, 50.85984949395128, 50.8565617325982, 50.10557589457811, 49.9888347380569, 47.59835077576422, 46.073672549784554, 45.1367193295036, 41.041179464624896, 39.35914098194145, 36.24743954738294, 35.246033212097, 33.72766454963391, 32.7823678529717, 32.466385768062516, 296.47053713362146, 274.4556626827439, 186.0584586147681, 151.90247931555547, 148.86982721849665, 104.39202090924508, 91.5508358039812, 86.17256669635316, 85.03649382587429, 84.79213763180911, 69.21074702068209, 66.64808018964202, 62.94621633175516, 55.24672633654979, 54.67119583786098, 53.89211108786579, 53.120296147806634, 51.5995347786055, 50.49596351463848, 49.442418396172876, 46.538779790058385, 46.24300318190141, 46.22653053891904, 41.80153791024268, 40.04510155482723, 39.42182555345926, 37.69106222385877, 37.47480046740941, 34.36598645888156, 33.73627686035954, 188.23608180461133, 166.46189853134504, 143.6159080209519, 129.1466543496863, 117.83552208521463, 105.47689577647459, 101.44357520892325, 100.07509353208992, 83.93239478238675, 82.26268759181764, 74.99408196213494, 73.09089966964636, 68.82438567863426, 66.98579047009949, 59.82112502572742, 55.13363942725246, 54.18136446972301, 53.9847065702333, 53.33459852026087, 52.64261382440266, 49.31030083462591, 48.946423396493756, 47.9305426916267, 46.18366007372562, 43.475584673146535, 43.22875557006398, 40.58193484725338, 40.14088319709852, 38.14961273774628, 36.76773192836152, 181.2316196203001, 84.68571522557136, 80.98256558236292, 77.3653360650276, 76.03254204842546, 73.56104657450206, 67.94839394620193, 66.52341827466074, 56.42098308475492, 54.21985781329033, 53.01336415916701, 51.8866145393702, 49.56945512126707, 49.4812299553365, 47.255301189601575, 47.1596499711687, 46.05495166740847, 45.29146637878596, 40.724553021959906, 39.660777706531356, 39.08949884191309, 37.14279176284277, 36.997514628696536, 35.40965682404162, 34.71632239887286, 34.4492732716737, 29.66628460725112, 29.552875365438528, 27.395338957630475, 27.125121741518825], \"Category\": [\"Default\", \"Default\", \"Default\", \"Default\", \"Default\", \"Default\", \"Default\", \"Default\", \"Default\", \"Default\", \"Default\", \"Default\", \"Default\", \"Default\", \"Default\", \"Default\", \"Default\", \"Default\", \"Default\", \"Default\", \"Default\", \"Default\", \"Default\", \"Default\", \"Default\", \"Default\", \"Default\", \"Default\", \"Default\", \"Default\", \"Topic1\", \"Topic1\", \"Topic1\", \"Topic1\", \"Topic1\", \"Topic1\", \"Topic1\", \"Topic1\", \"Topic1\", \"Topic1\", \"Topic1\", \"Topic1\", \"Topic1\", \"Topic1\", \"Topic1\", \"Topic1\", \"Topic1\", \"Topic1\", \"Topic1\", \"Topic1\", \"Topic1\", \"Topic1\", \"Topic1\", \"Topic1\", \"Topic1\", \"Topic1\", \"Topic1\", \"Topic1\", \"Topic1\", \"Topic1\", \"Topic2\", \"Topic2\", \"Topic2\", \"Topic2\", \"Topic2\", \"Topic2\", \"Topic2\", \"Topic2\", \"Topic2\", \"Topic2\", \"Topic2\", \"Topic2\", \"Topic2\", \"Topic2\", \"Topic2\", \"Topic2\", \"Topic2\", \"Topic2\", \"Topic2\", \"Topic2\", \"Topic2\", \"Topic2\", \"Topic2\", \"Topic2\", \"Topic2\", \"Topic2\", \"Topic2\", \"Topic2\", \"Topic2\", \"Topic2\", \"Topic2\", \"Topic3\", \"Topic3\", \"Topic3\", \"Topic3\", \"Topic3\", \"Topic3\", \"Topic3\", \"Topic3\", \"Topic3\", \"Topic3\", \"Topic3\", \"Topic3\", \"Topic3\", \"Topic3\", \"Topic3\", \"Topic3\", \"Topic3\", \"Topic3\", \"Topic3\", \"Topic3\", \"Topic3\", \"Topic3\", \"Topic3\", \"Topic3\", \"Topic3\", \"Topic3\", \"Topic3\", \"Topic3\", \"Topic3\", \"Topic3\", \"Topic4\", \"Topic4\", \"Topic4\", \"Topic4\", \"Topic4\", \"Topic4\", \"Topic4\", \"Topic4\", \"Topic4\", \"Topic4\", \"Topic4\", \"Topic4\", \"Topic4\", \"Topic4\", \"Topic4\", \"Topic4\", \"Topic4\", \"Topic4\", \"Topic4\", \"Topic4\", \"Topic4\", \"Topic4\", \"Topic4\", \"Topic4\", \"Topic4\", \"Topic4\", \"Topic4\", \"Topic4\", \"Topic4\", \"Topic4\", \"Topic4\", \"Topic5\", \"Topic5\", \"Topic5\", \"Topic5\", \"Topic5\", \"Topic5\", \"Topic5\", \"Topic5\", \"Topic5\", \"Topic5\", \"Topic5\", \"Topic5\", \"Topic5\", \"Topic5\", \"Topic5\", \"Topic5\", \"Topic5\", \"Topic5\", \"Topic5\", \"Topic5\", \"Topic5\", \"Topic5\", \"Topic5\", \"Topic5\", \"Topic5\", \"Topic5\", \"Topic5\", \"Topic5\", \"Topic5\", \"Topic5\", \"Topic6\", \"Topic6\", \"Topic6\", \"Topic6\", \"Topic6\", \"Topic6\", \"Topic6\", \"Topic6\", \"Topic6\", \"Topic6\", \"Topic6\", \"Topic6\", \"Topic6\", \"Topic6\", \"Topic6\", \"Topic6\", \"Topic6\", \"Topic6\", \"Topic6\", \"Topic6\", \"Topic6\", \"Topic6\", \"Topic6\", \"Topic6\", \"Topic6\", \"Topic6\", \"Topic6\", \"Topic6\", \"Topic6\", \"Topic6\", \"Topic7\", \"Topic7\", \"Topic7\", \"Topic7\", \"Topic7\", \"Topic7\", \"Topic7\", \"Topic7\", \"Topic7\", \"Topic7\", \"Topic7\", \"Topic7\", \"Topic7\", \"Topic7\", \"Topic7\", \"Topic7\", \"Topic7\", \"Topic7\", \"Topic7\", \"Topic7\", \"Topic7\", \"Topic7\", \"Topic7\", \"Topic7\", \"Topic7\", \"Topic7\", \"Topic7\", \"Topic7\", \"Topic7\", \"Topic7\", \"Topic8\", \"Topic8\", \"Topic8\", \"Topic8\", \"Topic8\", \"Topic8\", \"Topic8\", \"Topic8\", \"Topic8\", \"Topic8\", \"Topic8\", \"Topic8\", \"Topic8\", \"Topic8\", \"Topic8\", \"Topic8\", \"Topic8\", \"Topic8\", \"Topic8\", \"Topic8\", \"Topic8\", \"Topic8\", \"Topic8\", \"Topic8\", \"Topic8\", \"Topic8\", \"Topic8\", \"Topic8\", \"Topic8\", \"Topic8\", \"Topic9\", \"Topic9\", \"Topic9\", \"Topic9\", \"Topic9\", \"Topic9\", \"Topic9\", \"Topic9\", \"Topic9\", \"Topic9\", \"Topic9\", \"Topic9\", \"Topic9\", \"Topic9\", \"Topic9\", \"Topic9\", \"Topic9\", \"Topic9\", \"Topic9\", \"Topic9\", \"Topic9\", \"Topic9\", \"Topic9\", \"Topic9\", \"Topic9\", \"Topic9\", \"Topic9\", \"Topic9\", \"Topic9\", \"Topic9\", \"Topic10\", \"Topic10\", \"Topic10\", \"Topic10\", \"Topic10\", \"Topic10\", \"Topic10\", \"Topic10\", \"Topic10\", \"Topic10\", \"Topic10\", \"Topic10\", \"Topic10\", \"Topic10\", \"Topic10\", \"Topic10\", \"Topic10\", \"Topic10\", \"Topic10\", \"Topic10\", \"Topic10\", \"Topic10\", \"Topic10\", \"Topic10\", \"Topic10\", \"Topic10\", \"Topic10\", \"Topic10\", \"Topic10\", \"Topic10\"], \"logprob\": [30.0, 29.0, 28.0, 27.0, 26.0, 25.0, 24.0, 23.0, 22.0, 21.0, 20.0, 19.0, 18.0, 17.0, 16.0, 15.0, 14.0, 13.0, 12.0, 11.0, 10.0, 9.0, 8.0, 7.0, 6.0, 5.0, 4.0, 3.0, 2.0, 1.0, -1.6207, -1.6409, -3.4469, -3.5241, -3.7607, -3.7912, -3.8296, -3.9145, -4.0162, -4.0359, -4.2084, -4.2654, -4.313, -4.3915, -4.4136, -4.462, -4.4847, -4.5933, -4.5981, -4.7463, -4.7926, -4.8394, -4.8603, -4.8894, -4.8992, -4.9713, -4.9896, -5.0191, -5.0195, -5.0518, -1.3259, -2.5018, -3.3267, -3.4954, -3.8313, -3.9747, -4.0177, -4.0238, -4.0248, -4.0409, -4.1535, -4.2191, -4.2236, -4.2729, -4.3016, -4.4055, -4.4675, -4.5193, -4.6474, -4.736, -4.783, -4.7833, -4.8375, -4.8699, -4.9154, -4.9678, -4.9942, -4.9951, -4.9956, -5.0526, -3.756, -2.7163, -2.8406, -3.1164, -3.2757, -3.2828, -3.3162, -3.3298, -3.7601, -3.9621, -4.0459, -4.1076, -4.1271, -4.1728, -4.2058, -4.2614, -4.2716, -4.2805, -4.2838, -4.3093, -4.4075, -4.4289, -4.5538, -4.5678, -4.5806, -4.5896, -4.5971, -4.6191, -4.6638, -4.6856, -4.686, -2.0969, -2.8316, -3.1163, -3.1763, -3.4159, -3.4516, -3.5713, -3.5877, -3.7578, -3.8068, -3.8217, -4.1163, -4.1312, -4.2078, -4.268, -4.3276, -4.3911, -4.4045, -4.4531, -4.4673, -4.4678, -4.4888, -4.5243, -4.5868, -4.6197, -4.6198, -4.6803, -4.7095, -4.7146, -4.725, -2.3386, -2.501, -2.6746, -2.6932, -2.7013, -2.9514, -3.3785, -3.6291, -3.7184, -4.1603, -4.1831, -4.2146, -4.2838, -4.335, -4.3573, -4.3927, -4.4256, -4.4317, -4.4796, -4.5027, -4.5546, -4.5611, -4.5806, -4.5957, -4.611, -4.6931, -4.7181, -4.7287, -4.7335, -4.7651, -4.7779, -2.7117, -3.0209, -3.0742, -3.0986, -3.2369, -3.2703, -3.3163, -3.5197, -3.6069, -3.7011, -3.9819, -4.0072, -4.0087, -4.0412, -4.0985, -4.1597, -4.2347, -4.2387, -4.2627, -4.3185, -4.3214, -4.3228, -4.3455, -4.3907, -4.432, -4.4334, -4.4448, -4.4824, -4.5057, -4.5367, -2.1615, -2.3849, -3.1099, -3.2415, -3.3114, -3.6758, -3.6949, -3.8024, -3.929, -3.9674, -4.0499, -4.0718, -4.1181, -4.1515, -4.1599, -4.2471, -4.2539, -4.254, -4.2691, -4.2715, -4.3214, -4.3545, -4.3755, -4.4726, -4.5153, -4.5998, -4.6283, -4.6735, -4.7027, -4.7127, -2.4252, -2.5026, -2.8928, -3.0967, -3.117, -3.4744, -3.6068, -3.668, -3.6814, -3.6843, -3.8897, -3.9279, -3.9858, -4.1182, -4.1288, -4.1434, -4.1581, -4.1876, -4.2096, -4.2311, -4.2927, -4.2992, -4.2996, -4.4022, -4.4461, -4.4621, -4.508, -4.5139, -4.6026, -4.6216, -2.8624, -2.9859, -3.1344, -3.2412, -3.3336, -3.4452, -3.4845, -3.4982, -3.6758, -3.6961, -3.7897, -3.8157, -3.8766, -3.904, -4.0187, -4.1015, -4.1192, -4.1229, -4.1352, -4.1485, -4.215, -4.2226, -4.2439, -4.2817, -4.3433, -4.3492, -4.4137, -4.4248, -4.4769, -4.5146, -2.6138, -3.3801, -3.4253, -3.4715, -3.489, -3.5225, -3.6028, -3.6243, -3.7913, -3.8318, -3.8546, -3.8765, -3.9229, -3.9248, -3.9716, -3.9737, -3.9978, -4.0149, -4.1233, -4.1504, -4.1652, -4.2175, -4.2215, -4.2664, -4.2867, -4.2946, -4.4482, -4.4522, -4.5303, -4.5406], \"loglift\": [30.0, 29.0, 28.0, 27.0, 26.0, 25.0, 24.0, 23.0, 22.0, 21.0, 20.0, 19.0, 18.0, 17.0, 16.0, 15.0, 14.0, 13.0, 12.0, 11.0, 10.0, 9.0, 8.0, 7.0, 6.0, 5.0, 4.0, 3.0, 2.0, 1.0, 2.0294, 2.0293, 2.0249, 2.0245, 2.023, 2.0228, 2.0225, 2.0218, 2.0209, 2.0207, 2.0189, 2.0183, 2.0177, 2.0167, 2.0164, 2.0157, 2.0154, 2.0137, 2.0136, 2.011, 2.0101, 2.0091, 2.0087, 2.0081, 2.0079, 2.0062, 2.0058, 2.005, 2.005, 2.0042, 2.054, 2.0526, 2.0499, 2.0491, 2.0468, 2.0456, 2.0452, 2.0452, 2.0451, 2.045, 2.0438, 2.0431, 2.0431, 2.0425, 2.0421, 2.0408, 2.0399, 2.0391, 2.037, 2.0353, 2.0344, 2.0344, 2.0333, 2.0326, 2.0316, 2.0304, 2.0297, 2.0297, 2.0297, 2.0282, 0.5864, 2.1342, 2.1338, 2.1328, 2.1321, 2.1321, 2.1319, 2.1318, 2.1291, 2.1273, 2.1265, 2.1258, 2.1256, 2.125, 2.1246, 2.1239, 2.1238, 2.1237, 2.1237, 2.1233, 2.1219, 2.1216, 2.1196, 2.1193, 2.1191, 2.1189, 2.1188, 2.1184, 2.1176, 2.1171, 2.1171, 2.2658, 2.2639, 2.2628, 2.2625, 2.2611, 2.2609, 2.26, 2.2599, 2.2585, 2.2581, 2.2579, 2.2546, 2.2544, 2.2534, 2.2525, 2.2516, 2.2506, 2.2504, 2.2495, 2.2493, 2.2493, 2.2489, 2.2482, 2.247, 2.2463, 2.2463, 2.245, 2.2443, 2.2442, 2.244, 2.0038, 2.2692, 2.2687, 2.2686, 2.2686, 2.2677, 2.2656, 2.2638, 2.2631, 2.2583, 2.2579, 2.2575, 2.2565, 2.2557, 2.2553, 2.2547, 2.2542, 2.2541, 2.2532, 2.2528, 2.2518, 2.2517, 2.2513, 2.251, 2.2506, 2.2488, 2.2483, 2.248, 2.2479, 2.2472, 2.2468, 2.3198, 2.3186, 2.3183, 2.3182, 2.3175, 2.3173, 2.317, 2.3156, 2.3149, 2.3141, 2.3112, 2.3109, 2.3109, 2.3105, 2.3098, 2.3089, 2.3078, 2.3078, 2.3074, 2.3065, 2.3064, 2.3064, 2.306, 2.3053, 2.3045, 2.3045, 2.3043, 2.3036, 2.3031, 2.3025, 2.4198, 2.4192, 2.4164, 2.4156, 2.4152, 2.4122, 2.412, 2.4109, 2.4094, 2.409, 2.4079, 2.4075, 2.4069, 2.4064, 2.4062, 2.4048, 2.4047, 2.4047, 2.4044, 2.4044, 2.4035, 2.4029, 2.4025, 2.4005, 2.3996, 2.3975, 2.397, 2.3958, 2.3951, 2.3948, 2.4705, 2.4703, 2.4688, 2.4677, 2.4676, 2.4651, 2.4639, 2.4633, 2.4632, 2.4632, 2.4609, 2.4604, 2.4596, 2.4577, 2.4575, 2.4573, 2.457, 2.4565, 2.4562, 2.4558, 2.4547, 2.4546, 2.4546, 2.4525, 2.4516, 2.4513, 2.4502, 2.4501, 2.448, 2.4475, 2.4876, 2.487, 2.4862, 2.4855, 2.4848, 2.484, 2.4836, 2.4835, 2.4818, 2.4816, 2.4806, 2.4803, 2.4796, 2.4792, 2.4776, 2.4764, 2.4761, 2.4761, 2.4759, 2.4756, 2.4745, 2.4744, 2.474, 2.4733, 2.4721, 2.472, 2.4707, 2.4704, 2.4693, 2.4684, 2.7741, 2.7687, 2.7682, 2.7677, 2.7675, 2.7671, 2.7661, 2.7658, 2.7635, 2.7629, 2.7625, 2.7621, 2.7614, 2.7613, 2.7605, 2.7605, 2.76, 2.7597, 2.7575, 2.7569, 2.7566, 2.7554, 2.7553, 2.7543, 2.7538, 2.7536, 2.7494, 2.7493, 2.747, 2.7466]}, \"token.table\": {\"Topic\": [2, 10, 10, 2, 10, 5, 8, 2, 10, 6, 7, 9, 10, 10, 7, 9, 8, 9, 9, 6, 5, 3, 2, 8, 2, 2, 8, 2, 2, 6, 5, 10, 1, 4, 9, 2, 7, 1, 3, 2, 5, 3, 5, 10, 9, 8, 9, 1, 10, 8, 5, 9, 1, 5, 2, 4, 1, 1, 4, 7, 4, 9, 2, 6, 1, 6, 3, 4, 4, 7, 3, 5, 6, 10, 4, 10, 8, 6, 1, 3, 2, 10, 3, 1, 1, 3, 2, 1, 9, 2, 3, 4, 8, 3, 8, 4, 1, 8, 6, 5, 6, 6, 5, 5, 1, 9, 5, 7, 1, 3, 9, 3, 1, 10, 9, 6, 8, 1, 9, 10, 4, 4, 2, 7, 10, 3, 10, 5, 2, 8, 7, 3, 7, 3, 5, 8, 10, 5, 4, 4, 2, 4, 7, 2, 3, 6, 5, 10, 7, 6, 1, 1, 3, 9, 5, 9, 4, 9, 5, 7, 7, 1, 6, 3, 6, 6, 10, 9, 7, 9, 2, 3, 7, 2, 9, 9, 1, 8, 4, 4, 4, 10, 1, 8, 7, 10, 10, 3, 2, 5, 2, 3, 3, 1, 3, 4, 5, 8, 10, 1, 5, 8, 4, 3, 10, 9, 8, 7, 1, 8, 6, 8, 8, 5, 5, 5, 6, 10, 4, 3, 2, 8, 8, 4, 5, 7, 7, 8, 1, 6, 9, 9, 7, 9, 10, 10, 8, 1, 6, 2, 5, 3, 9, 4, 1, 2, 7, 8, 3, 6, 8, 9, 4, 5, 1, 4, 8, 7, 6, 3, 6, 9, 1, 2, 7, 3, 9, 3, 9, 6, 7, 4, 4, 4, 7, 7, 6, 8, 6, 10, 10, 5, 6, 5, 7, 6, 2, 8, 7, 2, 6, 4, 5, 2, 4, 6, 7, 4, 1, 10, 7, 2], \"Freq\": [0.9993793611478492, 0.9770936320804996, 0.9585210436199935, 0.9869575193010348, 0.9734357594174471, 0.9807348798046652, 0.991051845550356, 0.9783261472995257, 0.9721280938822144, 0.9935386340842339, 0.9830937467863813, 0.989060879187203, 0.9925385368751458, 0.9919028229997838, 0.9860786197372325, 0.9929094209417563, 0.9774334803304899, 0.973427441884398, 0.9850747538397123, 0.9918482311130377, 0.9764444898595475, 0.9848633207421849, 0.9974373592464933, 0.9884229927709991, 0.9904079817470137, 0.9931370538550415, 0.9983397584939955, 0.9865844172424436, 0.9929549552913699, 0.9945907113701898, 0.9896556156150207, 0.9884309292779285, 0.9993279709811859, 0.9755415601014374, 0.9888911214221375, 0.9857841264776309, 0.9746308590979377, 0.983093665387016, 0.9777208022481052, 0.990949209059597, 0.9790167133704238, 0.9962432635859823, 0.9981744994381805, 0.9864197352790358, 0.9877928967101407, 0.9863928075801092, 0.9698656773884149, 0.9836547353060314, 0.9692324753039698, 0.978910205156059, 0.9729854238009132, 0.9846505429280038, 0.9914574521758973, 0.9889465606195352, 0.2308075497280772, 0.7680654595993157, 0.9638549966708522, 0.9637579160556335, 0.9961237993651466, 0.9811582157841375, 0.9927848115483621, 0.9852835883075901, 0.9803406210498035, 0.9971685111921755, 0.9961484023115441, 0.9901013527790695, 0.982324629261304, 0.9807004338675683, 0.9976318328329911, 0.9890052975210721, 0.9928907389326619, 0.9876094778993664, 0.9803566261361594, 0.9932041681088516, 0.9917350779391453, 0.9754101234449862, 0.973120189080023, 0.9968004780554133, 0.9654875607466449, 0.976957452576728, 0.991303488006417, 0.9860424376335838, 0.9962518680782012, 0.9736765234596768, 0.9927549757106863, 0.991982905586903, 0.9832125540883854, 0.9765011140648899, 0.9856602488411721, 0.9902230950815026, 0.9826147653012286, 0.9914980433027697, 0.9739018877653153, 0.9920940639287029, 0.9873301402145602, 0.9862606994153699, 0.9747275068986685, 0.9808251573910088, 0.9777746750092593, 0.984079417283838, 0.9978512196323767, 0.9842434008349111, 0.9820698206277643, 0.9801143803025468, 0.9756061156416321, 0.9956273701118113, 0.9800785020724478, 0.9934291375617584, 0.9855913806773972, 0.9833601218426526, 0.9972251996677902, 0.9943117794129992, 0.9900039801226088, 0.9902744948787474, 0.9794383349434373, 0.9836671303490215, 0.9902760861558509, 0.9885115291482718, 0.9817595272292123, 0.9869584107586061, 0.983933400069819, 0.9678587050778419, 0.9633275478811899, 0.9655854437455568, 0.9878669491970637, 0.9961969755882618, 0.9714854368373714, 0.9775178890730815, 0.9903348863420044, 0.9825063725967257, 0.9784252909488271, 0.976556597061886, 0.9654682254735935, 0.9914318645488155, 0.9909002716017735, 0.9941571288504285, 0.9808847415130175, 0.9640711627332514, 0.9881264922613539, 0.9677713006173321, 0.9786334210935868, 0.982256626480248, 0.9950972646840186, 0.9920705887348111, 0.990385613558705, 0.989805455622821, 0.9973993297657021, 0.9812919941426375, 0.987429170002485, 0.9971535688599824, 0.9915976493207939, 0.9918864822306659, 0.9786544929506491, 0.9743705875230314, 0.9781975949667263, 0.9715780245417972, 0.9794662178999836, 0.9880218955751583, 0.9899863256614247, 0.9779350725974244, 0.9971704648231529, 0.9896583341408416, 0.9881618378463517, 0.9895776138907532, 0.9944485471475216, 0.9919435693633464, 0.9775016412346378, 0.9957114220183599, 0.964647561766771, 0.9715755044562305, 0.9909475912923863, 0.9873986228129995, 0.9761344922831503, 0.9723590384489741, 0.9791194101975783, 0.991121300389389, 0.9865490880093754, 0.9901781552401766, 0.9877253223175096, 0.9792951444661984, 0.988687160603035, 0.9793664089576458, 0.9908108933338203, 0.9962447234392954, 0.9967058735558629, 0.9885119753712452, 0.9730383340960198, 0.9941915440765493, 0.9938072863053176, 0.9966328866907813, 0.964129222620166, 0.9912863995539369, 0.9881289823469227, 0.9930624261207971, 0.9869400459064225, 0.9654495370066776, 0.9864239644783384, 0.9892996950918159, 0.983339265018433, 0.9796159082530167, 0.989862788441358, 0.990657888172972, 0.9968166164942458, 0.9882649595101473, 0.9855691160367862, 0.9867445278863889, 0.9940588243218815, 0.9852800786648754, 0.9844721033069284, 0.9849678600733018, 0.9824670653028085, 0.9816650902605413, 0.9877230445104667, 0.9741589623248248, 0.9747800763398151, 0.9916158324493918, 0.9886335886235682, 0.9952777809338211, 0.9844941714003941, 0.9977260492971235, 0.991746203057293, 0.998412870505883, 0.9734669566454613, 0.9945828937541416, 0.9966639704461907, 0.9777809235335291, 0.9805377162000427, 0.9883810041858345, 0.9917978047322447, 0.991461534332065, 0.9934333428917502, 0.9954786707272347, 0.9802188880129248, 0.9892571318782212, 0.9923730479563823, 0.9921318193166253, 0.9878111881235758, 0.9634721942030394, 0.9939426063481345, 0.9646042429427046, 0.9658128462484898, 0.9913589740482125, 0.9749768713501448, 0.9773217324823175, 0.9706895274185281, 0.9597751091493772, 0.9748160844122186, 0.994311150255417, 0.9962698384167635, 0.9761744371554951, 0.993983279353554, 0.9805856007595495, 0.9797249936546466, 0.9729075449379178, 0.9766061764328071, 0.9788797662189902, 0.9893503287234471, 0.9909986505770255, 0.9928390468859896, 0.9781206818146387, 0.9925846715739445, 0.9781961107608657, 0.973716436873757, 0.9885444644728771, 0.9856348109889921, 0.9786034811736339, 0.9862736612630693, 0.9909960997199604, 0.9806640949262586, 0.9822625622689636, 0.9765937020697751, 0.9859273149379946, 0.995405570487305, 0.9929775876589136, 0.9858720230601133, 0.9850137230002064, 0.9931543977675252, 0.9834463510547714, 0.9826289599628694, 0.9829124611956045, 0.9775406790546239, 0.992058369046797, 0.9892486477697526, 0.9975507688486808, 0.9975023331190216, 0.9796475462291375, 0.9862338934346521, 0.9781755152352134, 0.9831573015670628, 0.970685723959817, 0.9790690964598948, 0.992364265422194, 0.9954163120499313, 0.9922016069509478, 0.9880233793321126, 0.9797130150028127, 0.9949222876502916, 0.9933588172087797, 0.9987016485233982, 0.9822084475287131, 0.9766966145660647, 0.966406194886564], \"Term\": [\"http\", \"\\u0430\\u0430\\u0430\", \"\\u0430\\u0430\\u0430\\u0430\", \"\\u0430\\u0433\\u0430\", \"\\u0430\\u043d\\u0433\\u043b\\u0438\\u0439\\u0441\\u043a\\u0438\\u0439\", \"\\u0430\\u0445\\u0430\\u0445\", \"\\u0430\\u0445\\u0430\\u0445\\u0438\", \"\\u0430\\u0445\\u0438\", \"\\u0431\\u0430\\u0431\\u0430\", \"\\u0431\\u043b\\u0438\\u043d\", \"\\u0431\\u043b\\u044f\", \"\\u0431\\u043b\\u044f\\u0434\\u044c\", \"\\u0431\\u043e\\u0433\", \"\\u0431\\u043e\\u043b\\u0435\\u0442\\u044c\", \"\\u0431\\u043e\\u043b\\u044c\", \"\\u0431\\u043e\\u043b\\u044c\\u0448\\u043e\\u0439\", \"\\u0431\\u043e\\u044f\\u0442\\u044c\\u0441\\u044f\", \"\\u0431\\u0440\\u0430\\u0442\", \"\\u0431\\u044b\\u0432\\u0430\\u0442\\u044c\", \"\\u0431\\u044b\\u0441\\u0442\\u0440\\u043e\", \"\\u0432\\u0430\\u0448\", \"\\u0432\\u0435\\u0440\\u0438\\u0442\\u044c\", \"\\u0432\\u0435\\u0441\\u044c\", \"\\u0432\\u0435\\u0447\\u0435\\u0440\", \"\\u0432\\u0437\\u044f\\u0442\\u044c\", \"\\u0432\\u0438\\u0434\\u0435\\u0442\\u044c\", \"\\u0432\\u043e\\u043e\\u0431\\u0449\\u0435\", \"\\u0432\\u043e\\u043f\\u0440\\u043e\\u0441\", \"\\u0432\\u0440\\u0435\\u043c\\u044f\", \"\\u0432\\u0440\\u043e\\u0434\\u0435\", \"\\u0432\\u0441\\u043f\\u043e\\u043c\\u043d\\u0438\\u0442\\u044c\", \"\\u0432\\u0441\\u0442\\u0430\\u0432\\u0430\\u0442\\u044c\", \"\\u0432\\u0441\\u0451\", \"\\u0432\\u0442\\u043e\\u0440\\u043e\\u0439\", \"\\u0432\\u0447\\u0435\\u0440\\u0430\", \"\\u0432\\u044b\\u0439\\u0442\\u0438\", \"\\u0432\\u044b\\u0441\\u043f\\u0430\\u0442\\u044c\\u0441\\u044f\", \"\\u0432\\u044b\\u0443\\u0447\\u0438\\u0442\\u044c\", \"\\u0432\\u044b\\u0445\\u043e\\u0434\\u0438\\u0442\\u044c\", \"\\u0433\\u043b\\u0430\\u0432\\u043d\\u043e\\u0435\", \"\\u0433\\u043b\\u0430\\u0437\", \"\\u0433\\u043e\\u0432\\u043e\\u0440\\u0438\\u0442\\u044c\", \"\\u0433\\u043e\\u0434\", \"\\u0433\\u043e\\u043b\\u043e\\u0432\\u0430\", \"\\u0433\\u043e\\u0440\\u043e\\u0434\", \"\\u0433\\u0440\\u0443\\u043f\\u043f\\u0430\", \"\\u0433\\u0443\\u043b\\u044f\\u0442\\u044c\", \"\\u0434\\u0430\\u0432\\u0430\\u0442\\u044c\", \"\\u0434\\u0430\\u043b\\u0451\\u043a\\u0438\\u0439\", \"\\u0434\\u0430\\u0442\\u044c\", \"\\u0434\\u0435\\u0432\\u043e\\u0447\\u043a\\u0430\", \"\\u0434\\u0435\\u0432\\u0443\\u0448\\u043a\\u0430\", \"\\u0434\\u0435\\u043b\\u0430\\u0442\\u044c\", \"\\u0434\\u0435\\u043b\\u043e\", \"\\u0434\\u0435\\u043d\\u044c\", \"\\u0434\\u0435\\u043d\\u044c\", \"\\u0434\\u0435\\u043d\\u044c\\u0433\\u0430\", \"\\u0434\\u043e\\u0431\\u0440\\u043e\", \"\\u0434\\u043e\\u0431\\u0440\\u044b\\u0439\", \"\\u0434\\u043e\\u043b\\u0436\\u043d\\u044b\\u0439\", \"\\u0434\\u043e\\u043c\", \"\\u0434\\u043e\\u043c\\u043e\\u0439\", \"\\u0434\\u043e\\u0440\\u043e\\u0433\\u0430\", \"\\u0434\\u0440\\u0443\\u0433\", \"\\u0434\\u0443\\u043c\\u0430\\u0442\\u044c\", \"\\u0434\\u0443\\u0448\\u0430\", \"\\u0435\\u0434\\u0430\", \"\\u0435\\u0445\\u0430\\u0442\\u044c\", \"\\u0435\\u0449\\u0451\", \"\\u0436\\u0430\\u043b\\u044c\", \"\\u0436\\u0434\\u0430\\u0442\\u044c\", \"\\u0436\\u0435\\u043b\\u0430\\u0442\\u044c\", \"\\u0436\\u0435\\u043d\\u0449\\u0438\\u043d\\u0430\", \"\\u0436\\u0438\\u0437\\u043d\\u044c\", \"\\u0436\\u0438\\u0442\\u044c\", \"\\u0437\\u0430\\u0431\\u043e\\u043b\\u0435\\u0442\\u044c\", \"\\u0437\\u0430\\u0431\\u044b\\u0442\\u044c\", \"\\u0437\\u0430\\u0432\\u0442\\u0440\\u0430\", \"\\u0437\\u0430\\u0434\\u0430\\u0432\\u0430\\u0442\\u044c\", \"\\u0437\\u0430\\u043a\\u043e\\u043d\\u0447\\u0438\\u0442\\u044c\\u0441\\u044f\", \"\\u0437\\u0430\\u0442\\u043e\", \"\\u0437\\u0430\\u0447\\u0451\\u0442\", \"\\u0437\\u043d\\u0430\\u0442\\u044c\", \"\\u0438\\u0431\\u043e\", \"\\u0438\\u0433\\u0440\\u0430\\u0442\\u044c\", \"\\u0438\\u0434\\u0442\\u0438\", \"\\u0438\\u043c\\u0435\\u043d\\u043d\\u043e\", \"\\u0438\\u043d\\u0442\\u0435\\u0440\\u0435\\u0441\\u043d\\u044b\\u0439\", \"\\u0438\\u0441\\u043a\\u0430\\u0442\\u044c\", \"\\u0438\\u0441\\u0442\\u043e\\u0440\\u0438\\u044f\", \"\\u043a\\u0430\\u0436\\u0434\\u044b\\u0439\", \"\\u043a\\u0430\\u0437\\u0430\\u0442\\u044c\\u0441\\u044f\", \"\\u043a\\u0430\\u0440\\u0442\\u0438\\u043d\\u043a\\u0430\", \"\\u043a\\u0438\\u043d\\u043e\", \"\\u043a\\u0438\\u043d\\u0443\\u0442\\u044c\", \"\\u043a\\u043b\\u0430\\u0441\\u0441\", \"\\u043a\\u043d\\u0438\\u0433\\u0430\", \"\\u043a\\u043e\\u043d\\u0435\\u0446\", \"\\u043a\\u043e\\u043d\\u0446\\u0435\\u0440\\u0442\", \"\\u043a\\u043e\\u0440\\u043e\\u0447\\u0435\", \"\\u043a\\u043e\\u0442\\u043e\\u0440\\u044b\\u0439\", \"\\u043a\\u043e\\u0444\\u0435\", \"\\u043a\\u0440\\u0430\\u0441\\u0438\\u0432\\u044b\\u0439\", \"\\u043a\\u0440\\u0443\\u0442\\u043e\\u0439\", \"\\u043a\\u0441\\u0442\\u0430\\u0442\\u0438\", \"\\u043a\\u0443\\u043f\\u0438\\u0442\\u044c\", \"\\u043a\\u0443\\u0447\\u0430\", \"\\u043b\\u0430\\u0434\\u043d\\u044b\\u0439\", \"\\u043b\\u0435\\u043d\\u0442\\u0430\", \"\\u043b\\u0435\\u043d\\u044c\", \"\\u043b\\u044e\\u0431\\u0438\\u043c\\u044b\\u0439\", \"\\u043b\\u044e\\u0431\\u0438\\u0442\\u044c\", \"\\u043b\\u044e\\u0431\\u043e\\u0432\\u044c\", \"\\u043b\\u0451\\u0433\\u043a\\u0438\\u0439\", \"\\u043c\\u0430\\u0433\\u0430\\u0437\\u0438\\u043d\", \"\\u043c\\u0430\\u043b\\u0435\\u043d\\u044c\\u043a\\u0438\\u0439\", \"\\u043c\\u0430\\u043b\\u043e\", \"\\u043c\\u0430\\u043c\\u0430\", \"\\u043c\\u0435\\u0441\\u044f\\u0446\", \"\\u043c\\u0435\\u0447\\u0442\\u0430\\u0442\\u044c\", \"\\u043c\\u0438\\u043b\\u044b\\u0439\", \"\\u043c\\u0438\\u043d\\u0443\\u0442\\u0430\", \"\\u043c\\u0438\\u0440\", \"\\u043c\\u043d\\u043e\\u0433\\u0438\\u0435\", \"\\u043c\\u043e\\u0437\\u0433\", \"\\u043c\\u043e\\u0447\\u044c\", \"\\u043c\\u0443\\u0436\", \"\\u043c\\u0443\\u0436\\u0438\\u043a\", \"\\u043c\\u0443\\u0436\\u0447\\u0438\\u043d\\u0430\", \"\\u043c\\u0443\\u0437\\u044b\\u043a\\u0430\", \"\\u043c\\u044b\\u0441\\u043b\\u044c\", \"\\u043d\\u0430\\u0432\\u0435\\u0440\\u043d\\u043e\\u0435\", \"\\u043d\\u0430\\u0434\\u0435\\u044f\\u0442\\u044c\\u0441\\u044f\", \"\\u043d\\u0430\\u0439\\u0442\\u0438\", \"\\u043d\\u0430\\u043f\\u0438\\u0441\\u0430\\u0442\\u044c\", \"\\u043d\\u0430\\u0441\\u0442\\u0440\\u043e\\u0435\\u043d\\u0438\\u0435\", \"\\u043d\\u0430\\u0447\\u0438\\u043d\\u0430\\u0442\\u044c\", \"\\u043d\\u0430\\u0447\\u0438\\u043d\\u0430\\u0442\\u044c\\u0441\\u044f\", \"\\u043d\\u0430\\u0448\", \"\\u043d\\u0435\\u0434\\u0435\\u043b\\u044f\", \"\\u043d\\u0435\\u043d\\u0430\\u0432\\u0438\\u0434\\u0435\\u0442\\u044c\", \"\\u043d\\u0435\\u0441\\u043a\\u043e\\u043b\\u044c\\u043a\\u043e\", \"\\u043d\\u0438\\u0431\\u044b\\u0442\\u044c\", \"\\u043d\\u0438\\u043a\\u0442\\u043e\", \"\\u043d\\u043e\\u0432\\u043e\\u0433\\u043e\\u0434\\u043d\\u0438\\u0439\", \"\\u043d\\u043e\\u0432\\u043e\\u0441\\u0442\\u044c\", \"\\u043d\\u043e\\u0432\\u044b\\u0439\", \"\\u043d\\u043e\\u0433\\u0430\", \"\\u043d\\u043e\\u0440\\u043c\\u0430\\u043b\\u044c\\u043d\\u043e\", \"\\u043d\\u043e\\u0447\\u044c\", \"\\u043d\\u0440\\u0430\\u0432\\u0438\\u0442\\u044c\\u0441\\u044f\", \"\\u043d\\u0443\\u0436\\u043d\\u043e\", \"\\u043d\\u0443\\u0436\\u043d\\u044b\\u0439\", \"\\u043e\\u0431\\u043d\\u043e\\u0432\\u043b\\u0435\\u043d\\u0438\\u0435\", \"\\u043e\\u0431\\u043e\\u0436\\u0430\\u0442\\u044c\", \"\\u043e\\u0431\\u0440\\u0430\\u0442\\u043d\\u043e\", \"\\u043e\\u0441\\u0442\\u0430\\u0442\\u044c\\u0441\\u044f\", \"\\u043e\\u0442\\u0432\\u0435\\u0442\\u0438\\u0442\\u044c\", \"\\u043e\\u0442\\u0432\\u0435\\u0447\\u0430\\u0442\\u044c\", \"\\u043e\\u0444\\u0438\\u0433\\u0435\\u043d\\u043d\\u044b\\u0439\", \"\\u043e\\u0447\\u0435\\u043d\\u044c\", \"\\u043f\\u0430\\u043f\\u0430\", \"\\u043f\\u0430\\u0440\\u0430\", \"\\u043f\\u0430\\u0440\\u0435\\u043d\\u044c\", \"\\u043f\\u0435\\u0440\\u0432\\u044b\\u0439\", \"\\u043f\\u0435\\u0441\\u043d\\u044f\", \"\\u043f\\u0438\\u0437\\u0434\\u0435\\u0446\", \"\\u043f\\u0438\\u0441\\u0430\\u0442\\u044c\", \"\\u043f\\u0438\\u0442\\u0435\\u0440\", \"\\u043f\\u043b\\u0430\\u0447\", \"\\u043f\\u043b\\u043e\\u0445\\u043e\", \"\\u043f\\u043b\\u043e\\u0445\\u043e\\u0439\", \"\\u043f\\u043e\\u0433\\u043e\\u0432\\u043e\\u0440\\u0438\\u0442\\u044c\", \"\\u043f\\u043e\\u0434\\u0430\\u0440\\u043e\\u043a\", \"\\u043f\\u043e\\u0437\\u0432\\u043e\\u043d\\u0438\\u0442\\u044c\", \"\\u043f\\u043e\\u0439\\u0442\\u0438\", \"\\u043f\\u043e\\u043a\\u0430\", \"\\u043f\\u043e\\u043b\\u043d\\u044b\\u0439\", \"\\u043f\\u043e\\u043b\\u0443\\u0447\\u0438\\u0442\\u044c\", \"\\u043f\\u043e\\u043b\\u0443\\u0447\\u0438\\u0442\\u044c\\u0441\\u044f\", \"\\u043f\\u043e\\u043d\\u0438\\u043c\\u0430\\u0442\\u044c\", \"\\u043f\\u043e\\u043d\\u0440\\u0430\\u0432\\u0438\\u0442\\u044c\\u0441\\u044f\", \"\\u043f\\u043e\\u043d\\u044f\\u0442\\u044c\", \"\\u043f\\u043e\\u0441\\u043b\\u0435\\u0434\\u043d\\u0438\\u0439\", \"\\u043f\\u043e\\u0441\\u043c\\u043e\\u0442\\u0440\\u0435\\u0442\\u044c\", \"\\u043f\\u043e\\u0441\\u0442\\u0430\\u0432\\u0438\\u0442\\u044c\", \"\\u043f\\u043e\\u0441\\u0442\\u043e\\u044f\\u043d\\u043d\\u043e\", \"\\u043f\\u043e\\u0445\\u043e\\u0434\", \"\\u043f\\u043e\\u0447\\u0435\\u043c\\u0443\", \"\\u043f\\u0440\\u0430\\u0432\\u0434\\u0430\", \"\\u043f\\u0440\\u0430\\u0437\\u0434\\u043d\\u0438\\u043a\", \"\\u043f\\u0440\\u0435\\u0434\\u0441\\u0442\\u0430\\u0432\\u0438\\u0442\\u044c\", \"\\u043f\\u0440\\u0438\\u0435\\u0445\\u0430\\u0442\\u044c\", \"\\u043f\\u0440\\u0438\\u0439\\u0442\\u0438\", \"\\u043f\\u0440\\u0438\\u0439\\u0442\\u0438\\u0441\\u044c\", \"\\u043f\\u0440\\u0438\\u0445\\u043e\\u0434\\u0438\\u0442\\u044c\", \"\\u043f\\u0440\\u0438\\u044f\\u0442\\u043d\\u043e\", \"\\u043f\\u0440\\u043e\\u0431\\u043b\\u0435\\u043c\\u0430\", \"\\u043f\\u0440\\u043e\\u0434\\u043e\\u043b\\u0436\\u0430\\u0442\\u044c\", \"\\u043f\\u0440\\u043e\\u0439\\u0442\\u0438\", \"\\u043f\\u0440\\u043e\\u0441\\u043d\\u0443\\u0442\\u044c\\u0441\\u044f\", \"\\u043f\\u0440\\u043e\\u0441\\u0442\\u0438\\u0442\\u044c\", \"\\u043f\\u0440\\u043e\\u0441\\u0442\\u043e\", \"\\u043f\\u0443\\u0441\\u0442\\u044c\", \"\\u043f\\u044b\\u0442\\u0430\\u0442\\u044c\\u0441\\u044f\", \"\\u043f\\u044f\\u0442\\u043d\\u0438\\u0446\\u0430\", \"\\u0440\\u0430\\u0431\\u043e\\u0442\\u0430\", \"\\u0440\\u0430\\u0431\\u043e\\u0442\\u0430\\u0442\\u044c\", \"\\u0440\\u0430\\u0432\\u043d\\u043e\", \"\\u0440\\u0430\\u0434\\u0430\", \"\\u0440\\u0430\\u043d\\u043d\\u0438\\u0439\", \"\\u0440\\u0435\\u0431\\u044f\\u0442\\u0430\", \"\\u0440\\u0435\\u0431\\u0451\\u043d\\u043e\\u043a\", \"\\u0440\\u043e\\u0434\\u0438\\u0442\\u0435\\u043b\\u044c\", \"\\u0440\\u043e\\u0434\\u043d\\u044b\\u0439\", \"\\u0440\\u043e\\u0436\\u0434\\u0435\\u043d\\u0438\\u0435\", \"\\u0440\\u043e\\u0441\\u0441\\u0438\\u044f\", \"\\u0440\\u0443\\u043a\\u0430\", \"\\u0440\\u0443\\u0441\\u0441\\u043a\\u0438\\u0439\", \"\\u0441\\u0430\\u043c\\u044b\\u0439\", \"\\u0441\\u0432\\u0435\\u0442\", \"\\u0441\\u0432\\u043e\\u0439\", \"\\u0441\\u0434\\u0430\\u0442\\u044c\", \"\\u0441\\u0434\\u0435\\u043b\\u0430\\u0442\\u044c\", \"\\u0441\\u0435\\u0433\\u043e\\u0434\\u043d\\u044f\", \"\\u0441\\u0435\\u0440\\u0438\\u0430\\u043b\", \"\\u0441\\u0435\\u0440\\u0438\\u044f\", \"\\u0441\\u0435\\u0441\\u0441\\u0438\\u044f\", \"\\u0441\\u0438\\u0434\\u0435\\u0442\\u044c\", \"\\u0441\\u0438\\u043b\\u044c\\u043d\\u043e\", \"\\u0441\\u043a\\u0430\\u0437\\u0430\\u0442\\u044c\", \"\\u0441\\u043a\\u043e\\u043b\\u044c\\u043a\\u043e\", \"\\u0441\\u043a\\u043e\\u0440\\u043e\", \"\\u0441\\u043a\\u0443\\u0447\\u0430\\u0442\\u044c\", \"\\u0441\\u043a\\u0443\\u0447\\u043d\\u043e\", \"\\u0441\\u043b\\u0438\\u0448\\u043a\\u043e\\u043c\", \"\\u0441\\u043b\\u043e\\u0432\\u043e\", \"\\u0441\\u043b\\u044b\\u0448\\u0430\\u0442\\u044c\", \"\\u0441\\u043c\\u043e\\u0442\\u0440\\u0435\\u0442\\u044c\", \"\\u0441\\u043c\\u043e\\u0447\\u044c\", \"\\u0441\\u043d\\u0430\\u0447\\u0430\\u043b\\u0430\", \"\\u0441\\u043d\\u0435\\u0433\", \"\\u0441\\u043d\\u043e\\u0432\\u0430\", \"\\u0441\\u043e\\u0431\\u0438\\u0440\\u0430\\u0442\\u044c\\u0441\\u044f\", \"\\u0441\\u043e\\u043d\", \"\\u0441\\u043e\\u043e\\u0431\\u0449\\u0435\\u043d\\u0438\\u0435\", \"\\u0441\\u043e\\u0441\\u0442\\u043e\\u044f\\u043d\\u0438\\u0435\", \"\\u0441\\u043f\\u0430\\u0441\\u0438\\u0431\\u043e\", \"\\u0441\\u043f\\u0430\\u0442\\u044c\", \"\\u0441\\u0440\\u0430\\u0437\\u0443\", \"\\u0441\\u0442\\u0430\\u0442\\u044c\", \"\\u0441\\u0442\\u043e\\u0438\\u0442\\u044c\", \"\\u0441\\u0442\\u043e\\u043b\\u044c\\u043a\\u043e\", \"\\u0441\\u0442\\u0440\\u0430\\u0448\\u043d\\u043e\", \"\\u0441\\u0442\\u0440\\u0430\\u0448\\u043d\\u044b\\u0439\", \"\\u0441\\u0443\\u0431\\u0431\\u043e\\u0442\\u0430\", \"\\u0441\\u044a\\u0435\\u0441\\u0442\\u044c\", \"\\u0442\\u0430\\u043a\\u0438\", \"\\u0442\\u0432\\u0438\\u0442\", \"\\u0442\\u0432\\u0438\\u0442\\u0442\\u0435\\u0440\\u0441\\u043a\\u0438\\u0439\", \"\\u0442\\u0432\\u043e\\u0439\", \"\\u0442\\u0435\\u043b\\u0435\\u0444\\u043e\\u043d\", \"\\u0443\\u0432\\u0438\\u0434\\u0435\\u0442\\u044c\", \"\\u0443\\u0434\\u0430\\u0447\\u0430\", \"\\u0443\\u0436\\u0430\\u0441\\u043d\\u044b\\u0439\", \"\\u0443\\u0437\\u043d\\u0430\\u0442\\u044c\", \"\\u0443\\u0439\\u0442\\u0438\", \"\\u0443\\u043b\\u0438\\u0446\\u0430\", \"\\u0443\\u043c\\u0435\\u0440\\u0435\\u0442\\u044c\", \"\\u0443\\u043c\\u0435\\u0442\\u044c\", \"\\u0443\\u0440\\u043e\\u043a\", \"\\u0443\\u0441\\u043f\\u0435\\u0442\\u044c\", \"\\u0443\\u0442\\u0440\\u043e\", \"\\u0443\\u0447\\u0438\\u0442\\u044c\", \"\\u0443\\u0447\\u0438\\u0442\\u044c\\u0441\\u044f\", \"\\u0443\\u0447\\u0451\\u0431\\u0430\", \"\\u0444\\u0438\\u043b\\u044c\\u043c\", \"\\u0444\\u043e\\u0442\\u043a\\u0430\", \"\\u0444\\u043e\\u0442\\u043e\", \"\\u0445\\u0432\\u0430\\u0442\\u0430\\u0442\\u044c\", \"\\u0445\\u0432\\u0430\\u0442\\u0438\\u0442\\u044c\", \"\\u0445\\u043e\\u0434\\u0438\\u0442\\u044c\", \"\\u0445\\u043e\\u043b\\u043e\\u0434\\u043d\\u043e\", \"\\u0445\\u043e\\u0440\\u043e\\u0448\\u0438\\u0439\", \"\\u0445\\u043e\\u0442\\u0435\\u0442\\u044c\", \"\\u0445\\u043e\\u0442\\u0435\\u0442\\u044c\\u0441\\u044f\", \"\\u0445\\u043e\\u0442\\u044f\", \"\\u0445\\u0443\\u0439\", \"\\u0445\\u0443\\u0439\\u043d\\u044f\", \"\\u0446\\u0435\\u043b\\u044b\\u0439\", \"\\u0447\\u0430\\u0439\", \"\\u0447\\u0430\\u0441\", \"\\u0447\\u0435\\u043b\\u043e\\u0432\\u0435\\u043a\", \"\\u0447\\u0438\\u0442\\u0430\\u0442\\u044c\", \"\\u0447\\u0443\\u0432\\u0441\\u0442\\u0432\\u043e\", \"\\u0447\\u0443\\u0432\\u0441\\u0442\\u0432\\u043e\\u0432\\u0430\\u0442\\u044c\", \"\\u0448\\u043a\\u043e\\u043b\\u0430\", \"\\u044d\\u043a\\u0437\\u0430\\u043c\\u0435\\u043d\", \"\\u044d\\u0442\\u043e\", \"\\u044f\\u043d\\u0432\\u0430\\u0440\\u044c\", \"\\u0451\\u043b\\u043a\\u0430\", \"\\u0454\\u0432\\u0440\\u043e\\u043c\\u0430\\u0439\\u0434\\u0430\\u043d\"]}, \"R\": 30, \"lambda.step\": 0.01, \"plot.opts\": {\"xlab\": \"PC1\", \"ylab\": \"PC2\"}, \"topic.order\": [4, 2, 6, 3, 8, 9, 5, 7, 1, 10]};\n",
       "\n",
       "function LDAvis_load_lib(url, callback){\n",
       "  var s = document.createElement('script');\n",
       "  s.src = url;\n",
       "  s.async = true;\n",
       "  s.onreadystatechange = s.onload = callback;\n",
       "  s.onerror = function(){console.warn(\"failed to load library \" + url);};\n",
       "  document.getElementsByTagName(\"head\")[0].appendChild(s);\n",
       "}\n",
       "\n",
       "if(typeof(LDAvis) !== \"undefined\"){\n",
       "   // already loaded: just create the visualization\n",
       "   !function(LDAvis){\n",
       "       new LDAvis(\"#\" + \"ldavis_el701615221747841127186566509\", ldavis_el701615221747841127186566509_data);\n",
       "   }(LDAvis);\n",
       "}else if(typeof define === \"function\" && define.amd){\n",
       "   // require.js is available: use it to load d3/LDAvis\n",
       "   require.config({paths: {d3: \"https://d3js.org/d3.v5\"}});\n",
       "   require([\"d3\"], function(d3){\n",
       "      window.d3 = d3;\n",
       "      LDAvis_load_lib(\"https://cdn.jsdelivr.net/gh/bmabey/pyLDAvis@3.4.0/pyLDAvis/js/ldavis.v3.0.0.js\", function(){\n",
       "        new LDAvis(\"#\" + \"ldavis_el701615221747841127186566509\", ldavis_el701615221747841127186566509_data);\n",
       "      });\n",
       "    });\n",
       "}else{\n",
       "    // require.js not available: dynamically load d3 & LDAvis\n",
       "    LDAvis_load_lib(\"https://d3js.org/d3.v5.js\", function(){\n",
       "         LDAvis_load_lib(\"https://cdn.jsdelivr.net/gh/bmabey/pyLDAvis@3.4.0/pyLDAvis/js/ldavis.v3.0.0.js\", function(){\n",
       "                 new LDAvis(\"#\" + \"ldavis_el701615221747841127186566509\", ldavis_el701615221747841127186566509_data);\n",
       "            })\n",
       "         });\n",
       "}\n",
       "</script>"
      ],
      "text/plain": [
       "<IPython.core.display.HTML object>"
      ]
     },
     "execution_count": 21,
     "metadata": {},
     "output_type": "execute_result"
    }
   ],
   "source": [
    "import pyLDAvis\n",
    "import pyLDAvis.gensim as gensimvis\n",
    "\n",
    "%time vis_data = gensimvis.prepare(lda, corpus, dictionary)\n",
    "pyLDAvis.display(vis_data)"
   ]
  },
  {
   "cell_type": "code",
   "execution_count": 22,
   "id": "0bbf5a4e",
   "metadata": {
    "ExecuteTime": {
     "end_time": "2024-01-09T19:56:07.575996Z",
     "start_time": "2024-01-09T19:56:06.632648Z"
    }
   },
   "outputs": [
    {
     "name": "stdout",
     "output_type": "stream",
     "text": [
      "-6.856585742158741\n"
     ]
    }
   ],
   "source": [
    "print(lda.log_perplexity(corpus))"
   ]
  },
  {
   "cell_type": "code",
   "execution_count": 23,
   "id": "7d5be7af",
   "metadata": {
    "ExecuteTime": {
     "end_time": "2024-01-09T19:56:21.973323Z",
     "start_time": "2024-01-09T19:56:21.031988Z"
    }
   },
   "outputs": [
    {
     "name": "stdout",
     "output_type": "stream",
     "text": [
      "Персплексия:  0.0010525013123433478\n"
     ]
    }
   ],
   "source": [
    "print('Персплексия: ', np.exp(lda.log_perplexity(corpus)))"
   ]
  },
  {
   "cell_type": "code",
   "execution_count": 24,
   "id": "fb679f2e",
   "metadata": {
    "ExecuteTime": {
     "end_time": "2024-01-09T19:56:36.133464Z",
     "start_time": "2024-01-09T19:56:34.200482Z"
    }
   },
   "outputs": [
    {
     "name": "stdout",
     "output_type": "stream",
     "text": [
      "Средняя когерентность:  0.48280646682406597\n"
     ]
    }
   ],
   "source": [
    "coherence_model_lda = CoherenceModel(model=lda, texts=data['text'], dictionary=dictionary, coherence='c_v')\n",
    "coherence_lda = coherence_model_lda.get_coherence()\n",
    "print('Средняя когерентность: ', coherence_lda)"
   ]
  },
  {
   "cell_type": "code",
   "execution_count": 26,
   "id": "00985910",
   "metadata": {
    "ExecuteTime": {
     "end_time": "2024-01-09T19:57:24.157642Z",
     "start_time": "2024-01-09T19:57:13.079939Z"
    }
   },
   "outputs": [
    {
     "name": "stderr",
     "output_type": "stream",
     "text": [
      "C:\\ProgramData\\Anaconda3\\lib\\site-packages\\ipywidgets\\widgets\\widget.py:528: DeprecationWarning: The `ipykernel.comm.Comm` class has been deprecated. Please use the `comm` module instead.For creating comms, use the function `from comm import create_comm`.\n",
      "  self.comm = Comm(**args)\n",
      "C:\\ProgramData\\Anaconda3\\lib\\site-packages\\ipywidgets\\widgets\\widget.py:528: DeprecationWarning: The `ipykernel.comm.Comm` class has been deprecated. Please use the `comm` module instead.For creating comms, use the function `from comm import create_comm`.\n",
      "  self.comm = Comm(**args)\n",
      "C:\\ProgramData\\Anaconda3\\lib\\site-packages\\ipywidgets\\widgets\\widget.py:528: DeprecationWarning: The `ipykernel.comm.Comm` class has been deprecated. Please use the `comm` module instead.For creating comms, use the function `from comm import create_comm`.\n",
      "  self.comm = Comm(**args)\n",
      "C:\\ProgramData\\Anaconda3\\lib\\site-packages\\ipywidgets\\widgets\\widget.py:528: DeprecationWarning: The `ipykernel.comm.Comm` class has been deprecated. Please use the `comm` module instead.For creating comms, use the function `from comm import create_comm`.\n",
      "  self.comm = Comm(**args)\n",
      "C:\\ProgramData\\Anaconda3\\lib\\site-packages\\ipywidgets\\widgets\\widget.py:528: DeprecationWarning: The `ipykernel.comm.Comm` class has been deprecated. Please use the `comm` module instead.For creating comms, use the function `from comm import create_comm`.\n",
      "  self.comm = Comm(**args)\n",
      "C:\\ProgramData\\Anaconda3\\lib\\site-packages\\ipywidgets\\widgets\\widget.py:528: DeprecationWarning: The `ipykernel.comm.Comm` class has been deprecated. Please use the `comm` module instead.For creating comms, use the function `from comm import create_comm`.\n",
      "  self.comm = Comm(**args)\n",
      "C:\\ProgramData\\Anaconda3\\lib\\site-packages\\ipywidgets\\widgets\\widget.py:528: DeprecationWarning: The `ipykernel.comm.Comm` class has been deprecated. Please use the `comm` module instead.For creating comms, use the function `from comm import create_comm`.\n",
      "  self.comm = Comm(**args)\n",
      "C:\\ProgramData\\Anaconda3\\lib\\site-packages\\ipywidgets\\widgets\\widget.py:528: DeprecationWarning: The `ipykernel.comm.Comm` class has been deprecated. Please use the `comm` module instead.For creating comms, use the function `from comm import create_comm`.\n",
      "  self.comm = Comm(**args)\n",
      "C:\\ProgramData\\Anaconda3\\lib\\site-packages\\ipywidgets\\widgets\\widget.py:528: DeprecationWarning: The `ipykernel.comm.Comm` class has been deprecated. Please use the `comm` module instead.For creating comms, use the function `from comm import create_comm`.\n",
      "  self.comm = Comm(**args)\n",
      "C:\\ProgramData\\Anaconda3\\lib\\site-packages\\ipywidgets\\widgets\\widget.py:528: DeprecationWarning: The `ipykernel.comm.Comm` class has been deprecated. Please use the `comm` module instead.For creating comms, use the function `from comm import create_comm`.\n",
      "  self.comm = Comm(**args)\n",
      "C:\\ProgramData\\Anaconda3\\lib\\site-packages\\ipywidgets\\widgets\\widget.py:528: DeprecationWarning: The `ipykernel.comm.Comm` class has been deprecated. Please use the `comm` module instead.For creating comms, use the function `from comm import create_comm`.\n",
      "  self.comm = Comm(**args)\n"
     ]
    },
    {
     "data": {
      "application/vnd.jupyter.widget-view+json": {
       "model_id": "eaa53c8b48314114ab20cc75b972cb53",
       "version_major": 2,
       "version_minor": 0
      },
      "text/plain": [
       "  0%|          | 0/3 [00:00<?, ?it/s]"
      ]
     },
     "metadata": {},
     "output_type": "display_data"
    },
    {
     "data": {
      "image/png": "[encoded data removed]",
      "text/plain": [
       "<Figure size 640x480 with 1 Axes>"
      ]
     },
     "metadata": {},
     "output_type": "display_data"
    }
   ],
   "source": [
    "topics_list = [5, 10, 15]\n",
    "coherences = []\n",
    "\n",
    "for num in tqdm(topics_list):\n",
    "    lda = ldamodel.LdaModel(corpus, id2word=dictionary, num_topics=num, chunksize=50, update_every=1, passes=2)\n",
    "    coherences.append(CoherenceModel(model=lda, texts=data['text'], dictionary=dictionary, coherence='c_v').get_coherence())\n",
    "\n",
    "plt.plot(topics_list, coherences)\n",
    "plt.xlabel(\"Число тем\")\n",
    "plt.ylabel(\"Средняя когерентность\")\n",
    "plt.show()"
   ]
  },
  {
   "cell_type": "markdown",
   "id": "ed35ea04",
   "metadata": {},
   "source": [
    "Вывод: средняя когерентность прямо пропорциональна числу тем в постах"
   ]
  },
  {
   "cell_type": "code",
   "execution_count": null,
   "id": "b41477f0",
   "metadata": {},
   "outputs": [],
   "source": []
  }
 ],
 "metadata": {
  "kernelspec": {
   "display_name": "Python 3 (ipykernel)",
   "language": "python",
   "name": "python3"
  },
  "language_info": {
   "codemirror_mode": {
    "name": "ipython",
    "version": 3
   },
   "file_extension": ".py",
   "mimetype": "text/x-python",
   "name": "python",
   "nbconvert_exporter": "python",
   "pygments_lexer": "ipython3",
   "version": "3.9.17"
  },
  "varInspector": {
   "cols": {
    "lenName": 16,
    "lenType": 16,
    "lenVar": 40
   },
   "kernels_config": {
    "python": {
     "delete_cmd_postfix": "",
     "delete_cmd_prefix": "del ",
     "library": "var_list.py",
     "varRefreshCmd": "print(var_dic_list())"
    },
    "r": {
     "delete_cmd_postfix": ") ",
     "delete_cmd_prefix": "rm(",
     "library": "var_list.r",
     "varRefreshCmd": "cat(var_dic_list()) "
    }
   },
   "types_to_exclude": [
    "module",
    "function",
    "builtin_function_or_method",
    "instance",
    "_Feature"
   ],
   "window_display": false
  }
 },
 "nbformat": 4,
 "nbformat_minor": 5
}
