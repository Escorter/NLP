{
 "cells": [
  {
   "cell_type": "code",
   "execution_count": 1,
   "id": "0f79d9ba",
   "metadata": {
    "ExecuteTime": {
     "end_time": "2024-02-26T19:07:49.157137Z",
     "start_time": "2024-02-26T19:07:48.815703Z"
    }
   },
   "outputs": [],
   "source": [
    "import telebot\n",
    "from telebot import types\n",
    "import pandas as pd\n",
    "import numpy as np"
   ]
  },
  {
   "cell_type": "code",
   "execution_count": 2,
   "id": "9b357773",
   "metadata": {
    "ExecuteTime": {
     "end_time": "2024-02-24T18:08:43.965319Z",
     "start_time": "2024-02-24T18:08:43.954238Z"
    }
   },
   "outputs": [],
   "source": [
    "df = pd.DataFrame({'CID':[571, 474, 505], 'BTS':[1, 2, 3], 'Sector':[2,2,1]})\n",
    "df = df.reset_index(drop = True)"
   ]
  },
  {
   "cell_type": "code",
   "execution_count": 3,
   "id": "0b2c91d8",
   "metadata": {
    "ExecuteTime": {
     "end_time": "2024-02-24T18:08:44.445575Z",
     "start_time": "2024-02-24T18:08:44.433499Z"
    }
   },
   "outputs": [
    {
     "data": {
      "text/plain": [
       "(3, 3)"
      ]
     },
     "execution_count": 3,
     "metadata": {},
     "output_type": "execute_result"
    }
   ],
   "source": [
    "df.shape"
   ]
  },
  {
   "cell_type": "code",
   "execution_count": 4,
   "id": "64538857",
   "metadata": {
    "ExecuteTime": {
     "end_time": "2024-02-24T18:08:44.927669Z",
     "start_time": "2024-02-24T18:08:44.905249Z"
    }
   },
   "outputs": [
    {
     "data": {
      "text/html": [
       "<div>\n",
       "<style scoped>\n",
       "    .dataframe tbody tr th:only-of-type {\n",
       "        vertical-align: middle;\n",
       "    }\n",
       "\n",
       "    .dataframe tbody tr th {\n",
       "        vertical-align: top;\n",
       "    }\n",
       "\n",
       "    .dataframe thead th {\n",
       "        text-align: right;\n",
       "    }\n",
       "</style>\n",
       "<table border=\"1\" class=\"dataframe\">\n",
       "  <thead>\n",
       "    <tr style=\"text-align: right;\">\n",
       "      <th></th>\n",
       "      <th>CID</th>\n",
       "      <th>BTS</th>\n",
       "      <th>Sector</th>\n",
       "    </tr>\n",
       "  </thead>\n",
       "  <tbody>\n",
       "    <tr>\n",
       "      <th>0</th>\n",
       "      <td>571</td>\n",
       "      <td>1</td>\n",
       "      <td>2</td>\n",
       "    </tr>\n",
       "    <tr>\n",
       "      <th>1</th>\n",
       "      <td>474</td>\n",
       "      <td>2</td>\n",
       "      <td>2</td>\n",
       "    </tr>\n",
       "    <tr>\n",
       "      <th>2</th>\n",
       "      <td>505</td>\n",
       "      <td>3</td>\n",
       "      <td>1</td>\n",
       "    </tr>\n",
       "  </tbody>\n",
       "</table>\n",
       "</div>"
      ],
      "text/plain": [
       "   CID  BTS  Sector\n",
       "0  571    1       2\n",
       "1  474    2       2\n",
       "2  505    3       1"
      ]
     },
     "execution_count": 4,
     "metadata": {},
     "output_type": "execute_result"
    }
   ],
   "source": [
    "df"
   ]
  },
  {
   "cell_type": "code",
   "execution_count": 5,
   "id": "f905be1e",
   "metadata": {
    "ExecuteTime": {
     "end_time": "2024-02-24T18:08:47.020243Z",
     "start_time": "2024-02-24T18:08:47.010313Z"
    }
   },
   "outputs": [],
   "source": [
    "def locator(cid):\n",
    "    cell = df.loc[(df['CID'] == cid)]\n",
    "    return cell.to_dict()"
   ]
  },
  {
   "cell_type": "code",
   "execution_count": null,
   "id": "4a0db217",
   "metadata": {
    "ExecuteTime": {
     "start_time": "2024-02-26T19:35:58.781Z"
    }
   },
   "outputs": [],
   "source": [
    "access_token = '6304566574:AAHOc0bmmUw5qs-LJdAM4HLKtoqWi2NrULc'\n",
    "bot = telebot.TeleBot(access_token)\n",
    "\n",
    "access = False\n",
    "\n",
    "def pw_check(access):\n",
    "    return access == False\n",
    "\n",
    "def locator(cid):\n",
    "    cell = df.loc[(df['CID'] == cid)]\n",
    "    return cell.to_dict()\n",
    "\n",
    "#@bot.message_handler(False)\n",
    "#def access_status(message):\n",
    "#    bot.send_message(message.chat.id, 'Function is True')\n",
    "@bot.message_handler(regexp=r'[0-9]+')\n",
    "def regular(message):\n",
    "    bot.reply_to(message, 'Pretty fuck!')\n",
    "    \n",
    "\n",
    "@bot.message_handler(commands=['pic'])\n",
    "def pic(message):\n",
    "    with open('cherry.jpg', 'rb') as f:\n",
    "        bot.send_photo(message.chat.id, f, 'Вишенка!')\n",
    "\n",
    "@bot.message_handler(func= lambda message: message.text == '2024')\n",
    "def access_status(message):\n",
    "    access = True\n",
    "    bot.send_message(message.chat.id, f'Доступ разрешен! {access=}')\n",
    "\n",
    "    \n",
    "@bot.message_handler(commands=['strike'])\n",
    "def strike(message):\n",
    "    kb = types.ReplyKeyboardMarkup(resize_keyboard=True, row_width=1)\n",
    "    btn_loc = types.KeyboardButton(text='Location', request_location=True)\n",
    "    kb.add(btn_loc)\n",
    "    bot.send_message(message.chat.id, 'Локация', reply_markup=kb)\n",
    "    \n",
    "@bot.message_handler(commands=['run'])\n",
    "def run(message):\n",
    "    kb = types.InlineKeyboardMarkup(row_width=1)\n",
    "    btn1 = types.InlineKeyboardButton(text='Ignition', url='www.google.com')\n",
    "    btn2 = types.InlineKeyboardButton(text='Stop', url='www.google.com')\n",
    "    btn3 = types.InlineKeyboardButton(text='Reaction', callback_data='btn3')\n",
    "     \n",
    "    kb.add(btn1, btn2, btn3)\n",
    "    bot.send_message(message.chat.id, 'Клава', reply_markup=kb)\n",
    "\n",
    "@bot.message_handler(content_types=['location'])\n",
    "def location(message):\n",
    "    bot.send_message(message.chat.id, f'широта: {message.location.latitude},\\nдолгота: {message.location.longitude}')\n",
    "\n",
    "@bot.callback_query_handler(func=lambda callback: callback.data)\n",
    "def check_callback_data(callback):\n",
    "    if callback.data=='btn3':\n",
    "        bot.send_message(callback.message.chat.id, f'Нажата кнопка 3')\n",
    "        \n",
    "    \n",
    "    \n",
    "    \n",
    "        \n",
    "@bot.message_handler(commands=['start'])\n",
    "def intro(message):\n",
    "    bot.send_message(message.chat.id, 'Введите пароль')\n",
    "def password(message):\n",
    "    if message.text == '2024':\n",
    "        access = True\n",
    "        bot.send_message(message.chat.id, f'Доступ разрешен! {access=}')\n",
    "    else:\n",
    "        bot.send_message(message.chat.id, 'Введен неверный пароль.\\nВ доступе отказано!')\n",
    "\n",
    "\n",
    "\n",
    "#@bot.message_handler(commands=['search'])\n",
    "#def message_reply(message):\n",
    "#    bot.send_message(message.chat.id, f'Введите CID {access=}')\n",
    "#    if access == True:\n",
    "#        bts = (locator(message.text))\n",
    "#        bot.send_message(message.chat.id, bts)\n",
    "#    else:\n",
    "#        bot.send_message(message.chat.id, f'В доступе отказано!\\nОтправьте /start для ввода пароля {access=}')\n",
    "#\n",
    "\n",
    "bot.polling(none_stop=True)"
   ]
  }
 ],
 "metadata": {
  "kernelspec": {
   "display_name": "Python 3 (ipykernel)",
   "language": "python",
   "name": "python3"
  },
  "language_info": {
   "codemirror_mode": {
    "name": "ipython",
    "version": 3
   },
   "file_extension": ".py",
   "mimetype": "text/x-python",
   "name": "python",
   "nbconvert_exporter": "python",
   "pygments_lexer": "ipython3",
   "version": "3.9.17"
  },
  "varInspector": {
   "cols": {
    "lenName": 16,
    "lenType": 16,
    "lenVar": 40
   },
   "kernels_config": {
    "python": {
     "delete_cmd_postfix": "",
     "delete_cmd_prefix": "del ",
     "library": "var_list.py",
     "varRefreshCmd": "print(var_dic_list())"
    },
    "r": {
     "delete_cmd_postfix": ") ",
     "delete_cmd_prefix": "rm(",
     "library": "var_list.r",
     "varRefreshCmd": "cat(var_dic_list()) "
    }
   },
   "types_to_exclude": [
    "module",
    "function",
    "builtin_function_or_method",
    "instance",
    "_Feature"
   ],
   "window_display": false
  }
 },
 "nbformat": 4,
 "nbformat_minor": 5
}
