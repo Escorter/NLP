{
 "cells": [
  {
   "cell_type": "markdown",
   "id": "ce91e570",
   "metadata": {},
   "source": [
    "### Домашняя работа к уроку 3\n",
    "### Студент: Абрамов А.В."
   ]
  },
  {
   "cell_type": "code",
   "execution_count": 1,
   "id": "b3b4d3c6",
   "metadata": {
    "ExecuteTime": {
     "end_time": "2023-12-25T20:51:17.604733Z",
     "start_time": "2023-12-25T20:51:14.997685Z"
    }
   },
   "outputs": [],
   "source": [
    "import pandas as pd\n",
    "import numpy as np\n",
    "\n",
    "import gensim.downloader as api\n",
    "from gensim.models import Word2Vec, FastText\n",
    "from pymorphy2 import MorphAnalyzer\n",
    "from stop_words import get_stop_words\n",
    "import string\n",
    "from sklearn.model_selection import train_test_split\n",
    "#import annoy\n",
    "import re\n",
    "from tqdm import tqdm\n",
    "from tqdm import tqdm_notebook\n",
    "\n",
    "import gensim.models\n",
    "from tensorflow.keras import Sequential\n",
    "from tensorflow.keras.layers import Dense, Embedding, Flatten\n",
    "\n",
    "import warnings\n",
    "warnings.filterwarnings(\"ignore\", category=DeprecationWarning)"
   ]
  },
  {
   "cell_type": "code",
   "execution_count": 2,
   "id": "24aba386",
   "metadata": {
    "ExecuteTime": {
     "end_time": "2023-12-25T20:51:19.521606Z",
     "start_time": "2023-12-25T20:51:19.493655Z"
    }
   },
   "outputs": [],
   "source": [
    "from corus import load_lenta\n",
    "path = 'lenta-ru-news.csv.gz'\n",
    "records = load_lenta(path)"
   ]
  },
  {
   "cell_type": "code",
   "execution_count": 3,
   "id": "25f77762",
   "metadata": {
    "ExecuteTime": {
     "end_time": "2023-12-25T20:51:21.375619Z",
     "start_time": "2023-12-25T20:51:21.357668Z"
    }
   },
   "outputs": [
    {
     "data": {
      "text/plain": [
       "LentaRecord(\n",
       "    url='https://lenta.ru/news/2018/12/14/cancer/',\n",
       "    title='Названы регионы России с\\xa0самой высокой смертностью от\\xa0рака',\n",
       "    text='Вице-премьер по социальным вопросам Татьяна Голикова рассказала, в каких регионах России зафиксирована наиболее высокая смертность от рака, сообщает РИА Новости. По словам Голиковой, чаще всего онкологические заболевания становились причиной смерти в Псковской, Тверской, Тульской и Орловской областях, а также в Севастополе. Вице-премьер напомнила, что главные факторы смертности в России — рак и болезни системы кровообращения. В начале года стало известно, что смертность от онкологических заболеваний среди россиян снизилась впервые за три года. По данным Росстата, в 2017 году от рака умерли 289 тысяч человек. Это на 3,5 процента меньше, чем годом ранее.',\n",
       "    topic='Россия',\n",
       "    tags='Общество',\n",
       "    date=None\n",
       ")"
      ]
     },
     "execution_count": 3,
     "metadata": {},
     "output_type": "execute_result"
    }
   ],
   "source": [
    "next(records)"
   ]
  },
  {
   "cell_type": "code",
   "execution_count": 4,
   "id": "ca66531a",
   "metadata": {
    "ExecuteTime": {
     "end_time": "2023-12-25T20:51:28.190407Z",
     "start_time": "2023-12-25T20:51:24.669805Z"
    }
   },
   "outputs": [
    {
     "name": "stderr",
     "output_type": "stream",
     "text": [
      "99999it [00:03, 28549.53it/s]\n"
     ]
    }
   ],
   "source": [
    "corpus_title = []\n",
    "corpus_text = []\n",
    "\n",
    "for num, iter in tqdm(enumerate(records)):\n",
    "    corpus_title.append(iter.title)\n",
    "    corpus_text.append(iter.text)\n",
    "    if num == 99999:\n",
    "        break"
   ]
  },
  {
   "cell_type": "code",
   "execution_count": 5,
   "id": "ad819abb",
   "metadata": {
    "ExecuteTime": {
     "end_time": "2023-12-25T20:51:30.441388Z",
     "start_time": "2023-12-25T20:51:30.426440Z"
    }
   },
   "outputs": [
    {
     "data": {
      "text/plain": [
       "('Полет российских бомбардировщиков над Карибским морем сняли на\\xa0видео',\n",
       " 'Минобороны опубликовало на YouTube видео полета российских стратегических бомбардировщиков Ту-160, отправленных в Венесуэлу, над водами Карибского моря. Пилоты провели в небе почти 10\\xa0часов. «На некоторых этапах маршрута российские ракетоносцы работали совместно с истребителями Су-30 и F-16 Национальной Боливарианской военной авиации. Летчики двух стран отработали взаимодействие при выполнении полетных заданий», — отмечает ведомство под роликом. В южноамериканскую страну были направлены два стратегических ракетоносца Ту-160, тяжелый военный транспортный самолет Ан-124 и дальнемагистральный самолет Ил-62 российских воздушно-космических сил (ВКС). Как передает ТАСС, 14 декабря они покинули государство и полетели на домашнюю базу. Ту-160, сверхзвуковой стратегический бомбардировщик-ракетоносец с изменяемой геометрией крыла, является самым крупным, мощным и тяжелым боевым сверхзвуковым самолетом в мире.')"
      ]
     },
     "execution_count": 5,
     "metadata": {},
     "output_type": "execute_result"
    }
   ],
   "source": [
    "corpus_title[7], corpus_text[7]"
   ]
  },
  {
   "cell_type": "code",
   "execution_count": 6,
   "id": "97920920",
   "metadata": {
    "ExecuteTime": {
     "end_time": "2023-12-25T20:51:32.704307Z",
     "start_time": "2023-12-25T20:51:32.675409Z"
    }
   },
   "outputs": [
    {
     "data": {
      "text/html": [
       "<div>\n",
       "<style scoped>\n",
       "    .dataframe tbody tr th:only-of-type {\n",
       "        vertical-align: middle;\n",
       "    }\n",
       "\n",
       "    .dataframe tbody tr th {\n",
       "        vertical-align: top;\n",
       "    }\n",
       "\n",
       "    .dataframe thead th {\n",
       "        text-align: right;\n",
       "    }\n",
       "</style>\n",
       "<table border=\"1\" class=\"dataframe\">\n",
       "  <thead>\n",
       "    <tr style=\"text-align: right;\">\n",
       "      <th></th>\n",
       "      <th>title</th>\n",
       "      <th>text</th>\n",
       "    </tr>\n",
       "  </thead>\n",
       "  <tbody>\n",
       "    <tr>\n",
       "      <th>0</th>\n",
       "      <td>Австрия не представила доказательств вины росс...</td>\n",
       "      <td>Австрийские правоохранительные органы не предс...</td>\n",
       "    </tr>\n",
       "    <tr>\n",
       "      <th>1</th>\n",
       "      <td>Обнаружено самое счастливое место на планете</td>\n",
       "      <td>Сотрудники социальной сети Instagram проанализ...</td>\n",
       "    </tr>\n",
       "    <tr>\n",
       "      <th>2</th>\n",
       "      <td>В США раскрыли сумму расходов на расследование...</td>\n",
       "      <td>С начала расследования российского вмешательст...</td>\n",
       "    </tr>\n",
       "    <tr>\n",
       "      <th>3</th>\n",
       "      <td>Хакеры рассказали о планах Великобритании зами...</td>\n",
       "      <td>Хакерская группировка Anonymous опубликовала н...</td>\n",
       "    </tr>\n",
       "    <tr>\n",
       "      <th>4</th>\n",
       "      <td>Архиепископ канонической УПЦ отказался прийти ...</td>\n",
       "      <td>Архиепископ канонической Украинской православн...</td>\n",
       "    </tr>\n",
       "  </tbody>\n",
       "</table>\n",
       "</div>"
      ],
      "text/plain": [
       "                                               title  \\\n",
       "0  Австрия не представила доказательств вины росс...   \n",
       "1       Обнаружено самое счастливое место на планете   \n",
       "2  В США раскрыли сумму расходов на расследование...   \n",
       "3  Хакеры рассказали о планах Великобритании зами...   \n",
       "4  Архиепископ канонической УПЦ отказался прийти ...   \n",
       "\n",
       "                                                text  \n",
       "0  Австрийские правоохранительные органы не предс...  \n",
       "1  Сотрудники социальной сети Instagram проанализ...  \n",
       "2  С начала расследования российского вмешательст...  \n",
       "3  Хакерская группировка Anonymous опубликовала н...  \n",
       "4  Архиепископ канонической Украинской православн...  "
      ]
     },
     "execution_count": 6,
     "metadata": {},
     "output_type": "execute_result"
    }
   ],
   "source": [
    "df = pd.DataFrame(corpus_title, columns=['title'])\n",
    "df['text'] = corpus_text\n",
    "df.head()"
   ]
  },
  {
   "cell_type": "code",
   "execution_count": 7,
   "id": "3ae3ea6b",
   "metadata": {
    "ExecuteTime": {
     "end_time": "2023-12-25T20:51:35.815008Z",
     "start_time": "2023-12-25T20:51:35.669374Z"
    }
   },
   "outputs": [],
   "source": [
    "morpher = MorphAnalyzer()\n",
    "sw = set(get_stop_words(\"ru\"))\n",
    "exclude = set(string.punctuation)"
   ]
  },
  {
   "cell_type": "code",
   "execution_count": 8,
   "id": "2182163c",
   "metadata": {
    "ExecuteTime": {
     "end_time": "2023-12-25T20:51:38.095880Z",
     "start_time": "2023-12-25T20:51:38.080925Z"
    }
   },
   "outputs": [],
   "source": [
    "def preprocess_txt(line):\n",
    "    spls = \"\".join(i for i in line.strip() if i not in exclude).split()\n",
    "    spls = [morpher.parse(i.lower())[0].normal_form for i in spls]\n",
    "    spls = [i for i in spls if i not in sw and i != \"\"]\n",
    "    return spls"
   ]
  },
  {
   "cell_type": "code",
   "execution_count": 9,
   "id": "08ce86e9",
   "metadata": {
    "ExecuteTime": {
     "end_time": "2023-12-25T20:51:40.410686Z",
     "start_time": "2023-12-25T20:51:40.364808Z"
    }
   },
   "outputs": [
    {
     "data": {
      "text/plain": [
       "['австрийский',\n",
       " 'правоохранительный',\n",
       " 'орган',\n",
       " 'представить',\n",
       " 'доказательство',\n",
       " 'нарушение',\n",
       " 'российский',\n",
       " 'биатлонист',\n",
       " 'антидопинговый',\n",
       " 'правило',\n",
       " 'сообщить',\n",
       " 'посол',\n",
       " 'россия',\n",
       " 'вена',\n",
       " 'дмитрий',\n",
       " 'любинский',\n",
       " 'итог',\n",
       " 'встреча',\n",
       " 'уполномоченный',\n",
       " 'адвокат',\n",
       " 'дипмиссия',\n",
       " 'представитель',\n",
       " 'прокуратура',\n",
       " 'страна',\n",
       " 'передавать',\n",
       " 'тасс',\n",
       " '«действовать',\n",
       " 'презумпция',\n",
       " 'невиновность',\n",
       " 'какихлибо',\n",
       " 'ограничение',\n",
       " 'свобода',\n",
       " 'передвижение',\n",
       " 'команда',\n",
       " 'нет»',\n",
       " '—',\n",
       " 'добавить',\n",
       " 'посольство',\n",
       " 'международный',\n",
       " 'союз',\n",
       " 'биатлонист',\n",
       " 'ibu',\n",
       " 'применять',\n",
       " 'санкция',\n",
       " 'российский',\n",
       " 'биатлонист',\n",
       " 'продолжить',\n",
       " 'выступление',\n",
       " 'кубок',\n",
       " 'мир',\n",
       " 'полиция',\n",
       " 'нагрянуть',\n",
       " 'отель',\n",
       " 'сборная',\n",
       " 'россия',\n",
       " 'хохфильцен',\n",
       " 'вечером',\n",
       " '12',\n",
       " 'декабрь',\n",
       " 'написать',\n",
       " 'биатлонист',\n",
       " 'александр',\n",
       " 'логинов',\n",
       " 'считать',\n",
       " 'виновный',\n",
       " 'махинация',\n",
       " 'переливание',\n",
       " 'кровь',\n",
       " 'биатлонист',\n",
       " 'антон',\n",
       " 'шипулина',\n",
       " 'попасть',\n",
       " 'список',\n",
       " 'полиция',\n",
       " 'нанести',\n",
       " 'отдельный',\n",
       " 'визит',\n",
       " 'тренироваться',\n",
       " 'отдельно',\n",
       " 'австрийский',\n",
       " 'обертиллах',\n",
       " 'обвинение',\n",
       " 'спортсмен',\n",
       " 'назвать',\n",
       " 'бред',\n",
       " 'указать',\n",
       " '«охота',\n",
       " 'ведьм»',\n",
       " 'мировой',\n",
       " 'биатлон',\n",
       " 'австрия',\n",
       " 'приём',\n",
       " 'допинг',\n",
       " '—',\n",
       " 'уголовный',\n",
       " 'преступление',\n",
       " 'максимальный',\n",
       " 'наказание',\n",
       " 'употребление',\n",
       " '—',\n",
       " 'тюрьма']"
      ]
     },
     "execution_count": 9,
     "metadata": {},
     "output_type": "execute_result"
    }
   ],
   "source": [
    "preprocess_txt(df['text'].values[0])"
   ]
  },
  {
   "cell_type": "code",
   "execution_count": 10,
   "id": "0fe083ac",
   "metadata": {
    "ExecuteTime": {
     "end_time": "2023-12-25T20:51:53.153619Z",
     "start_time": "2023-12-25T20:51:47.677243Z"
    }
   },
   "outputs": [],
   "source": [
    "pattern = r'[^а-яА-Я0-9]'\n",
    "df['text'] = df['text'].apply(lambda x: re.sub(pattern, ' ', x))"
   ]
  },
  {
   "cell_type": "code",
   "execution_count": 11,
   "id": "0ce63bb6",
   "metadata": {
    "ExecuteTime": {
     "end_time": "2023-12-25T20:52:02.983314Z",
     "start_time": "2023-12-25T20:51:59.645222Z"
    }
   },
   "outputs": [
    {
     "data": {
      "application/vnd.jupyter.widget-view+json": {
       "model_id": "ac84cce99b3148848003020ac30a5e28",
       "version_major": 2,
       "version_minor": 0
      },
      "text/plain": [
       "  0%|          | 0/100000 [00:00<?, ?it/s]"
      ]
     },
     "metadata": {},
     "output_type": "display_data"
    }
   ],
   "source": [
    "sentences = []\n",
    "counter = 0\n",
    "\n",
    "for line in tqdm_notebook(df.text):\n",
    "    spls = preprocess_txt(line)\n",
    "    sentences.append(spls)\n",
    "    counter += 1\n",
    "    if counter > 100:\n",
    "        break"
   ]
  },
  {
   "cell_type": "code",
   "execution_count": 12,
   "id": "a5ddfc4c",
   "metadata": {
    "ExecuteTime": {
     "end_time": "2023-12-25T20:52:14.699954Z",
     "start_time": "2023-12-25T20:52:14.692980Z"
    }
   },
   "outputs": [
    {
     "data": {
      "text/plain": [
       "['австрийский',\n",
       " 'правоохранительный',\n",
       " 'орган',\n",
       " 'представить',\n",
       " 'доказательство',\n",
       " 'нарушение',\n",
       " 'российский',\n",
       " 'биатлонист',\n",
       " 'антидопинговый',\n",
       " 'правило',\n",
       " 'сообщить',\n",
       " 'посол',\n",
       " 'россия',\n",
       " 'вена',\n",
       " 'дмитрий',\n",
       " 'любинский',\n",
       " 'итог',\n",
       " 'встреча',\n",
       " 'уполномоченный',\n",
       " 'адвокат',\n",
       " 'дипмиссия',\n",
       " 'представитель',\n",
       " 'прокуратура',\n",
       " 'страна',\n",
       " 'передавать',\n",
       " 'тасс',\n",
       " 'действовать',\n",
       " 'презумпция',\n",
       " 'невиновность',\n",
       " 'либо',\n",
       " 'ограничение',\n",
       " 'свобода',\n",
       " 'передвижение',\n",
       " 'команда',\n",
       " 'добавить',\n",
       " 'посольство',\n",
       " 'международный',\n",
       " 'союз',\n",
       " 'биатлонист',\n",
       " 'применять',\n",
       " 'санкция',\n",
       " 'российский',\n",
       " 'биатлонист',\n",
       " 'продолжить',\n",
       " 'выступление',\n",
       " 'кубок',\n",
       " 'мир',\n",
       " 'полиция',\n",
       " 'нагрянуть',\n",
       " 'отель',\n",
       " 'сборная',\n",
       " 'россия',\n",
       " 'хохфильцен',\n",
       " 'вечером',\n",
       " '12',\n",
       " 'декабрь',\n",
       " 'написать',\n",
       " 'биатлонист',\n",
       " 'александр',\n",
       " 'логинов',\n",
       " 'считать',\n",
       " 'виновный',\n",
       " 'махинация',\n",
       " 'переливание',\n",
       " 'кровь',\n",
       " 'биатлонист',\n",
       " 'антон',\n",
       " 'шипулина',\n",
       " 'попасть',\n",
       " 'список',\n",
       " 'полиция',\n",
       " 'нанести',\n",
       " 'отдельный',\n",
       " 'визит',\n",
       " 'тренироваться',\n",
       " 'отдельно',\n",
       " 'австрийский',\n",
       " 'обертиллах',\n",
       " 'обвинение',\n",
       " 'спортсмен',\n",
       " 'назвать',\n",
       " 'бред',\n",
       " 'указать',\n",
       " 'охота',\n",
       " 'ведьма',\n",
       " 'мировой',\n",
       " 'биатлон',\n",
       " 'австрия',\n",
       " 'приём',\n",
       " 'допинг',\n",
       " 'уголовный',\n",
       " 'преступление',\n",
       " 'максимальный',\n",
       " 'наказание',\n",
       " 'употребление',\n",
       " 'тюрьма']"
      ]
     },
     "execution_count": 12,
     "metadata": {},
     "output_type": "execute_result"
    }
   ],
   "source": [
    "sentences[0]"
   ]
  },
  {
   "cell_type": "code",
   "execution_count": 13,
   "id": "64c0f4f3",
   "metadata": {
    "ExecuteTime": {
     "end_time": "2023-12-25T20:52:48.764818Z",
     "start_time": "2023-12-25T20:52:48.621202Z"
    }
   },
   "outputs": [],
   "source": [
    "modelW2V = Word2Vec(sentences=sentences, vector_size=100, window=5, min_count=2)"
   ]
  },
  {
   "cell_type": "code",
   "execution_count": 14,
   "id": "2d21194c",
   "metadata": {
    "ExecuteTime": {
     "end_time": "2023-12-25T20:53:08.407234Z",
     "start_time": "2023-12-25T20:53:07.229387Z"
    }
   },
   "outputs": [],
   "source": [
    "modelFT = FastText(sentences=sentences, vector_size=100, min_count=2, window=5, workers=8)"
   ]
  }
 ],
 "metadata": {
  "kernelspec": {
   "display_name": "Python 3 (ipykernel)",
   "language": "python",
   "name": "python3"
  },
  "language_info": {
   "codemirror_mode": {
    "name": "ipython",
    "version": 3
   },
   "file_extension": ".py",
   "mimetype": "text/x-python",
   "name": "python",
   "nbconvert_exporter": "python",
   "pygments_lexer": "ipython3",
   "version": "3.9.17"
  },
  "varInspector": {
   "cols": {
    "lenName": 16,
    "lenType": 16,
    "lenVar": 40
   },
   "kernels_config": {
    "python": {
     "delete_cmd_postfix": "",
     "delete_cmd_prefix": "del ",
     "library": "var_list.py",
     "varRefreshCmd": "print(var_dic_list())"
    },
    "r": {
     "delete_cmd_postfix": ") ",
     "delete_cmd_prefix": "rm(",
     "library": "var_list.r",
     "varRefreshCmd": "cat(var_dic_list()) "
    }
   },
   "types_to_exclude": [
    "module",
    "function",
    "builtin_function_or_method",
    "instance",
    "_Feature"
   ],
   "window_display": false
  }
 },
 "nbformat": 4,
 "nbformat_minor": 5
}
