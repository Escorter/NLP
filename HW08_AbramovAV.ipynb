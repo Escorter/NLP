{
 "cells": [
  {
   "cell_type": "markdown",
   "id": "3f1a9dae",
   "metadata": {},
   "source": [
    "### Домашняя работа к уроку 8\n",
    "### Студент: Абрамов А.В."
   ]
  },
  {
   "cell_type": "markdown",
   "id": "8dbe7660",
   "metadata": {},
   "source": [
    "На вебинаре мы говорили что долгое время CNN и RNN архитектуры были конурируещими выяснить какая архитектура больше подходит для задачи сантимент анализа на данных с вебинара \n",
    "1. построить свёрточные архитектуры \n",
    "2. построить различные архитектуры с RNN\n",
    "3. построить совместные архитектуры CNN -> RNN  и (RNN -> CNN)\n",
    "4. сделать выводы, что получилось лучше"
   ]
  },
  {
   "cell_type": "code",
   "execution_count": 10,
   "id": "2db21eaa",
   "metadata": {
    "ExecuteTime": {
     "end_time": "2024-01-18T18:29:44.652040Z",
     "start_time": "2024-01-18T18:29:44.640528Z"
    }
   },
   "outputs": [],
   "source": [
    "import numpy as np\n",
    "import pandas as pd\n",
    "\n",
    "import nltk\n",
    "from nltk.probability import FreqDist\n",
    "from nltk.tokenize import word_tokenize\n",
    "from nltk.corpus import stopwords\n",
    "\n",
    "from pymorphy2 import MorphAnalyzer\n",
    "\n",
    "import re\n",
    "\n",
    "from sklearn.model_selection import train_test_split\n",
    "from sklearn.preprocessing import LabelEncoder\n",
    "from sklearn.metrics import classification_report\n",
    "\n",
    "from tensorflow.keras.utils import to_categorical\n",
    "from keras.models import Sequential, Model\n",
    "from keras.layers import Dense, Dropout, Activation, Input, Embedding, Conv1D, GlobalMaxPool1D, Flatten, SimpleRNN, LSTM, GRU, Reshape\n",
    "from keras.losses import categorical_crossentropy, SparseCategoricalCrossentropy"
   ]
  },
  {
   "cell_type": "code",
   "execution_count": 11,
   "id": "346f19d9",
   "metadata": {
    "ExecuteTime": {
     "end_time": "2024-01-18T18:29:45.845166Z",
     "start_time": "2024-01-18T18:29:45.607868Z"
    }
   },
   "outputs": [
    {
     "data": {
      "text/html": [
       "<div>\n",
       "<style scoped>\n",
       "    .dataframe tbody tr th:only-of-type {\n",
       "        vertical-align: middle;\n",
       "    }\n",
       "\n",
       "    .dataframe tbody tr th {\n",
       "        vertical-align: top;\n",
       "    }\n",
       "\n",
       "    .dataframe thead th {\n",
       "        text-align: right;\n",
       "    }\n",
       "</style>\n",
       "<table border=\"1\" class=\"dataframe\">\n",
       "  <thead>\n",
       "    <tr style=\"text-align: right;\">\n",
       "      <th></th>\n",
       "      <th>Rating</th>\n",
       "      <th>Content</th>\n",
       "      <th>Date</th>\n",
       "    </tr>\n",
       "  </thead>\n",
       "  <tbody>\n",
       "    <tr>\n",
       "      <th>0</th>\n",
       "      <td>5</td>\n",
       "      <td>It just works!</td>\n",
       "      <td>2017-08-14</td>\n",
       "    </tr>\n",
       "    <tr>\n",
       "      <th>1</th>\n",
       "      <td>4</td>\n",
       "      <td>В целом удобноное приложение...из минусов хотя...</td>\n",
       "      <td>2017-08-14</td>\n",
       "    </tr>\n",
       "    <tr>\n",
       "      <th>2</th>\n",
       "      <td>5</td>\n",
       "      <td>Отлично все</td>\n",
       "      <td>2017-08-14</td>\n",
       "    </tr>\n",
       "    <tr>\n",
       "      <th>3</th>\n",
       "      <td>5</td>\n",
       "      <td>Стал зависать на 1% работы антивируса. Дальше ...</td>\n",
       "      <td>2017-08-14</td>\n",
       "    </tr>\n",
       "    <tr>\n",
       "      <th>4</th>\n",
       "      <td>5</td>\n",
       "      <td>Очень удобно, работает быстро.</td>\n",
       "      <td>2017-08-14</td>\n",
       "    </tr>\n",
       "  </tbody>\n",
       "</table>\n",
       "</div>"
      ],
      "text/plain": [
       "   Rating                                            Content        Date\n",
       "0       5                                     It just works!  2017-08-14\n",
       "1       4  В целом удобноное приложение...из минусов хотя...  2017-08-14\n",
       "2       5                                        Отлично все  2017-08-14\n",
       "3       5  Стал зависать на 1% работы антивируса. Дальше ...  2017-08-14\n",
       "4       5                     Очень удобно, работает быстро.  2017-08-14"
      ]
     },
     "execution_count": 11,
     "metadata": {},
     "output_type": "execute_result"
    }
   ],
   "source": [
    "data = pd.read_excel('отзывы за лето.xls')\n",
    "data.head()"
   ]
  },
  {
   "cell_type": "code",
   "execution_count": 12,
   "id": "17ae21df",
   "metadata": {
    "ExecuteTime": {
     "end_time": "2024-01-18T18:29:50.758818Z",
     "start_time": "2024-01-18T18:29:50.750876Z"
    }
   },
   "outputs": [],
   "source": [
    "max_words = 20000\n",
    "max_len = 150\n",
    "num_classes = 5\n",
    "\n",
    "epochs = 20\n",
    "batch_size = 512\n",
    "print_batch_n = 100"
   ]
  },
  {
   "cell_type": "code",
   "execution_count": 13,
   "id": "9be25c90",
   "metadata": {
    "ExecuteTime": {
     "end_time": "2024-01-18T18:29:51.978339Z",
     "start_time": "2024-01-18T18:29:51.694892Z"
    }
   },
   "outputs": [
    {
     "name": "stderr",
     "output_type": "stream",
     "text": [
      "[nltk_data] Downloading package stopwords to\n",
      "[nltk_data]     C:\\Users\\User\\AppData\\Roaming\\nltk_data...\n",
      "[nltk_data]   Package stopwords is already up-to-date!\n",
      "[nltk_data] Downloading package punkt to\n",
      "[nltk_data]     C:\\Users\\User\\AppData\\Roaming\\nltk_data...\n",
      "[nltk_data]   Package punkt is already up-to-date!\n"
     ]
    },
    {
     "data": {
      "text/plain": [
       "True"
      ]
     },
     "execution_count": 13,
     "metadata": {},
     "output_type": "execute_result"
    }
   ],
   "source": [
    "nltk.download('stopwords')\n",
    "nltk.download('punkt')"
   ]
  },
  {
   "cell_type": "code",
   "execution_count": 14,
   "id": "a452a6eb",
   "metadata": {
    "ExecuteTime": {
     "end_time": "2024-01-18T18:29:55.068540Z",
     "start_time": "2024-01-18T18:29:54.839685Z"
    }
   },
   "outputs": [],
   "source": [
    "stopwordslist = stopwords.words(\"russian\")\n",
    "ptrn = r'[^a-zA-Zа-яА-Я0-9]'\n",
    "\n",
    "morpher = MorphAnalyzer()\n",
    "\n",
    "def words_only(text):\n",
    "    text=str(text)\n",
    "    return text.lower()   \n",
    "\n",
    "def remove_punkt(text):\n",
    "    return re.sub(ptrn, ' ', text)\n",
    "\n",
    "def to_token(text):\n",
    "    return nltk.tokenize.word_tokenize(text)\n",
    "\n",
    "def remove_stopwords(text):\n",
    "    text_list = [w for w in text if w not in stopwordslist]\n",
    "    return ' '.join(word for word in text_list)\n",
    "\n",
    "def morphe_text(text):\n",
    "    text = [morpher.parse(word)[0].normal_form for word in text.split() if word not in stopwordslist]\n",
    "    return \" \".join(text)\n",
    "\n",
    "def normalize_text(text):\n",
    "    text = words_only(text)\n",
    "    text = remove_punkt(text)\n",
    "    text = to_token(text)\n",
    "    text = remove_stopwords(text)\n",
    "    text = morphe_text(text)\n",
    "    return text"
   ]
  },
  {
   "cell_type": "code",
   "execution_count": 15,
   "id": "10c46183",
   "metadata": {
    "ExecuteTime": {
     "end_time": "2024-01-18T18:30:16.297024Z",
     "start_time": "2024-01-18T18:29:57.158601Z"
    }
   },
   "outputs": [
    {
     "data": {
      "text/html": [
       "<div>\n",
       "<style scoped>\n",
       "    .dataframe tbody tr th:only-of-type {\n",
       "        vertical-align: middle;\n",
       "    }\n",
       "\n",
       "    .dataframe tbody tr th {\n",
       "        vertical-align: top;\n",
       "    }\n",
       "\n",
       "    .dataframe thead th {\n",
       "        text-align: right;\n",
       "    }\n",
       "</style>\n",
       "<table border=\"1\" class=\"dataframe\">\n",
       "  <thead>\n",
       "    <tr style=\"text-align: right;\">\n",
       "      <th></th>\n",
       "      <th>Rating</th>\n",
       "      <th>Content</th>\n",
       "      <th>Date</th>\n",
       "      <th>normalized_content</th>\n",
       "    </tr>\n",
       "  </thead>\n",
       "  <tbody>\n",
       "    <tr>\n",
       "      <th>0</th>\n",
       "      <td>5</td>\n",
       "      <td>It just works!</td>\n",
       "      <td>2017-08-14</td>\n",
       "      <td>it just works</td>\n",
       "    </tr>\n",
       "    <tr>\n",
       "      <th>1</th>\n",
       "      <td>4</td>\n",
       "      <td>В целом удобноное приложение...из минусов хотя...</td>\n",
       "      <td>2017-08-14</td>\n",
       "      <td>целое удобноной приложение минус хотеть слишко...</td>\n",
       "    </tr>\n",
       "    <tr>\n",
       "      <th>2</th>\n",
       "      <td>5</td>\n",
       "      <td>Отлично все</td>\n",
       "      <td>2017-08-14</td>\n",
       "      <td>отлично</td>\n",
       "    </tr>\n",
       "    <tr>\n",
       "      <th>3</th>\n",
       "      <td>5</td>\n",
       "      <td>Стал зависать на 1% работы антивируса. Дальше ...</td>\n",
       "      <td>2017-08-14</td>\n",
       "      <td>стать зависать 1 работа антивирус далёкий нику...</td>\n",
       "    </tr>\n",
       "    <tr>\n",
       "      <th>4</th>\n",
       "      <td>5</td>\n",
       "      <td>Очень удобно, работает быстро.</td>\n",
       "      <td>2017-08-14</td>\n",
       "      <td>очень удобно работать быстро</td>\n",
       "    </tr>\n",
       "  </tbody>\n",
       "</table>\n",
       "</div>"
      ],
      "text/plain": [
       "   Rating                                            Content        Date  \\\n",
       "0       5                                     It just works!  2017-08-14   \n",
       "1       4  В целом удобноное приложение...из минусов хотя...  2017-08-14   \n",
       "2       5                                        Отлично все  2017-08-14   \n",
       "3       5  Стал зависать на 1% работы антивируса. Дальше ...  2017-08-14   \n",
       "4       5                     Очень удобно, работает быстро.  2017-08-14   \n",
       "\n",
       "                                  normalized_content  \n",
       "0                                      it just works  \n",
       "1  целое удобноной приложение минус хотеть слишко...  \n",
       "2                                            отлично  \n",
       "3  стать зависать 1 работа антивирус далёкий нику...  \n",
       "4                       очень удобно работать быстро  "
      ]
     },
     "execution_count": 15,
     "metadata": {},
     "output_type": "execute_result"
    }
   ],
   "source": [
    "data['normalized_content'] = data['Content'].apply(normalize_text)\n",
    "data.head()"
   ]
  },
  {
   "cell_type": "code",
   "execution_count": 16,
   "id": "e67c487b",
   "metadata": {
    "ExecuteTime": {
     "end_time": "2024-01-18T18:30:20.795194Z",
     "start_time": "2024-01-18T18:30:20.438796Z"
    }
   },
   "outputs": [],
   "source": [
    "train_corpus = \" \".join(data['normalized_content'])\n",
    "train_tokens = word_tokenize(train_corpus)\n",
    "train_tokens_filtered = [word for word in train_tokens if word.isalnum()]"
   ]
  },
  {
   "cell_type": "code",
   "execution_count": 17,
   "id": "61e829b1",
   "metadata": {
    "ExecuteTime": {
     "end_time": "2024-01-18T18:30:21.860879Z",
     "start_time": "2024-01-18T18:30:21.790805Z"
    }
   },
   "outputs": [],
   "source": [
    "dist = FreqDist(train_tokens_filtered)\n",
    "tokens_filtered_top = [pair[0] for pair in dist.most_common(max_words-1)]\n",
    "voc = {v: k for k, v in dict(enumerate(tokens_filtered_top, 1)).items()}"
   ]
  },
  {
   "cell_type": "code",
   "execution_count": 18,
   "id": "6cd2fdc6",
   "metadata": {
    "ExecuteTime": {
     "end_time": "2024-01-18T18:30:27.630310Z",
     "start_time": "2024-01-18T18:30:26.038801Z"
    }
   },
   "outputs": [],
   "source": [
    "def text_to_sequence(text, maxlen):\n",
    "    result = []\n",
    "    tokens = word_tokenize(text.lower())\n",
    "    tokens_filtered = [word for word in tokens if word.isalnum()]\n",
    "    for word in tokens_filtered:\n",
    "        if word in voc:\n",
    "            result.append(voc[word])\n",
    "    padding = [0]*(maxlen-len(result))\n",
    "    return padding + result[-maxlen:]\n",
    "\n",
    "data_train = np.asarray(\n",
    "    [text_to_sequence(text, max_len) for text in data['normalized_content']], \n",
    "    dtype=np.int32)"
   ]
  },
  {
   "cell_type": "code",
   "execution_count": 19,
   "id": "2e01526d",
   "metadata": {
    "ExecuteTime": {
     "end_time": "2024-01-18T18:31:05.048432Z",
     "start_time": "2024-01-18T18:31:05.022655Z"
    }
   },
   "outputs": [],
   "source": [
    "X_train, X_test, y_train, y_test = train_test_split(data_train, data.Rating, test_size=0.3, random_state=1)\n",
    "\n",
    "le = LabelEncoder()\n",
    "\n",
    "y_train = le.fit_transform(y_train) \n",
    "y_test = le.transform(y_test)"
   ]
  },
  {
   "cell_type": "markdown",
   "id": "034fa0de",
   "metadata": {},
   "source": [
    "### CNN"
   ]
  },
  {
   "cell_type": "code",
   "execution_count": 20,
   "id": "ae697887",
   "metadata": {
    "ExecuteTime": {
     "end_time": "2024-01-18T18:32:02.920131Z",
     "start_time": "2024-01-18T18:31:28.230830Z"
    }
   },
   "outputs": [
    {
     "name": "stdout",
     "output_type": "stream",
     "text": [
      "Epoch 1/5\n",
      "23/23 [==============================] - 8s 296ms/step - loss: 1.3059 - accuracy: 0.6760 - val_loss: 1.1079 - val_accuracy: 0.7155\n",
      "Epoch 2/5\n",
      "23/23 [==============================] - 7s 286ms/step - loss: 0.8778 - accuracy: 0.7105 - val_loss: 0.8639 - val_accuracy: 0.7567\n",
      "Epoch 3/5\n",
      "23/23 [==============================] - 7s 291ms/step - loss: 0.7201 - accuracy: 0.7600 - val_loss: 0.7697 - val_accuracy: 0.7615\n",
      "Epoch 4/5\n",
      "23/23 [==============================] - 7s 293ms/step - loss: 0.6528 - accuracy: 0.7757 - val_loss: 0.7199 - val_accuracy: 0.7573\n",
      "Epoch 5/5\n",
      "23/23 [==============================] - 7s 292ms/step - loss: 0.6044 - accuracy: 0.7953 - val_loss: 0.7460 - val_accuracy: 0.7511\n"
     ]
    },
    {
     "data": {
      "text/plain": [
       "<keras.src.callbacks.History at 0x1d837f8a160>"
      ]
     },
     "execution_count": 20,
     "metadata": {},
     "output_type": "execute_result"
    }
   ],
   "source": [
    "model = Sequential()\n",
    "\n",
    "model.add(Embedding(input_dim=max_words, \n",
    "                    output_dim=128, \n",
    "                    input_length=max_len))\n",
    "model.add(Conv1D(128, 3))\n",
    "model.add(Activation(\"relu\"))\n",
    "model.add(Dropout(0.2))\n",
    "model.add(Conv1D(128, 3))\n",
    "model.add(Activation(\"relu\"))\n",
    "model.add(Dropout(0.2))\n",
    "model.add(GlobalMaxPool1D())\n",
    "model.add(Flatten())\n",
    "model.add(Dense(10))\n",
    "model.add(Activation(\"relu\"))\n",
    "model.add(Dense(num_classes))\n",
    "model.add(Activation('softmax'))\n",
    "\n",
    "model.compile(loss=SparseCategoricalCrossentropy(),\n",
    "              optimizer='adam',\n",
    "              metrics=['accuracy'])\n",
    "\n",
    "model.fit(X_train, y_train,\n",
    "          batch_size=batch_size,\n",
    "          epochs=5,\n",
    "          verbose=1,\n",
    "          validation_split=0.2)"
   ]
  },
  {
   "cell_type": "code",
   "execution_count": 27,
   "id": "af6cc704",
   "metadata": {
    "ExecuteTime": {
     "end_time": "2024-01-18T20:03:45.664796Z",
     "start_time": "2024-01-18T20:03:45.038130Z"
    }
   },
   "outputs": [
    {
     "name": "stdout",
     "output_type": "stream",
     "text": [
      "13/13 [==============================] - 1s 43ms/step - loss: 0.7839 - accuracy: 0.7318\n",
      "Test score: 0.7838907241821289\n",
      "Test accuracy: 0.731848955154419\n"
     ]
    }
   ],
   "source": [
    "score = model.evaluate(X_test, y_test, batch_size=batch_size, verbose=1)\n",
    "\n",
    "metrics_df = pd.DataFrame(columns=['model', 'Test score', 'Test accuracy'])\n",
    "\n",
    "metrics_df.loc[len(metrics_df.index)] = ['CNN', score[0], score[1]]\n",
    "\n",
    "print('Test score:', score[0])\n",
    "print('Test accuracy:', score[1])"
   ]
  },
  {
   "cell_type": "markdown",
   "id": "99568e03",
   "metadata": {},
   "source": [
    "### Simple RNN"
   ]
  },
  {
   "cell_type": "code",
   "execution_count": 28,
   "id": "2c7801c5",
   "metadata": {
    "ExecuteTime": {
     "end_time": "2024-01-18T20:05:55.092370Z",
     "start_time": "2024-01-18T20:05:16.436797Z"
    }
   },
   "outputs": [
    {
     "name": "stdout",
     "output_type": "stream",
     "text": [
      "Epoch 1/5\n",
      "23/23 [==============================] - 8s 285ms/step - loss: 1.3180 - accuracy: 0.6605 - val_loss: 0.9223 - val_accuracy: 0.7176\n",
      "Epoch 2/5\n",
      "23/23 [==============================] - 6s 275ms/step - loss: 0.7960 - accuracy: 0.7526 - val_loss: 0.7243 - val_accuracy: 0.7698\n",
      "Epoch 3/5\n",
      "23/23 [==============================] - 7s 309ms/step - loss: 0.6523 - accuracy: 0.7775 - val_loss: 0.6854 - val_accuracy: 0.7781\n",
      "Epoch 4/5\n",
      "23/23 [==============================] - 8s 342ms/step - loss: 0.5829 - accuracy: 0.7956 - val_loss: 0.6703 - val_accuracy: 0.7836\n",
      "Epoch 5/5\n",
      "23/23 [==============================] - 9s 398ms/step - loss: 0.5232 - accuracy: 0.8158 - val_loss: 0.6801 - val_accuracy: 0.7812\n"
     ]
    },
    {
     "data": {
      "text/plain": [
       "<keras.src.callbacks.History at 0x1d8482f45b0>"
      ]
     },
     "execution_count": 28,
     "metadata": {},
     "output_type": "execute_result"
    }
   ],
   "source": [
    "model = Sequential()\n",
    "\n",
    "model.add(Embedding(input_dim=max_words, \n",
    "                    output_dim=128, \n",
    "                    input_length=max_len,\n",
    "                    trainable=True,\n",
    "                    mask_zero=True))\n",
    "model.add(SimpleRNN(128))\n",
    "model.add(Activation(\"relu\"))\n",
    "model.add(Dropout(0.2))\n",
    "model.add(Reshape((1,128)))\n",
    "model.add(SimpleRNN(128))\n",
    "model.add(Activation(\"relu\"))\n",
    "model.add(Dropout(0.2))\n",
    "model.add(Flatten())\n",
    "model.add(Dense(10))\n",
    "model.add(Activation(\"relu\"))\n",
    "model.add(Dense(num_classes))\n",
    "model.add(Activation('softmax'))\n",
    "\n",
    "model.compile(loss=SparseCategoricalCrossentropy(),\n",
    "              optimizer='adam',\n",
    "              metrics=['accuracy'])\n",
    "\n",
    "model.fit(X_train, y_train,\n",
    "          batch_size=batch_size,\n",
    "          epochs=5,\n",
    "          verbose=1,\n",
    "          validation_split=0.2)"
   ]
  },
  {
   "cell_type": "code",
   "execution_count": 29,
   "id": "406042c5",
   "metadata": {
    "ExecuteTime": {
     "end_time": "2024-01-18T20:06:47.503333Z",
     "start_time": "2024-01-18T20:06:46.475624Z"
    }
   },
   "outputs": [
    {
     "name": "stdout",
     "output_type": "stream",
     "text": [
      "13/13 [==============================] - 1s 73ms/step - loss: 0.7057 - accuracy: 0.7633\n",
      "Test score: 0.7057226300239563\n",
      "Test accuracy: 0.7633107304573059\n"
     ]
    }
   ],
   "source": [
    "score = model.evaluate(X_test, y_test, batch_size=batch_size, verbose=1)\n",
    "\n",
    "metrics_df.loc[len(metrics_df.index)] = ['Simple RNN', score[0], score[1]]\n",
    "\n",
    "print('Test score:', score[0])\n",
    "print('Test accuracy:', score[1])"
   ]
  },
  {
   "cell_type": "markdown",
   "id": "d0cf7b86",
   "metadata": {},
   "source": [
    "### CNN -> Simple RNN"
   ]
  },
  {
   "cell_type": "code",
   "execution_count": 31,
   "id": "98a444f6",
   "metadata": {
    "ExecuteTime": {
     "end_time": "2024-01-18T20:13:06.148627Z",
     "start_time": "2024-01-18T20:12:24.979751Z"
    }
   },
   "outputs": [
    {
     "name": "stdout",
     "output_type": "stream",
     "text": [
      "Epoch 1/5\n",
      "23/23 [==============================] - 9s 361ms/step - loss: 1.0840 - accuracy: 0.6841 - val_loss: 0.8600 - val_accuracy: 0.7228\n",
      "Epoch 2/5\n",
      "23/23 [==============================] - 8s 342ms/step - loss: 0.8439 - accuracy: 0.7210 - val_loss: 0.7509 - val_accuracy: 0.7535\n",
      "Epoch 3/5\n",
      "23/23 [==============================] - 8s 342ms/step - loss: 0.7314 - accuracy: 0.7598 - val_loss: 0.6944 - val_accuracy: 0.7660\n",
      "Epoch 4/5\n",
      "23/23 [==============================] - 8s 348ms/step - loss: 0.6515 - accuracy: 0.7763 - val_loss: 0.6629 - val_accuracy: 0.7746\n",
      "Epoch 5/5\n",
      "23/23 [==============================] - 8s 349ms/step - loss: 0.5926 - accuracy: 0.7905 - val_loss: 0.6563 - val_accuracy: 0.7784\n"
     ]
    },
    {
     "data": {
      "text/plain": [
       "<keras.src.callbacks.History at 0x1d848fc3520>"
      ]
     },
     "execution_count": 31,
     "metadata": {},
     "output_type": "execute_result"
    }
   ],
   "source": [
    "model = Sequential()\n",
    "\n",
    "model.add(Embedding(input_dim=max_words, \n",
    "                    output_dim=128, \n",
    "                    input_length=max_len,\n",
    "                    trainable=True,\n",
    "                    mask_zero=True))\n",
    "model.add(Conv1D(128, 3))\n",
    "model.add(Activation(\"relu\"))\n",
    "model.add(Dropout(0.2))\n",
    "model.add(SimpleRNN(128))\n",
    "model.add(Activation(\"relu\"))\n",
    "model.add(Dropout(0.2))\n",
    "model.add(Flatten())\n",
    "model.add(Dense(10))\n",
    "model.add(Activation(\"relu\"))\n",
    "model.add(Dense(num_classes))\n",
    "model.add(Activation('softmax'))\n",
    "\n",
    "model.compile(loss=SparseCategoricalCrossentropy(),\n",
    "              optimizer='adam',\n",
    "              metrics=['accuracy'])\n",
    "\n",
    "model.fit(X_train, y_train,\n",
    "          batch_size=batch_size,\n",
    "          epochs=5,\n",
    "          verbose=1,\n",
    "          validation_split=0.2)"
   ]
  },
  {
   "cell_type": "code",
   "execution_count": 32,
   "id": "c280b244",
   "metadata": {
    "ExecuteTime": {
     "end_time": "2024-01-18T20:13:41.764216Z",
     "start_time": "2024-01-18T20:13:40.843832Z"
    },
    "scrolled": true
   },
   "outputs": [
    {
     "name": "stdout",
     "output_type": "stream",
     "text": [
      "13/13 [==============================] - 1s 66ms/step - loss: 0.6865 - accuracy: 0.7619\n",
      "Test score: 0.6865180730819702\n",
      "Test accuracy: 0.7618586421012878\n"
     ]
    }
   ],
   "source": [
    "score = model.evaluate(X_test, y_test, batch_size=batch_size, verbose=1)\n",
    "\n",
    "metrics_df.loc[len(metrics_df.index)] = ['CNN -> Simple RNN', score[0], score[1]]\n",
    "\n",
    "print('Test score:', score[0])\n",
    "print('Test accuracy:', score[1])"
   ]
  },
  {
   "cell_type": "markdown",
   "id": "38d7d82a",
   "metadata": {},
   "source": [
    "### SimpleRNN -> CNN"
   ]
  },
  {
   "cell_type": "code",
   "execution_count": 33,
   "id": "ef8f6ddd",
   "metadata": {
    "ExecuteTime": {
     "end_time": "2024-01-18T20:16:07.808020Z",
     "start_time": "2024-01-18T20:14:53.171683Z"
    }
   },
   "outputs": [
    {
     "name": "stdout",
     "output_type": "stream",
     "text": [
      "Epoch 1/5\n",
      "23/23 [==============================] - 13s 514ms/step - loss: 1.2470 - accuracy: 0.6864 - val_loss: 0.8799 - val_accuracy: 0.7197\n",
      "Epoch 2/5\n",
      "23/23 [==============================] - 13s 580ms/step - loss: 0.8306 - accuracy: 0.7315 - val_loss: 0.7393 - val_accuracy: 0.7601\n",
      "Epoch 3/5\n",
      "23/23 [==============================] - 16s 683ms/step - loss: 0.6677 - accuracy: 0.7705 - val_loss: 0.6780 - val_accuracy: 0.7660\n",
      "Epoch 4/5\n",
      "23/23 [==============================] - 16s 694ms/step - loss: 0.5653 - accuracy: 0.7961 - val_loss: 0.7277 - val_accuracy: 0.7705\n",
      "Epoch 5/5\n",
      "23/23 [==============================] - 17s 740ms/step - loss: 0.4860 - accuracy: 0.8247 - val_loss: 0.7904 - val_accuracy: 0.7605\n"
     ]
    },
    {
     "data": {
      "text/plain": [
       "<keras.src.callbacks.History at 0x1d84aff2a90>"
      ]
     },
     "execution_count": 33,
     "metadata": {},
     "output_type": "execute_result"
    }
   ],
   "source": [
    "model = Sequential()\n",
    "\n",
    "model.add(Embedding(input_dim=max_words, \n",
    "                    output_dim=128, \n",
    "                    input_length=max_len,\n",
    "                    trainable=True,\n",
    "                    mask_zero=True))\n",
    "model.add(SimpleRNN(128, return_sequences=True))\n",
    "model.add(Activation(\"relu\"))\n",
    "model.add(Dropout(0.2))\n",
    "model.add(Conv1D(128, 3))\n",
    "model.add(Activation(\"relu\"))\n",
    "model.add(Dropout(0.2))\n",
    "model.add(Flatten())\n",
    "model.add(Dense(10))\n",
    "model.add(Activation(\"relu\"))\n",
    "model.add(Dense(num_classes))\n",
    "model.add(Activation('softmax'))\n",
    "\n",
    "model.compile(loss=SparseCategoricalCrossentropy(),\n",
    "              optimizer='adam',\n",
    "              metrics=['accuracy'])\n",
    "\n",
    "model.fit(X_train, y_train,\n",
    "          batch_size=batch_size,\n",
    "          epochs=5,\n",
    "          verbose=1,\n",
    "          validation_split=0.2)"
   ]
  },
  {
   "cell_type": "code",
   "execution_count": 34,
   "id": "ada76afd",
   "metadata": {
    "ExecuteTime": {
     "end_time": "2024-01-18T20:16:35.562637Z",
     "start_time": "2024-01-18T20:16:34.019475Z"
    }
   },
   "outputs": [
    {
     "name": "stdout",
     "output_type": "stream",
     "text": [
      "13/13 [==============================] - 1s 113ms/step - loss: 0.8262 - accuracy: 0.7399\n",
      "Test score: 0.8261706233024597\n",
      "Test accuracy: 0.7399160861968994\n"
     ]
    }
   ],
   "source": [
    "score = model.evaluate(X_test, y_test, batch_size=batch_size, verbose=1)\n",
    "\n",
    "metrics_df.loc[len(metrics_df.index)] = ['Simple RNN -> CNN', score[0], score[1]]\n",
    "\n",
    "print('Test score:', score[0])\n",
    "print('Test accuracy:', score[1])"
   ]
  },
  {
   "cell_type": "code",
   "execution_count": 35,
   "id": "4a36a66e",
   "metadata": {
    "ExecuteTime": {
     "end_time": "2024-01-18T20:16:44.455622Z",
     "start_time": "2024-01-18T20:16:44.434678Z"
    }
   },
   "outputs": [
    {
     "data": {
      "text/html": [
       "<div>\n",
       "<style scoped>\n",
       "    .dataframe tbody tr th:only-of-type {\n",
       "        vertical-align: middle;\n",
       "    }\n",
       "\n",
       "    .dataframe tbody tr th {\n",
       "        vertical-align: top;\n",
       "    }\n",
       "\n",
       "    .dataframe thead th {\n",
       "        text-align: right;\n",
       "    }\n",
       "</style>\n",
       "<table border=\"1\" class=\"dataframe\">\n",
       "  <thead>\n",
       "    <tr style=\"text-align: right;\">\n",
       "      <th></th>\n",
       "      <th>model</th>\n",
       "      <th>Test score</th>\n",
       "      <th>Test accuracy</th>\n",
       "    </tr>\n",
       "  </thead>\n",
       "  <tbody>\n",
       "    <tr>\n",
       "      <th>0</th>\n",
       "      <td>CNN</td>\n",
       "      <td>0.783891</td>\n",
       "      <td>0.731849</td>\n",
       "    </tr>\n",
       "    <tr>\n",
       "      <th>1</th>\n",
       "      <td>Simple RNN</td>\n",
       "      <td>0.705723</td>\n",
       "      <td>0.763311</td>\n",
       "    </tr>\n",
       "    <tr>\n",
       "      <th>2</th>\n",
       "      <td>CNN -&gt; Simple RNN</td>\n",
       "      <td>0.686518</td>\n",
       "      <td>0.761859</td>\n",
       "    </tr>\n",
       "    <tr>\n",
       "      <th>3</th>\n",
       "      <td>Simple RNN -&gt; CNN</td>\n",
       "      <td>0.826171</td>\n",
       "      <td>0.739916</td>\n",
       "    </tr>\n",
       "  </tbody>\n",
       "</table>\n",
       "</div>"
      ],
      "text/plain": [
       "               model  Test score  Test accuracy\n",
       "0                CNN    0.783891       0.731849\n",
       "1         Simple RNN    0.705723       0.763311\n",
       "2  CNN -> Simple RNN    0.686518       0.761859\n",
       "3  Simple RNN -> CNN    0.826171       0.739916"
      ]
     },
     "execution_count": 35,
     "metadata": {},
     "output_type": "execute_result"
    }
   ],
   "source": [
    "metrics_df"
   ]
  },
  {
   "cell_type": "markdown",
   "id": "2f898749",
   "metadata": {},
   "source": [
    "#### Вывод: наилучший результат показала Simple RNN"
   ]
  }
 ],
 "metadata": {
  "kernelspec": {
   "display_name": "Python 3 (ipykernel)",
   "language": "python",
   "name": "python3"
  },
  "language_info": {
   "codemirror_mode": {
    "name": "ipython",
    "version": 3
   },
   "file_extension": ".py",
   "mimetype": "text/x-python",
   "name": "python",
   "nbconvert_exporter": "python",
   "pygments_lexer": "ipython3",
   "version": "3.9.17"
  },
  "varInspector": {
   "cols": {
    "lenName": 16,
    "lenType": 16,
    "lenVar": 40
   },
   "kernels_config": {
    "python": {
     "delete_cmd_postfix": "",
     "delete_cmd_prefix": "del ",
     "library": "var_list.py",
     "varRefreshCmd": "print(var_dic_list())"
    },
    "r": {
     "delete_cmd_postfix": ") ",
     "delete_cmd_prefix": "rm(",
     "library": "var_list.r",
     "varRefreshCmd": "cat(var_dic_list()) "
    }
   },
   "types_to_exclude": [
    "module",
    "function",
    "builtin_function_or_method",
    "instance",
    "_Feature"
   ],
   "window_display": false
  }
 },
 "nbformat": 4,
 "nbformat_minor": 5
}
