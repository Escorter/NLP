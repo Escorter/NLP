{
 "cells": [
  {
   "cell_type": "markdown",
   "id": "699e897e",
   "metadata": {},
   "source": [
    "### Домашняя работа к уроку 12\n",
    "### Студент: Абрамов А.В."
   ]
  },
  {
   "cell_type": "markdown",
   "id": "5dac9f1c",
   "metadata": {},
   "source": [
    "Реализовать суммаризацию текста"
   ]
  },
  {
   "cell_type": "code",
   "execution_count": 76,
   "id": "b256e622",
   "metadata": {
    "ExecuteTime": {
     "end_time": "2024-01-27T16:23:44.163179Z",
     "start_time": "2024-01-27T16:23:44.158192Z"
    }
   },
   "outputs": [],
   "source": [
    "from datasets import load_dataset\n",
    "import json\n",
    "import random\n",
    "from collections import Counter, namedtuple\n",
    "import razdel\n",
    "import pymorphy2\n",
    "import matplotlib.pyplot as plt\n",
    "from nltk.translate.bleu_score import corpus_bleu\n",
    "from rouge import Rouge\n",
    "import spacy"
   ]
  },
  {
   "cell_type": "code",
   "execution_count": 5,
   "id": "fde27584",
   "metadata": {
    "ExecuteTime": {
     "end_time": "2024-01-27T14:23:43.358666Z",
     "start_time": "2024-01-27T14:22:39.869102Z"
    }
   },
   "outputs": [
    {
     "name": "stderr",
     "output_type": "stream",
     "text": [
      "C:\\ProgramData\\Anaconda3\\lib\\site-packages\\datasets\\load.py:1429: FutureWarning: The repository for IlyaGusev/gazeta contains custom code which must be executed to correctly load the dataset. You can inspect the repository content at https://hf.co/datasets/IlyaGusev/gazeta\n",
      "You can avoid this message in future by passing the argument `trust_remote_code=True`.\n",
      "Passing `trust_remote_code=True` will be mandatory to load this dataset from the next major release of `datasets`.\n",
      "  warnings.warn(\n"
     ]
    },
    {
     "data": {
      "application/vnd.jupyter.widget-view+json": {
       "model_id": "5ea2864337dd4278930a45c62948c1d8",
       "version_major": 2,
       "version_minor": 0
      },
      "text/plain": [
       "Downloading builder script:   0%|          | 0.00/2.98k [00:00<?, ?B/s]"
      ]
     },
     "metadata": {},
     "output_type": "display_data"
    },
    {
     "data": {
      "application/vnd.jupyter.widget-view+json": {
       "model_id": "2b2b6a7f1d66428293c0b7d8dd7ebd05",
       "version_major": 2,
       "version_minor": 0
      },
      "text/plain": [
       "Downloading metadata:   0%|          | 0.00/3.87k [00:00<?, ?B/s]"
      ]
     },
     "metadata": {},
     "output_type": "display_data"
    },
    {
     "data": {
      "application/vnd.jupyter.widget-view+json": {
       "model_id": "c44104d8f91b49c5bf0d0c67db34fb75",
       "version_major": 2,
       "version_minor": 0
      },
      "text/plain": [
       "Downloading readme:   0%|          | 0.00/12.2k [00:00<?, ?B/s]"
      ]
     },
     "metadata": {},
     "output_type": "display_data"
    },
    {
     "data": {
      "application/vnd.jupyter.widget-view+json": {
       "model_id": "e2ccc60310f240de99ec4c59123a2d20",
       "version_major": 2,
       "version_minor": 0
      },
      "text/plain": [
       "Downloading data:   0%|          | 0.00/471M [00:00<?, ?B/s]"
      ]
     },
     "metadata": {},
     "output_type": "display_data"
    },
    {
     "data": {
      "application/vnd.jupyter.widget-view+json": {
       "model_id": "4d31d72cf2db4d5aaf8866f0f2d273b0",
       "version_major": 2,
       "version_minor": 0
      },
      "text/plain": [
       "Downloading data:   0%|          | 0.00/48.6M [00:00<?, ?B/s]"
      ]
     },
     "metadata": {},
     "output_type": "display_data"
    },
    {
     "data": {
      "application/vnd.jupyter.widget-view+json": {
       "model_id": "66f08097dd6941938d36861d3ecb8497",
       "version_major": 2,
       "version_minor": 0
      },
      "text/plain": [
       "Downloading data:   0%|          | 0.00/52.1M [00:00<?, ?B/s]"
      ]
     },
     "metadata": {},
     "output_type": "display_data"
    },
    {
     "data": {
      "application/vnd.jupyter.widget-view+json": {
       "model_id": "154339ea459c4d838fbbf490a0e826a4",
       "version_major": 2,
       "version_minor": 0
      },
      "text/plain": [
       "Generating train split:   0%|          | 0/52400 [00:00<?, ? examples/s]"
      ]
     },
     "metadata": {},
     "output_type": "display_data"
    },
    {
     "data": {
      "application/vnd.jupyter.widget-view+json": {
       "model_id": "9730deafc236407e9c801491e7e0b36e",
       "version_major": 2,
       "version_minor": 0
      },
      "text/plain": [
       "Generating test split:   0%|          | 0/5770 [00:00<?, ? examples/s]"
      ]
     },
     "metadata": {},
     "output_type": "display_data"
    },
    {
     "data": {
      "application/vnd.jupyter.widget-view+json": {
       "model_id": "bbcef0003d074450a7cfe5fdca4d408a",
       "version_major": 2,
       "version_minor": 0
      },
      "text/plain": [
       "Generating validation split:   0%|          | 0/5265 [00:00<?, ? examples/s]"
      ]
     },
     "metadata": {},
     "output_type": "display_data"
    }
   ],
   "source": [
    "dataset = load_dataset('IlyaGusev/gazeta', revision=\"v1.0\")[\"test\"]"
   ]
  },
  {
   "cell_type": "code",
   "execution_count": 8,
   "id": "12b5d472",
   "metadata": {
    "ExecuteTime": {
     "end_time": "2024-01-27T14:25:17.637315Z",
     "start_time": "2024-01-27T14:25:17.629308Z"
    }
   },
   "outputs": [],
   "source": [
    "def read_gazeta_records(file_name, shuffle=True, sort_by_date=False):\n",
    "    assert shuffle != sort_by_date\n",
    "    records = []\n",
    "    with open(file_name, \"r\") as r:\n",
    "        for line in r:\n",
    "            records.append(json.loads(line))\n",
    "    if sort_by_date:\n",
    "        records.sort(key=lambda x: x[\"date\"])\n",
    "    if shuffle:\n",
    "        random.shuffle\n",
    "    return records"
   ]
  },
  {
   "cell_type": "code",
   "execution_count": 60,
   "id": "92c73c2c",
   "metadata": {
    "ExecuteTime": {
     "end_time": "2024-01-27T15:21:25.610970Z",
     "start_time": "2024-01-27T15:21:23.371448Z"
    }
   },
   "outputs": [],
   "source": [
    "train_records = []\n",
    "val_records = []\n",
    "test_records = []\n",
    "\n",
    "with open ('gazeta_train.jsonl', 'r', encoding='utf-8') as f:\n",
    "    for line in f:\n",
    "        train_records.append(json.loads(line))\n",
    "        \n",
    "with open ('gazeta_val.jsonl', 'r', encoding='utf-8') as f:\n",
    "    for line in f:\n",
    "        val_records.append(json.loads(line))\n",
    "\n",
    "with open ('gazeta_test.jsonl', 'r', encoding='utf-8') as f:\n",
    "    for line in f:\n",
    "        test_records.append(json.loads(line))"
   ]
  },
  {
   "cell_type": "code",
   "execution_count": 62,
   "id": "1892ba2c",
   "metadata": {
    "ExecuteTime": {
     "end_time": "2024-01-27T15:25:43.727629Z",
     "start_time": "2024-01-27T15:25:43.721645Z"
    }
   },
   "outputs": [
    {
     "data": {
      "text/plain": [
       "dict_keys(['url', 'text', 'title', 'summary', 'date'])"
      ]
     },
     "execution_count": 62,
     "metadata": {},
     "output_type": "execute_result"
    }
   ],
   "source": [
    "train_records[1].keys()"
   ]
  },
  {
   "cell_type": "code",
   "execution_count": 63,
   "id": "20b0896f",
   "metadata": {
    "ExecuteTime": {
     "end_time": "2024-01-27T15:25:57.152578Z",
     "start_time": "2024-01-27T15:25:57.121431Z"
    }
   },
   "outputs": [
    {
     "name": "stdout",
     "output_type": "stream",
     "text": [
      "2010-06-01 10:35:49 - 2019-05-31 23:56:26\n",
      "2019-06-01 08:30:00 - 2019-09-30 23:11:23\n",
      "2019-10-01 08:23:02 - 2020-03-23 22:16:23\n"
     ]
    }
   ],
   "source": [
    "print(min([record[\"date\"] for record in train_records]), end=' - ')\n",
    "print(max([record[\"date\"] for record in train_records]))\n",
    "print(min([record[\"date\"] for record in val_records]), end=' - ')\n",
    "print(max([record[\"date\"] for record in val_records]))\n",
    "print(min([record[\"date\"] for record in test_records]), end=' - ')\n",
    "print(max([record[\"date\"] for record in test_records]))"
   ]
  },
  {
   "cell_type": "code",
   "execution_count": 65,
   "id": "3eccbb31",
   "metadata": {
    "ExecuteTime": {
     "end_time": "2024-01-27T15:27:21.785463Z",
     "start_time": "2024-01-27T15:27:21.769542Z"
    }
   },
   "outputs": [],
   "source": [
    "Stats = namedtuple(\"Stats\", \"vocabulary,lemma_vocabulary,words_counts,unique_words_counts\")\n",
    "\n",
    "def collect_stats(records, lower=True, text_max_words=3000, summary_max_words=100, nrows=1000):\n",
    "    morph = pymorphy2.MorphAnalyzer()\n",
    "    \n",
    "    text_stats = Stats(Counter(),  Counter(), list(), list())\n",
    "    summary_stats = Stats(Counter(),  Counter(), list(), list())\n",
    "\n",
    "    def update_record_field_stats(field, stats, max_words):\n",
    "        words = [word.text for word in razdel.tokenize(field)][:max_words]\n",
    "        lemmas = [morph.parse(word)[0].normal_form for word in words]\n",
    "        stats.vocabulary.update(words)\n",
    "        stats.lemma_vocabulary.update(lemmas)\n",
    "        stats.words_counts.append(len(words))\n",
    "        stats.unique_words_counts.append(len(set(words)))\n",
    "\n",
    "    for i, record in enumerate(records):\n",
    "        if i >= nrows:\n",
    "            break\n",
    "        text = record[\"text\"]\n",
    "        text = text if not lower else text.lower()\n",
    "        update_record_field_stats(text, text_stats, text_max_words)\n",
    "\n",
    "        summary = record[\"summary\"]\n",
    "        summary = summary if not lower else summary.lower()\n",
    "        summary_words = [word.text for word in razdel.tokenize(summary)]\n",
    "        update_record_field_stats(summary, summary_stats, summary_max_words)\n",
    "    return text_stats, summary_stats"
   ]
  },
  {
   "cell_type": "code",
   "execution_count": 66,
   "id": "0637a3ea",
   "metadata": {
    "ExecuteTime": {
     "end_time": "2024-01-27T16:12:03.126683Z",
     "start_time": "2024-01-27T16:09:50.540382Z"
    }
   },
   "outputs": [
    {
     "name": "stdout",
     "output_type": "stream",
     "text": [
      "Train texts vocabulary size:  82978\n",
      "Train texts lemma vocabulary size:  37851\n",
      "Train summaries vocabulary size:  15441\n",
      "Train summaries lemma vocabulary size:  9030\n",
      "Train common lemmas summary vs text:  8652\n"
     ]
    }
   ],
   "source": [
    "train_text_stats, train_summary_stats = collect_stats(train_records)\n",
    "print(\"Train texts vocabulary size: \", len(train_text_stats.vocabulary))\n",
    "print(\"Train texts lemma vocabulary size: \", len(train_text_stats.lemma_vocabulary))\n",
    "print(\"Train summaries vocabulary size: \", len(train_summary_stats.vocabulary))\n",
    "print(\"Train summaries lemma vocabulary size: \", len(train_summary_stats.lemma_vocabulary))\n",
    "print(\"Train common lemmas summary vs text: \", len(set(train_text_stats.lemma_vocabulary.keys()) & set(train_summary_stats.lemma_vocabulary.keys())))"
   ]
  },
  {
   "cell_type": "code",
   "execution_count": 68,
   "id": "44be8ded",
   "metadata": {
    "ExecuteTime": {
     "end_time": "2024-01-27T16:14:44.987050Z",
     "start_time": "2024-01-27T16:14:44.653005Z"
    }
   },
   "outputs": [
    {
     "data": {
      "image/png": "[encoded data removed]",
      "text/plain": [
       "<Figure size 2000x500 with 2 Axes>"
      ]
     },
     "metadata": {},
     "output_type": "display_data"
    }
   ],
   "source": [
    "fig, axs = plt.subplots(1, 2, figsize=(20, 5))\n",
    "axs[0].hist(train_text_stats.words_counts, 20)\n",
    "axs[0].set_title('# Words in texts')\n",
    "\n",
    "axs[1].hist(train_summary_stats.words_counts, 20)\n",
    "axs[1].set_title('# Words in summary')\n",
    "plt.show()"
   ]
  },
  {
   "cell_type": "code",
   "execution_count": null,
   "id": "5a1550fe",
   "metadata": {},
   "outputs": [],
   "source": []
  }
 ],
 "metadata": {
  "kernelspec": {
   "display_name": "Python 3 (ipykernel)",
   "language": "python",
   "name": "python3"
  },
  "language_info": {
   "codemirror_mode": {
    "name": "ipython",
    "version": 3
   },
   "file_extension": ".py",
   "mimetype": "text/x-python",
   "name": "python",
   "nbconvert_exporter": "python",
   "pygments_lexer": "ipython3",
   "version": "3.9.17"
  },
  "varInspector": {
   "cols": {
    "lenName": 16,
    "lenType": 16,
    "lenVar": 40
   },
   "kernels_config": {
    "python": {
     "delete_cmd_postfix": "",
     "delete_cmd_prefix": "del ",
     "library": "var_list.py",
     "varRefreshCmd": "print(var_dic_list())"
    },
    "r": {
     "delete_cmd_postfix": ") ",
     "delete_cmd_prefix": "rm(",
     "library": "var_list.r",
     "varRefreshCmd": "cat(var_dic_list()) "
    }
   },
   "types_to_exclude": [
    "module",
    "function",
    "builtin_function_or_method",
    "instance",
    "_Feature"
   ],
   "window_display": false
  }
 },
 "nbformat": 4,
 "nbformat_minor": 5
}
