{
 "cells": [
  {
   "cell_type": "markdown",
   "id": "4780d059",
   "metadata": {},
   "source": [
    "### Домашняя работа к уроку 10\n",
    "### Студент: Абрамов А.В."
   ]
  },
  {
   "cell_type": "markdown",
   "id": "ce7e68bb",
   "metadata": {},
   "source": [
    "Разобраться с моделькой перевода (без механизма внимания) как она устроена, запустить для перевода с русского на английский (при желании можно взять другие пары языков)"
   ]
  },
  {
   "cell_type": "code",
   "execution_count": 23,
   "id": "93622053",
   "metadata": {
    "ExecuteTime": {
     "end_time": "2024-01-14T16:35:56.651409Z",
     "start_time": "2024-01-14T16:35:56.641436Z"
    }
   },
   "outputs": [],
   "source": [
    "import tensorflow as tf\n",
    "\n",
    "import matplotlib.pyplot as plt\n",
    "import matplotlib.ticker as ticker\n",
    "from sklearn.model_selection import train_test_split\n",
    "from keras.layers import GRU, Concatenate\n",
    "\n",
    "import unicodedata\n",
    "import re\n",
    "import numpy as np\n",
    "import os\n",
    "import io\n",
    "import time"
   ]
  },
  {
   "cell_type": "code",
   "execution_count": 11,
   "id": "677ae610",
   "metadata": {
    "ExecuteTime": {
     "end_time": "2024-01-14T16:20:41.735807Z",
     "start_time": "2024-01-14T16:20:41.729823Z"
    }
   },
   "outputs": [],
   "source": [
    "path_to_file = \"./rus-eng/rus.txt\""
   ]
  },
  {
   "cell_type": "code",
   "execution_count": 5,
   "id": "3955f25f",
   "metadata": {
    "ExecuteTime": {
     "end_time": "2024-01-14T16:10:16.062014Z",
     "start_time": "2024-01-14T16:10:16.049049Z"
    }
   },
   "outputs": [],
   "source": [
    "def preprocess_sentence(w):\n",
    "    w = w.lower().strip()\n",
    "  \n",
    "    # creating a space between a word and the punctuation following it\n",
    "    # eg: \"he is a boy.\" => \"he is a boy .\"\n",
    "    # Reference:- https://stackoverflow.com/questions/3645931/python-padding-punctuation-with-white-spaces-keeping-punctuation\n",
    "    w = re.sub(r\"([?.!,])\", r\" \\1 \", w)\n",
    "    w = re.sub(r'[\" \"]+', \" \", w)\n",
    "  \n",
    "    # replacing everything with space except (a-z, A-Z, \".\", \"?\", \"!\", \",\")\n",
    "    w = re.sub(r\"[^a-zA-Zа-яА-Я?.!,']+\", \" \", w)\n",
    "  \n",
    "    w = w.strip()\n",
    "  \n",
    "    # adding a start and an end token to the sentence\n",
    "    # so that the model know when to start and stop predicting.\n",
    "    w = '<start> ' + w + ' <end>'\n",
    "    return w"
   ]
  },
  {
   "cell_type": "code",
   "execution_count": 6,
   "id": "f46b08a0",
   "metadata": {
    "ExecuteTime": {
     "end_time": "2024-01-14T16:11:51.852922Z",
     "start_time": "2024-01-14T16:11:51.840979Z"
    }
   },
   "outputs": [
    {
     "data": {
      "text/plain": [
       "\"<start> i can't go . <end>\""
      ]
     },
     "execution_count": 6,
     "metadata": {},
     "output_type": "execute_result"
    }
   ],
   "source": [
    "preprocess_sentence(\"I can't go.\")"
   ]
  },
  {
   "cell_type": "code",
   "execution_count": 12,
   "id": "91709150",
   "metadata": {
    "ExecuteTime": {
     "end_time": "2024-01-14T16:20:47.251820Z",
     "start_time": "2024-01-14T16:20:47.240835Z"
    }
   },
   "outputs": [],
   "source": [
    "# 1. Remove the accents\n",
    "# 2. Clean the sentences\n",
    "# 3. Return word pairs in the format: [ENG, RUS]\n",
    "def create_dataset(path, num_examples):\n",
    "    lines = io.open(path, encoding='UTF-8').read().strip().split('\\n')\n",
    "  \n",
    "    word_pairs = [[preprocess_sentence(w) for w in l.split('\\t')[:2]]  for l in lines[:num_examples]]\n",
    "  \n",
    "    return zip(*word_pairs)"
   ]
  },
  {
   "cell_type": "code",
   "execution_count": 13,
   "id": "31020518",
   "metadata": {
    "ExecuteTime": {
     "end_time": "2024-01-14T16:20:57.882337Z",
     "start_time": "2024-01-14T16:20:48.472979Z"
    }
   },
   "outputs": [
    {
     "name": "stdout",
     "output_type": "stream",
     "text": [
      "<start> go . <end>\n",
      "<start> марш ! <end>\n"
     ]
    }
   ],
   "source": [
    "en, ru = create_dataset(path_to_file, None)\n",
    "print(en[0])\n",
    "print(ru[0])"
   ]
  },
  {
   "cell_type": "code",
   "execution_count": 14,
   "id": "554de081",
   "metadata": {
    "ExecuteTime": {
     "end_time": "2024-01-14T16:24:01.301821Z",
     "start_time": "2024-01-14T16:24:01.296862Z"
    }
   },
   "outputs": [],
   "source": [
    "def tokenize(lang):\n",
    "    lang_tokenizer = tf.keras.preprocessing.text.Tokenizer(filters='')\n",
    "    lang_tokenizer.fit_on_texts(lang)\n",
    "  \n",
    "    tensor = lang_tokenizer.texts_to_sequences(lang)\n",
    "  \n",
    "    tensor = tf.keras.preprocessing.sequence.pad_sequences(tensor, padding='post')\n",
    "  \n",
    "    return tensor, lang_tokenizer"
   ]
  },
  {
   "cell_type": "code",
   "execution_count": 15,
   "id": "9e5ae649",
   "metadata": {
    "ExecuteTime": {
     "end_time": "2024-01-14T16:24:31.641724Z",
     "start_time": "2024-01-14T16:24:31.633721Z"
    }
   },
   "outputs": [],
   "source": [
    "def load_dataset(path, num_examples=None):\n",
    "    # creating cleaned input, output pairs\n",
    "    targ_lang, inp_lang = create_dataset(path, num_examples)\n",
    "  \n",
    "    input_tensor, inp_lang_tokenizer = tokenize(inp_lang)\n",
    "    target_tensor, targ_lang_tokenizer = tokenize(targ_lang)\n",
    "  \n",
    "    return input_tensor, target_tensor, inp_lang_tokenizer, targ_lang_tokenizer"
   ]
  },
  {
   "cell_type": "code",
   "execution_count": 16,
   "id": "86feffa1",
   "metadata": {
    "ExecuteTime": {
     "end_time": "2024-01-14T16:26:38.429574Z",
     "start_time": "2024-01-14T16:26:38.417631Z"
    }
   },
   "outputs": [
    {
     "data": {
      "text/plain": [
       "(487600, 487600)"
      ]
     },
     "execution_count": 16,
     "metadata": {},
     "output_type": "execute_result"
    }
   ],
   "source": [
    "len(en), len(ru)"
   ]
  },
  {
   "cell_type": "code",
   "execution_count": 17,
   "id": "43775f02",
   "metadata": {
    "ExecuteTime": {
     "end_time": "2024-01-14T16:27:03.397838Z",
     "start_time": "2024-01-14T16:26:58.697407Z"
    }
   },
   "outputs": [],
   "source": [
    "# Try experimenting with the size of that dataset\n",
    "num_examples = 100000\n",
    "input_tensor, target_tensor, inp_lang, targ_lang = load_dataset(path_to_file, num_examples)\n",
    "\n",
    "# Calculate max_length of the target tensors\n",
    "max_length_targ, max_length_inp = target_tensor.shape[1], input_tensor.shape[1]"
   ]
  },
  {
   "cell_type": "code",
   "execution_count": 18,
   "id": "d7cfb1b5",
   "metadata": {
    "ExecuteTime": {
     "end_time": "2024-01-14T16:27:17.767393Z",
     "start_time": "2024-01-14T16:27:17.745479Z"
    }
   },
   "outputs": [
    {
     "name": "stdout",
     "output_type": "stream",
     "text": [
      "80000 80000 20000 20000\n"
     ]
    }
   ],
   "source": [
    "# Creating training and validation sets using an 80-20 split\n",
    "input_tensor_train, input_tensor_val, target_tensor_train, target_tensor_val = train_test_split(input_tensor, target_tensor, test_size=0.2)\n",
    "\n",
    "# Show length\n",
    "print(len(input_tensor_train), len(target_tensor_train), len(input_tensor_val), len(target_tensor_val))"
   ]
  },
  {
   "cell_type": "code",
   "execution_count": 19,
   "id": "7e4b7d32",
   "metadata": {
    "ExecuteTime": {
     "end_time": "2024-01-14T16:28:23.356946Z",
     "start_time": "2024-01-14T16:28:23.346004Z"
    }
   },
   "outputs": [],
   "source": [
    "def convert(lang, tensor):\n",
    "    for t in tensor:\n",
    "        if t!=0:\n",
    "            print (\"%d ----> %s\" % (t, lang.index_word[t]))"
   ]
  },
  {
   "cell_type": "code",
   "execution_count": 20,
   "id": "4cf6604b",
   "metadata": {
    "ExecuteTime": {
     "end_time": "2024-01-14T16:28:43.864954Z",
     "start_time": "2024-01-14T16:28:43.857004Z"
    }
   },
   "outputs": [
    {
     "name": "stdout",
     "output_type": "stream",
     "text": [
      "Input Language; index to word mapping\n",
      "1 ----> <start>\n",
      "4 ----> я\n",
      "52 ----> хочу\n",
      "9 ----> ,\n",
      "106 ----> чтобы\n",
      "10 ----> ты\n",
      "26 ----> его\n",
      "1125 ----> попробовал\n",
      "3 ----> .\n",
      "2 ----> <end>\n",
      "\n",
      "Target Language; index to word mapping\n",
      "1 ----> <start>\n",
      "4 ----> i\n",
      "44 ----> want\n",
      "7 ----> you\n",
      "11 ----> to\n",
      "107 ----> try\n",
      "10 ----> it\n",
      "3 ----> .\n",
      "2 ----> <end>\n"
     ]
    }
   ],
   "source": [
    "print (\"Input Language; index to word mapping\")\n",
    "convert(inp_lang, input_tensor_train[0])\n",
    "print ()\n",
    "print (\"Target Language; index to word mapping\")\n",
    "convert(targ_lang, target_tensor_train[0])"
   ]
  },
  {
   "cell_type": "code",
   "execution_count": 21,
   "id": "b647f388",
   "metadata": {
    "ExecuteTime": {
     "end_time": "2024-01-14T16:32:10.106099Z",
     "start_time": "2024-01-14T16:32:10.065221Z"
    }
   },
   "outputs": [],
   "source": [
    "BUFFER_SIZE = len(input_tensor_train)\n",
    "BATCH_SIZE = 64\n",
    "steps_per_epoch = len(input_tensor_train)//BATCH_SIZE\n",
    "embedding_dim = 300\n",
    "units = 1024\n",
    "vocab_inp_size = len(inp_lang.word_index)+1\n",
    "vocab_tar_size = len(targ_lang.word_index)+1\n",
    "\n",
    "dataset = tf.data.Dataset.from_tensor_slices((input_tensor_train, target_tensor_train)).shuffle(BUFFER_SIZE)\n",
    "dataset = dataset.batch(BATCH_SIZE, drop_remainder=True)"
   ]
  },
  {
   "cell_type": "code",
   "execution_count": 22,
   "id": "c8f0063c",
   "metadata": {
    "ExecuteTime": {
     "end_time": "2024-01-14T16:32:20.995957Z",
     "start_time": "2024-01-14T16:32:20.841396Z"
    }
   },
   "outputs": [
    {
     "data": {
      "text/plain": [
       "(TensorShape([64, 15]), TensorShape([64, 11]))"
      ]
     },
     "execution_count": 22,
     "metadata": {},
     "output_type": "execute_result"
    }
   ],
   "source": [
    "example_input_batch, example_target_batch = next(iter(dataset))\n",
    "example_input_batch.shape, example_target_batch.shape"
   ]
  },
  {
   "cell_type": "code",
   "execution_count": 24,
   "id": "b7f71092",
   "metadata": {
    "ExecuteTime": {
     "end_time": "2024-01-14T16:38:23.780646Z",
     "start_time": "2024-01-14T16:38:23.761722Z"
    }
   },
   "outputs": [],
   "source": [
    "class Encoder(tf.keras.Model):\n",
    "    def __init__(self, vocab_size, embedding_dim, enc_units, batch_sz):\n",
    "        super(Encoder, self).__init__()\n",
    "        self.batch_sz = batch_sz\n",
    "        self.enc_units = enc_units\n",
    "        self.embedding = tf.keras.layers.Embedding(vocab_size, embedding_dim)\n",
    "        self.gru = tf.keras.layers.Bidirectional(GRU(self.enc_units,\n",
    "                                   return_sequences=False,\n",
    "                                   return_state=True,\n",
    "                                   recurrent_initializer='glorot_uniform'))\n",
    "    \n",
    "\n",
    "    def call(self, x, hidden):\n",
    "        x = self.embedding(x)\n",
    "        output, state_frw, state_bcw = self.gru(x, initial_state = hidden)\n",
    "        return state_frw, state_bcw\n",
    "\n",
    "    # def initialize_hidden_state(self):\n",
    "    #     return tf.zeros((self.batch_sz, self.enc_units))\n",
    "\n",
    "    def initialize_hidden_state(self):\n",
    "        return [tf.zeros((self.batch_sz, self.enc_units)) for i in range(2)]"
   ]
  },
  {
   "cell_type": "code",
   "execution_count": 25,
   "id": "ff1bb110",
   "metadata": {
    "ExecuteTime": {
     "end_time": "2024-01-14T16:38:37.724364Z",
     "start_time": "2024-01-14T16:38:37.417210Z"
    }
   },
   "outputs": [
    {
     "name": "stdout",
     "output_type": "stream",
     "text": [
      "Encoder forward_h shape: (batch size, units) (64, 1024)\n",
      "Encoder backward_h shape: (batch size, units) (64, 1024)\n"
     ]
    }
   ],
   "source": [
    "encoder = Encoder(vocab_inp_size, embedding_dim, units, BATCH_SIZE)\n",
    "# sample input\n",
    "encoder = Encoder(vocab_inp_size, embedding_dim, units, BATCH_SIZE)\n",
    "sample_hidden = encoder.initialize_hidden_state()\n",
    "forward_hidden, backward_hidden = encoder(example_input_batch, sample_hidden)\n",
    "print('Encoder forward_h shape: (batch size, units) {}'.format(forward_hidden.shape))\n",
    "print('Encoder backward_h shape: (batch size, units) {}'.format(backward_hidden.shape))"
   ]
  },
  {
   "cell_type": "code",
   "execution_count": 26,
   "id": "0cf865ae",
   "metadata": {
    "ExecuteTime": {
     "end_time": "2024-01-14T16:40:47.774310Z",
     "start_time": "2024-01-14T16:40:47.761346Z"
    }
   },
   "outputs": [],
   "source": [
    "class Decoder(tf.keras.Model):\n",
    "    def __init__(self, vocab_size, embedding_dim, dec_units, batch_sz):\n",
    "        super(Decoder, self).__init__()\n",
    "        self.batch_sz = batch_sz\n",
    "        self.dec_units = dec_units\n",
    "        self.embedding = tf.keras.layers.Embedding(vocab_size, embedding_dim)\n",
    "        self.gru = tf.keras.layers.GRU(2*self.dec_units,\n",
    "                                       return_sequences=True,\n",
    "                                       return_state=True,\n",
    "                                       recurrent_initializer='glorot_uniform')\n",
    "        self.fc = tf.keras.layers.Dense(vocab_size)\n",
    "\n",
    "    def call(self, x, encoder_fwd_state, encoder_back_state):\n",
    "        # enc_output shape == (batch_size, max_length, hidden_size)\n",
    "\n",
    "        # x shape after passing through embedding == (batch_size, 1, embedding_dim)\n",
    "        x = self.embedding(x)\n",
    "\n",
    "        # x shape after concatenation == (batch_size, 1, embedding_dim + hidden_size)\n",
    "\n",
    "        # passing the concatenated vector to the GRU\n",
    "        output, state = self.gru(x, initial_state=Concatenate(axis=-1)([encoder_fwd_state, encoder_back_state]))\n",
    "\n",
    "        # output shape == (batch_size * 1, hidden_size)\n",
    "        output = tf.reshape(output, (-1, output.shape[2]))\n",
    "\n",
    "        # output shape == (batch_size, vocab)\n",
    "        x = self.fc(output)\n",
    "\n",
    "        return x, state"
   ]
  },
  {
   "cell_type": "code",
   "execution_count": 27,
   "id": "bfffabf2",
   "metadata": {
    "ExecuteTime": {
     "end_time": "2024-01-14T17:21:03.963840Z",
     "start_time": "2024-01-14T17:21:03.762354Z"
    }
   },
   "outputs": [],
   "source": [
    "decoder = Decoder(vocab_tar_size, embedding_dim, units, BATCH_SIZE)\n",
    "\n",
    "decoder_sample_x, decoder_sample_h = decoder(tf.random.uniform((BATCH_SIZE, 1)),\n",
    "                                      forward_hidden, backward_hidden)"
   ]
  },
  {
   "cell_type": "code",
   "execution_count": 28,
   "id": "2267de06",
   "metadata": {
    "ExecuteTime": {
     "end_time": "2024-01-14T17:21:26.095067Z",
     "start_time": "2024-01-14T17:21:26.089084Z"
    }
   },
   "outputs": [
    {
     "data": {
      "text/plain": [
       "TensorShape([64, 7356])"
      ]
     },
     "execution_count": 28,
     "metadata": {},
     "output_type": "execute_result"
    }
   ],
   "source": [
    "decoder_sample_x.shape"
   ]
  },
  {
   "cell_type": "code",
   "execution_count": 29,
   "id": "37d96616",
   "metadata": {
    "ExecuteTime": {
     "end_time": "2024-01-14T17:21:37.645051Z",
     "start_time": "2024-01-14T17:21:37.626101Z"
    }
   },
   "outputs": [
    {
     "data": {
      "text/plain": [
       "TensorShape([64, 2048])"
      ]
     },
     "execution_count": 29,
     "metadata": {},
     "output_type": "execute_result"
    }
   ],
   "source": [
    "decoder_sample_h.shape"
   ]
  },
  {
   "cell_type": "code",
   "execution_count": 30,
   "id": "e7a162c3",
   "metadata": {
    "ExecuteTime": {
     "end_time": "2024-01-14T17:28:00.148045Z",
     "start_time": "2024-01-14T17:28:00.130114Z"
    }
   },
   "outputs": [],
   "source": [
    "optimizer = tf.keras.optimizers.Adam()\n",
    "\n",
    "loss_object = tf.keras.losses.SparseCategoricalCrossentropy(\n",
    "    from_logits=True, reduction='none')\n",
    "\n",
    "def loss_function(real, pred):\n",
    "    mask = tf.math.logical_not(tf.math.equal(real, 0))\n",
    "    loss_ = loss_object(real, pred)\n",
    "  \n",
    "    mask = tf.cast(mask, dtype=loss_.dtype)\n",
    "    loss_ *= mask\n",
    "  \n",
    "    return tf.reduce_mean(loss_)"
   ]
  },
  {
   "cell_type": "code",
   "execution_count": 34,
   "id": "0dd2de96",
   "metadata": {
    "ExecuteTime": {
     "end_time": "2024-01-14T20:10:27.273430Z",
     "start_time": "2024-01-14T20:10:27.266446Z"
    }
   },
   "outputs": [],
   "source": [
    "checkpoint_dir = '/training_nmt_checkpoints'\n",
    "\n",
    "checkpoint_prefix = os.path.join(checkpoint_dir, \"ckpt\")\n",
    "\n",
    "checkpoint = tf.train.Checkpoint(optimizer=optimizer,\n",
    "                                 encoder=encoder,\n",
    "                                 decoder=decoder)"
   ]
  },
  {
   "cell_type": "code",
   "execution_count": 35,
   "id": "c425b974",
   "metadata": {
    "ExecuteTime": {
     "end_time": "2024-01-14T20:10:32.856244Z",
     "start_time": "2024-01-14T20:10:32.842281Z"
    }
   },
   "outputs": [],
   "source": [
    "@tf.function\n",
    "def train_step(inp, targ, enc_hidden):\n",
    "    loss = 0\n",
    "  \n",
    "    with tf.GradientTape() as tape:\n",
    "        enc_hidden = encoder(inp, enc_hidden)\n",
    "    \n",
    "        forward_hidden, backward_hidden = enc_hidden\n",
    "    \n",
    "        dec_input = tf.expand_dims([targ_lang.word_index['<start>']] * BATCH_SIZE, 1)\n",
    "    \n",
    "        # Teacher forcing - feeding the target as the next input\n",
    "        for t in range(1, targ.shape[1]): # Максимальная длина последовательности \n",
    "            # passing enc_output to the decoder\n",
    "            predictions, dec_hidden = decoder(dec_input, forward_hidden, backward_hidden)\n",
    "       \n",
    "            # считаем лосс по каждому предсказанному слову\n",
    "            loss += loss_function(targ[:, t], predictions)\n",
    "      \n",
    "            # using teacher forcing\n",
    "            dec_input = tf.expand_dims(targ[:, t], 1)\n",
    "  \n",
    "    batch_loss = (loss / int(targ.shape[1]))\n",
    "  \n",
    "    variables = encoder.trainable_variables + decoder.trainable_variables\n",
    "  \n",
    "    gradients = tape.gradient(loss, variables)\n",
    "  \n",
    "    optimizer.apply_gradients(zip(gradients, variables))\n",
    "  \n",
    "    return batch_loss"
   ]
  },
  {
   "cell_type": "code",
   "execution_count": 36,
   "id": "fdc657e4",
   "metadata": {
    "ExecuteTime": {
     "end_time": "2024-01-14T20:37:44.564562Z",
     "start_time": "2024-01-14T20:10:51.402189Z"
    }
   },
   "outputs": [
    {
     "name": "stdout",
     "output_type": "stream",
     "text": [
      "Epoch 1 Batch 0 Loss 0.2930\n",
      "Epoch 1 Batch 100 Loss 0.2796\n",
      "Epoch 1 Batch 200 Loss 0.3141\n",
      "Epoch 1 Batch 300 Loss 0.2221\n",
      "Epoch 1 Batch 400 Loss 0.2672\n",
      "Epoch 1 Batch 500 Loss 0.2723\n",
      "Epoch 1 Batch 600 Loss 0.2372\n",
      "Epoch 1 Batch 700 Loss 0.3289\n",
      "Epoch 1 Batch 800 Loss 0.2554\n",
      "Epoch 1 Batch 900 Loss 0.2523\n",
      "Epoch 1 Batch 1000 Loss 0.2246\n",
      "Epoch 1 Batch 1100 Loss 0.1874\n",
      "Epoch 1 Batch 1200 Loss 0.3320\n",
      "Epoch 1 Loss 0.2781\n",
      "Time taken for 1 epoch 1613.1543941497803 sec\n",
      "\n"
     ]
    }
   ],
   "source": [
    "EPOCHS = 1\n",
    "\n",
    "for epoch in range(EPOCHS):\n",
    "    start = time.time()\n",
    "  \n",
    "    enc_hidden = encoder.initialize_hidden_state()\n",
    "    total_loss = 0\n",
    "  \n",
    "    for (batch, (inp, targ)) in enumerate(dataset.take(steps_per_epoch)):\n",
    "        batch_loss = train_step(inp, targ, enc_hidden)\n",
    "        total_loss += batch_loss\n",
    "    \n",
    "        if batch % 100 == 0:\n",
    "          print('Epoch {} Batch {} Loss {:.4f}'.format(epoch + 1,\n",
    "                                                       batch,\n",
    "                                                       batch_loss.numpy()))\n",
    "    # saving (checkpoint) the model every 2 epochs\n",
    "    if (epoch + 1) % 2 == 0:\n",
    "        checkpoint.save(file_prefix = checkpoint_prefix)\n",
    "  \n",
    "    print('Epoch {} Loss {:.4f}'.format(epoch + 1,\n",
    "                                        total_loss / steps_per_epoch))\n",
    "    print('Time taken for 1 epoch {} sec\\n'.format(time.time() - start))"
   ]
  },
  {
   "cell_type": "code",
   "execution_count": 38,
   "id": "82f8c2ba",
   "metadata": {
    "ExecuteTime": {
     "end_time": "2024-01-14T20:49:26.957465Z",
     "start_time": "2024-01-14T20:49:26.938541Z"
    }
   },
   "outputs": [],
   "source": [
    "def evaluate(sentence):\n",
    "    attention_plot = np.zeros((max_length_targ, max_length_inp))\n",
    "  \n",
    "    sentence = preprocess_sentence(sentence)\n",
    "  \n",
    "    inputs = [inp_lang.word_index[i] for i in sentence.split(' ')]\n",
    "    inputs = tf.keras.preprocessing.sequence.pad_sequences([inputs],\n",
    "                                                           maxlen=max_length_inp,\n",
    "                                                           padding='post')\n",
    "    inputs = tf.convert_to_tensor(inputs)\n",
    "  \n",
    "    result = ''\n",
    "  \n",
    "    hidden = [tf.zeros((1, units)) for i in range(2)]\n",
    "    enc_hidden = encoder(inputs, hidden)\n",
    "  \n",
    "    forward_hidden, backward_hidden = enc_hidden\n",
    "  \n",
    "    dec_input = tf.expand_dims([targ_lang.word_index['<start>']], 0)\n",
    "  \n",
    "    for t in range(max_length_targ):\n",
    "        predictions, dec_hidden = decoder(dec_input, forward_hidden, backward_hidden)\n",
    "    \n",
    "        # storing the attention weights to plot later on\n",
    "        predicted_id = tf.argmax(predictions[0]).numpy()\n",
    "        result += targ_lang.index_word[predicted_id] + ' '\n",
    "    \n",
    "        if targ_lang.index_word[predicted_id] == '<end>':\n",
    "          return result, sentence\n",
    "    \n",
    "        # the predicted ID is fed back into the model\n",
    "        dec_input = tf.expand_dims([predicted_id], 0)\n",
    "  \n",
    "    return result, sentence"
   ]
  },
  {
   "cell_type": "code",
   "execution_count": 39,
   "id": "03e8c1b4",
   "metadata": {
    "ExecuteTime": {
     "end_time": "2024-01-14T20:49:30.065646Z",
     "start_time": "2024-01-14T20:49:30.057667Z"
    }
   },
   "outputs": [],
   "source": [
    "def translate(sentence):\n",
    "    result, sentence = evaluate(sentence)\n",
    "  \n",
    "    print('Input: %s' % (sentence))\n",
    "    print('Predicted translation: {}'.format(result))"
   ]
  },
  {
   "cell_type": "code",
   "execution_count": 41,
   "id": "ef435669",
   "metadata": {
    "ExecuteTime": {
     "end_time": "2024-01-14T20:49:54.631558Z",
     "start_time": "2024-01-14T20:49:54.466532Z"
    }
   },
   "outputs": [
    {
     "name": "stdout",
     "output_type": "stream",
     "text": [
      "Input: <start> я не боюсь . <end>\n",
      "Predicted translation: i'm not afraid . <end> \n"
     ]
    }
   ],
   "source": [
    "translate('Я не боюсь.')"
   ]
  },
  {
   "cell_type": "code",
   "execution_count": 42,
   "id": "f2333d95",
   "metadata": {
    "ExecuteTime": {
     "end_time": "2024-01-14T20:50:17.968040Z",
     "start_time": "2024-01-14T20:50:17.794529Z"
    }
   },
   "outputs": [
    {
     "name": "stdout",
     "output_type": "stream",
     "text": [
      "Input: <start> здесь очень жарко . <end>\n",
      "Predicted translation: it's very hot here . <end> \n"
     ]
    }
   ],
   "source": [
    "translate('Здесь очень жарко.')"
   ]
  },
  {
   "cell_type": "code",
   "execution_count": 44,
   "id": "d5b68f33",
   "metadata": {
    "ExecuteTime": {
     "end_time": "2024-01-14T20:51:14.521811Z",
     "start_time": "2024-01-14T20:51:14.319295Z"
    }
   },
   "outputs": [
    {
     "name": "stdout",
     "output_type": "stream",
     "text": [
      "Input: <start> он приехал на коне . <end>\n",
      "Predicted translation: he went by a walk . <end> \n"
     ]
    }
   ],
   "source": [
    "translate('Он приехал на коне.')"
   ]
  },
  {
   "cell_type": "code",
   "execution_count": null,
   "id": "cb91abd7",
   "metadata": {},
   "outputs": [],
   "source": []
  }
 ],
 "metadata": {
  "kernelspec": {
   "display_name": "Python 3 (ipykernel)",
   "language": "python",
   "name": "python3"
  },
  "language_info": {
   "codemirror_mode": {
    "name": "ipython",
    "version": 3
   },
   "file_extension": ".py",
   "mimetype": "text/x-python",
   "name": "python",
   "nbconvert_exporter": "python",
   "pygments_lexer": "ipython3",
   "version": "3.9.17"
  },
  "varInspector": {
   "cols": {
    "lenName": 16,
    "lenType": 16,
    "lenVar": 40
   },
   "kernels_config": {
    "python": {
     "delete_cmd_postfix": "",
     "delete_cmd_prefix": "del ",
     "library": "var_list.py",
     "varRefreshCmd": "print(var_dic_list())"
    },
    "r": {
     "delete_cmd_postfix": ") ",
     "delete_cmd_prefix": "rm(",
     "library": "var_list.r",
     "varRefreshCmd": "cat(var_dic_list()) "
    }
   },
   "types_to_exclude": [
    "module",
    "function",
    "builtin_function_or_method",
    "instance",
    "_Feature"
   ],
   "window_display": false
  }
 },
 "nbformat": 4,
 "nbformat_minor": 5
}
